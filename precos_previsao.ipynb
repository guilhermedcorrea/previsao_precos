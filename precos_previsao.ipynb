{
 "cells": [
  {
   "cell_type": "code",
   "execution_count": 326,
   "metadata": {},
   "outputs": [],
   "source": [
    "from sklearn.preprocessing import LabelEncoder, MinMaxScaler\n",
    "from sklearn.ensemble import RandomForestRegressor\n",
    "from sklearn.metrics import mean_squared_error\n",
    "from datetime import datetime\n",
    "import pandas as pd\n",
    "import numpy as np\n",
    "import os\n",
    "from sqlalchemy import text\n",
    "import plotly.express as px\n",
    "import plotly.graph_objects as go\n",
    "from itertools import chain\n",
    "\n"
   ]
  },
  {
   "cell_type": "code",
   "execution_count": 327,
   "metadata": {},
   "outputs": [],
   "source": [
    "def retorna_venda_item():\n",
    "\n",
    "    call = (text(\"\"\"\"\"\"))\n",
    "\n",
    "    return call\n",
    "                   "
   ]
  },
  {
   "cell_type": "code",
   "execution_count": 328,
   "metadata": {},
   "outputs": [],
   "source": [
    "from sqlalchemy import create_engine\n",
    "from sqlalchemy.orm import sessionmaker\n",
    "from sqlalchemy import create_engine\n",
    "from sqlalchemy.engine import URL\n",
    "import os\n",
    "from pathlib import Path\n",
    "\n",
    "\n",
    "myboxhost_mssql= os.getenv()\n",
    "myboxuser_mssql= os.getenv()\n",
    "myboxdatabase_mssql= os.getenv()\n",
    "myboxpassword_mssql= os.getenv()\n",
    "\n",
    "\n",
    "\n",
    "def mssql_get_conn():\n",
    "\n",
    "    connection_url = URL.create(\n",
    "            \"mssql+pyodbc\",\n",
    "            username=\"myboxhost_mssql\",\n",
    "            password=\"myboxpassword_mssql\",\n",
    "            host=\"myboxhost_mssql\",\n",
    "            database=\"myboxdatabase_mssql\",\n",
    "            query={\n",
    "                \"driver\": \"ODBC Driver 17 for SQL Server\",\n",
    "                \"autocommit\": \"True\",\n",
    "        },\n",
    "        )\n",
    "      \n",
    "    engine = create_engine(connection_url).execution_options(\n",
    "    isolation_level=\"AUTOCOMMIT\", future=True,fast_executemany=True)\n",
    "    return engine"
   ]
  },
  {
   "cell_type": "code",
   "execution_count": 329,
   "metadata": {},
   "outputs": [],
   "source": [
    "def get_ambientados():\n",
    "    enginemssql = mssql_get_conn()\n",
    "    with enginemssql.begin() as conn:\n",
    "        items = retorna_venda_item()\n",
    " \n",
    "        get_items = conn.execute(items).all()\n",
    "        dict_tems = [row._asdict() for row in get_items]\n",
    "        return dict_tems\n",
    "    \n",
    "testes = get_ambientados()\n"
   ]
  },
  {
   "cell_type": "code",
   "execution_count": null,
   "metadata": {},
   "outputs": [],
   "source": [
    "data = pd.DataFrame(testes)\n",
    "data.dropna()\n",
    "\n",
    "\n",
    "data.columns\n",
    "precos_df = data[['vendaId', 'produtoId', 'quantidade', 'valorUnitario', 'total',\n",
    "       'dataCadastro', 'valorUnitarioCusto', 'valorFrete','nomeunidade']]\n",
    "\n",
    "precos_df['dataCadastro'] = precos_df['dataCadastro'].apply(lambda x: pd.Timestamp(x).strftime('%Y-%m-%d'))\n",
    "precos_df['produtoId'] = precos_df['produtoId'].astype(int)\n",
    "\n",
    "contagem = precos_df['produtoId'].value_counts().reset_index()\n",
    "contagem\n",
    "\n",
    "\n",
    "merged = pd.merge(precos_df,contagem, left_on='produtoId', right_on='index', how='left')\n",
    "\n",
    "merged.rename(columns={'produtoId_y': 'contagem'}, inplace=True)\n",
    "\n",
    "\n",
    "precos_df = merged[['vendaId', 'produtoId_x', 'quantidade', 'valorUnitario', 'total',\n",
    "       'dataCadastro', 'valorUnitarioCusto', 'valorFrete','contagem','nomeunidade']]\n",
    "precos_df = precos_df.drop_duplicates()"
   ]
  },
  {
   "cell_type": "code",
   "execution_count": 331,
   "metadata": {},
   "outputs": [
    {
     "data": {
      "text/plain": [
       "17.945835802795816"
      ]
     },
     "execution_count": 331,
     "metadata": {},
     "output_type": "execute_result"
    }
   ],
   "source": [
    "(np.random.random() * 0.5) * 100"
   ]
  },
  {
   "cell_type": "code",
   "execution_count": 332,
   "metadata": {},
   "outputs": [],
   "source": [
    "def add_discount_data(df):\n",
    "\n",
    "  discounts = []\n",
    "  for precos_df in df.dataCadastro:\n",
    "    if precos_df is not None:\n",
    "       discounts.append(np.random.random() * 0.2)\n",
    "    else:\n",
    "      discounts.append(0.0)\n",
    "\n",
    "  \n",
    "  return discounts\n",
    "\n",
    "\n",
    "precos_df[ 'discount%' ] = add_discount_data(precos_df) \n",
    "\n",
    "precos_df['item_price'] = precos_df.contagem / precos_df.quantidade \n",
    "\n",
    "precos_df['quantidade'] = precos_df['quantidade'].astype(int)\n"
   ]
  },
  {
   "cell_type": "code",
   "execution_count": null,
   "metadata": {},
   "outputs": [],
   "source": [
    "precos_df.quantidade"
   ]
  },
  {
   "cell_type": "code",
   "execution_count": 334,
   "metadata": {},
   "outputs": [],
   "source": [
    "\n",
    "product_grain = 'produtoId_x'\n",
    "\n",
    "\n",
    "sales_by_date_and_category = precos_df.groupby(['dataCadastro',product_grain]).agg(\n",
    "    {\n",
    "        'quantidade': 'sum',\n",
    "        'item_price': np.average,\n",
    "        'discount%': np.average\n",
    "    }\n",
    ").reset_index()\n",
    "\n",
    "\n",
    "sales_by_date_and_category['day'] = pd.DatetimeIndex(sales_by_date_and_category['dataCadastro']).day\n",
    "sales_by_date_and_category['month'] = pd.DatetimeIndex(sales_by_date_and_category['dataCadastro']).month"
   ]
  },
  {
   "cell_type": "code",
   "execution_count": 335,
   "metadata": {},
   "outputs": [
    {
     "data": {
      "text/plain": [
       "'produtoId_x'"
      ]
     },
     "execution_count": 335,
     "metadata": {},
     "output_type": "execute_result"
    }
   ],
   "source": [
    "product_grain"
   ]
  },
  {
   "cell_type": "code",
   "execution_count": 336,
   "metadata": {},
   "outputs": [
    {
     "data": {
      "text/html": [
       "<div>\n",
       "<style scoped>\n",
       "    .dataframe tbody tr th:only-of-type {\n",
       "        vertical-align: middle;\n",
       "    }\n",
       "\n",
       "    .dataframe tbody tr th {\n",
       "        vertical-align: top;\n",
       "    }\n",
       "\n",
       "    .dataframe thead th {\n",
       "        text-align: right;\n",
       "    }\n",
       "</style>\n",
       "<table border=\"1\" class=\"dataframe\">\n",
       "  <thead>\n",
       "    <tr style=\"text-align: right;\">\n",
       "      <th></th>\n",
       "      <th>dataCadastro</th>\n",
       "      <th>produtoId_x</th>\n",
       "      <th>quantidade</th>\n",
       "      <th>item_price</th>\n",
       "      <th>discount%</th>\n",
       "      <th>day</th>\n",
       "      <th>month</th>\n",
       "      <th>valorUnitario</th>\n",
       "      <th>total</th>\n",
       "      <th>valorUnitarioCusto</th>\n",
       "      <th>valorFrete</th>\n",
       "    </tr>\n",
       "  </thead>\n",
       "  <tbody>\n",
       "    <tr>\n",
       "      <th>0</th>\n",
       "      <td>2022-01-05</td>\n",
       "      <td>1220</td>\n",
       "      <td>1</td>\n",
       "      <td>1.0</td>\n",
       "      <td>0.022031</td>\n",
       "      <td>5</td>\n",
       "      <td>1</td>\n",
       "      <td>336.74</td>\n",
       "      <td>336.74</td>\n",
       "      <td>231.41</td>\n",
       "      <td>42.25</td>\n",
       "    </tr>\n",
       "    <tr>\n",
       "      <th>1</th>\n",
       "      <td>2022-01-05</td>\n",
       "      <td>1265</td>\n",
       "      <td>1</td>\n",
       "      <td>1.0</td>\n",
       "      <td>0.029414</td>\n",
       "      <td>5</td>\n",
       "      <td>1</td>\n",
       "      <td>376.59</td>\n",
       "      <td>376.59</td>\n",
       "      <td>258.79</td>\n",
       "      <td>47.25</td>\n",
       "    </tr>\n",
       "    <tr>\n",
       "      <th>2</th>\n",
       "      <td>2022-01-05</td>\n",
       "      <td>2718</td>\n",
       "      <td>1</td>\n",
       "      <td>1.0</td>\n",
       "      <td>0.089576</td>\n",
       "      <td>5</td>\n",
       "      <td>1</td>\n",
       "      <td>396.52</td>\n",
       "      <td>396.52</td>\n",
       "      <td>272.49</td>\n",
       "      <td>49.75</td>\n",
       "    </tr>\n",
       "    <tr>\n",
       "      <th>3</th>\n",
       "      <td>2022-01-05</td>\n",
       "      <td>3111</td>\n",
       "      <td>2</td>\n",
       "      <td>4.0</td>\n",
       "      <td>0.051266</td>\n",
       "      <td>5</td>\n",
       "      <td>1</td>\n",
       "      <td>496.15</td>\n",
       "      <td>992.30</td>\n",
       "      <td>340.95</td>\n",
       "      <td>62.25</td>\n",
       "    </tr>\n",
       "    <tr>\n",
       "      <th>4</th>\n",
       "      <td>2022-01-05</td>\n",
       "      <td>3111</td>\n",
       "      <td>2</td>\n",
       "      <td>4.0</td>\n",
       "      <td>0.051266</td>\n",
       "      <td>5</td>\n",
       "      <td>1</td>\n",
       "      <td>536.01</td>\n",
       "      <td>536.01</td>\n",
       "      <td>368.34</td>\n",
       "      <td>34.86</td>\n",
       "    </tr>\n",
       "    <tr>\n",
       "      <th>...</th>\n",
       "      <td>...</td>\n",
       "      <td>...</td>\n",
       "      <td>...</td>\n",
       "      <td>...</td>\n",
       "      <td>...</td>\n",
       "      <td>...</td>\n",
       "      <td>...</td>\n",
       "      <td>...</td>\n",
       "      <td>...</td>\n",
       "      <td>...</td>\n",
       "      <td>...</td>\n",
       "    </tr>\n",
       "    <tr>\n",
       "      <th>12766</th>\n",
       "      <td>2023-03-06</td>\n",
       "      <td>14296</td>\n",
       "      <td>1</td>\n",
       "      <td>1.0</td>\n",
       "      <td>0.185413</td>\n",
       "      <td>6</td>\n",
       "      <td>3</td>\n",
       "      <td>2116.78</td>\n",
       "      <td>2116.78</td>\n",
       "      <td>1535.45</td>\n",
       "      <td>164.51</td>\n",
       "    </tr>\n",
       "    <tr>\n",
       "      <th>12767</th>\n",
       "      <td>2023-03-09</td>\n",
       "      <td>11027</td>\n",
       "      <td>1</td>\n",
       "      <td>1.0</td>\n",
       "      <td>0.188763</td>\n",
       "      <td>9</td>\n",
       "      <td>3</td>\n",
       "      <td>2261.28</td>\n",
       "      <td>2261.28</td>\n",
       "      <td>1640.27</td>\n",
       "      <td>238.33</td>\n",
       "    </tr>\n",
       "    <tr>\n",
       "      <th>12768</th>\n",
       "      <td>2023-03-09</td>\n",
       "      <td>13783</td>\n",
       "      <td>2</td>\n",
       "      <td>0.5</td>\n",
       "      <td>0.195629</td>\n",
       "      <td>9</td>\n",
       "      <td>3</td>\n",
       "      <td>707.66</td>\n",
       "      <td>1415.32</td>\n",
       "      <td>513.31</td>\n",
       "      <td>130.00</td>\n",
       "    </tr>\n",
       "    <tr>\n",
       "      <th>12769</th>\n",
       "      <td>2023-03-09</td>\n",
       "      <td>13784</td>\n",
       "      <td>2</td>\n",
       "      <td>0.5</td>\n",
       "      <td>0.021134</td>\n",
       "      <td>9</td>\n",
       "      <td>3</td>\n",
       "      <td>707.66</td>\n",
       "      <td>1415.32</td>\n",
       "      <td>513.31</td>\n",
       "      <td>130.00</td>\n",
       "    </tr>\n",
       "    <tr>\n",
       "      <th>12770</th>\n",
       "      <td>2023-03-09</td>\n",
       "      <td>13901</td>\n",
       "      <td>1</td>\n",
       "      <td>1.0</td>\n",
       "      <td>0.129894</td>\n",
       "      <td>9</td>\n",
       "      <td>3</td>\n",
       "      <td>1795.41</td>\n",
       "      <td>1795.41</td>\n",
       "      <td>1302.34</td>\n",
       "      <td>149.82</td>\n",
       "    </tr>\n",
       "  </tbody>\n",
       "</table>\n",
       "<p>12771 rows × 11 columns</p>\n",
       "</div>"
      ],
      "text/plain": [
       "      dataCadastro  produtoId_x  quantidade  item_price  discount%  day  \\\n",
       "0       2022-01-05         1220           1         1.0   0.022031    5   \n",
       "1       2022-01-05         1265           1         1.0   0.029414    5   \n",
       "2       2022-01-05         2718           1         1.0   0.089576    5   \n",
       "3       2022-01-05         3111           2         4.0   0.051266    5   \n",
       "4       2022-01-05         3111           2         4.0   0.051266    5   \n",
       "...            ...          ...         ...         ...        ...  ...   \n",
       "12766   2023-03-06        14296           1         1.0   0.185413    6   \n",
       "12767   2023-03-09        11027           1         1.0   0.188763    9   \n",
       "12768   2023-03-09        13783           2         0.5   0.195629    9   \n",
       "12769   2023-03-09        13784           2         0.5   0.021134    9   \n",
       "12770   2023-03-09        13901           1         1.0   0.129894    9   \n",
       "\n",
       "       month  valorUnitario    total  valorUnitarioCusto  valorFrete  \n",
       "0          1         336.74   336.74              231.41       42.25  \n",
       "1          1         376.59   376.59              258.79       47.25  \n",
       "2          1         396.52   396.52              272.49       49.75  \n",
       "3          1         496.15   992.30              340.95       62.25  \n",
       "4          1         536.01   536.01              368.34       34.86  \n",
       "...      ...            ...      ...                 ...         ...  \n",
       "12766      3        2116.78  2116.78             1535.45      164.51  \n",
       "12767      3        2261.28  2261.28             1640.27      238.33  \n",
       "12768      3         707.66  1415.32              513.31      130.00  \n",
       "12769      3         707.66  1415.32              513.31      130.00  \n",
       "12770      3        1795.41  1795.41             1302.34      149.82  \n",
       "\n",
       "[12771 rows x 11 columns]"
      ]
     },
     "execution_count": 336,
     "metadata": {},
     "output_type": "execute_result"
    }
   ],
   "source": [
    "preco = precos_df[['produtoId_x','valorUnitario','total','valorUnitarioCusto','valorFrete','nomeunidade']]\n",
    "\n",
    "merge_df = pd.merge(sales_by_date_and_category,preco, left_on='produtoId_x', right_on='produtoId_x')\n",
    "\n",
    "merge_df[['dataCadastro', 'produtoId_x', 'quantidade', 'item_price', 'discount%',\n",
    "       'day', 'month',  'valorUnitario', 'total',\n",
    "       'valorUnitarioCusto', 'valorFrete']]\n"
   ]
  },
  {
   "cell_type": "code",
   "execution_count": null,
   "metadata": {},
   "outputs": [],
   "source": [
    "rf = RandomForestRegressor()\n",
    "\n",
    "merge_df = merge_df.sample(frac=1)\n",
    "X = merge_df[[product_grain, 'discount%', 'item_price', 'day', 'month']]\n",
    "#y = merge_df['quantidade']\n",
    "y = merge_df['quantidade']\n",
    "rf = rf.fit(X, y)\n",
    "rf"
   ]
  },
  {
   "cell_type": "code",
   "execution_count": 338,
   "metadata": {},
   "outputs": [
    {
     "name": "stdout",
     "output_type": "stream",
     "text": [
      "Mean Absolute Error: 0.010110406389476157\n"
     ]
    }
   ],
   "source": [
    "merge_df['predicted_quantity'] = rf.predict(X)\n",
    "# Compute mean absolute error on predictions\n",
    "merge_df['error'] = abs(merge_df.quantidade - merge_df.predicted_quantity)\n",
    "print(f\"Mean Absolute Error: {merge_df['error'].mean()}\")"
   ]
  },
  {
   "cell_type": "code",
   "execution_count": 339,
   "metadata": {},
   "outputs": [],
   "source": [
    "# Prever a quantidade nos dados\n",
    "merge_df[ 'quantidadeprevisa' ] = rf.predict(X) \n",
    "# Calcular o erro absoluto médio nas previsões\n",
    "merge_df[ 'error' ] = abs(merge_df[ 'quantidade' ] - merge_df.predicted_quantity) "
   ]
  },
  {
   "cell_type": "code",
   "execution_count": null,
   "metadata": {},
   "outputs": [],
   "source": [
    "sales_by_date_and_category[sales_by_date_and_category['dataCadastro'] >= '2022-01-01']\n",
    "categories = sales_by_date_and_category.produtoId_x.unique()\n",
    "categories\n"
   ]
  },
  {
   "cell_type": "code",
   "execution_count": 341,
   "metadata": {},
   "outputs": [],
   "source": [
    "def optimize_quantity_out(model, df, product_grain, product_grain_value, day, month, grain=50):\n",
    "    \n",
    "    item_price_mean = df[df[product_grain] == product_grain_value].valorUnitario.mean()\n",
    "    \n",
    "  \n",
    "    potential_price = np.linspace(item_price_mean * 0.25, item_price_mean * 2, grain)\n",
    " \n",
    "    potential_discount = np.linspace(0, 0.7, grain)\n",
    "    samples = []\n",
    "    for d in potential_discount:\n",
    "\n",
    "      for p in potential_price:\n",
    "        sample = {\n",
    "            product_grain: product_grain_value,\n",
    "            'discount%': d,\n",
    "            'item_price': p,\n",
    "            'day': day,\n",
    "            'month': month,\n",
    "            'produtoId_x':product_grain_value\n",
    "            \n",
    "        }\n",
    "      samples.append(sample)\n",
    " \n",
    "    samples = pd.DataFrame(samples)\n",
    "    samples.drop_duplicates()\n",
    "    samples['Previsao'] = model.predict(samples)\n",
    "    samples['is_optimal'] = [True if s == max(samples.Previsao) else False for s in samples.Previsao]\n",
    "    dict_Sample = samples.to_dict('records')\n",
    "\n",
    "    return dict_Sample\n",
    "\n"
   ]
  },
  {
   "cell_type": "code",
   "execution_count": 342,
   "metadata": {},
   "outputs": [
    {
     "name": "stdout",
     "output_type": "stream",
     "text": [
      "[{'dataCadastro': '2022-07-07', 'valorUnitario': 3862.58, 'total': 3862.58, 'valorUnitarioCusto': 3016.58, 'valorFrete': 0.0, 'loja': 'Maceió - Jatiúca', 'produtoId_x': 3131, 'discount%': 0.0, 'item_price': 2200.0, 'day': 7, 'month': 7, 'Previsao': 1.0, 'is_optimal': False}, {'dataCadastro': '2022-07-07', 'valorUnitario': 3862.58, 'total': 3862.58, 'valorUnitarioCusto': 3016.58, 'valorFrete': 0.0, 'loja': 'Maceió - Jatiúca', 'produtoId_x': 3131, 'discount%': 0.011864406779661016, 'item_price': 2200.0, 'day': 7, 'month': 7, 'Previsao': 1.0, 'is_optimal': False}, {'dataCadastro': '2022-07-07', 'valorUnitario': 3862.58, 'total': 3862.58, 'valorUnitarioCusto': 3016.58, 'valorFrete': 0.0, 'loja': 'Maceió - Jatiúca', 'produtoId_x': 3131, 'discount%': 0.02372881355932203, 'item_price': 2200.0, 'day': 7, 'month': 7, 'Previsao': 1.0, 'is_optimal': False}, {'dataCadastro': '2022-07-07', 'valorUnitario': 3862.58, 'total': 3862.58, 'valorUnitarioCusto': 3016.58, 'valorFrete': 0.0, 'loja': 'Maceió - Jatiúca', 'produtoId_x': 3131, 'discount%': 0.035593220338983045, 'item_price': 2200.0, 'day': 7, 'month': 7, 'Previsao': 1.0, 'is_optimal': False}, {'dataCadastro': '2022-07-07', 'valorUnitario': 3862.58, 'total': 3862.58, 'valorUnitarioCusto': 3016.58, 'valorFrete': 0.0, 'loja': 'Maceió - Jatiúca', 'produtoId_x': 3131, 'discount%': 0.04745762711864406, 'item_price': 2200.0, 'day': 7, 'month': 7, 'Previsao': 1.0, 'is_optimal': False}, {'dataCadastro': '2022-07-07', 'valorUnitario': 3862.58, 'total': 3862.58, 'valorUnitarioCusto': 3016.58, 'valorFrete': 0.0, 'loja': 'Maceió - Jatiúca', 'produtoId_x': 3131, 'discount%': 0.05932203389830508, 'item_price': 2200.0, 'day': 7, 'month': 7, 'Previsao': 1.0, 'is_optimal': False}, {'dataCadastro': '2022-07-07', 'valorUnitario': 3862.58, 'total': 3862.58, 'valorUnitarioCusto': 3016.58, 'valorFrete': 0.0, 'loja': 'Maceió - Jatiúca', 'produtoId_x': 3131, 'discount%': 0.07118644067796609, 'item_price': 2200.0, 'day': 7, 'month': 7, 'Previsao': 1.0, 'is_optimal': False}, {'dataCadastro': '2022-07-07', 'valorUnitario': 3862.58, 'total': 3862.58, 'valorUnitarioCusto': 3016.58, 'valorFrete': 0.0, 'loja': 'Maceió - Jatiúca', 'produtoId_x': 3131, 'discount%': 0.08305084745762711, 'item_price': 2200.0, 'day': 7, 'month': 7, 'Previsao': 1.0, 'is_optimal': False}, {'dataCadastro': '2022-07-07', 'valorUnitario': 3862.58, 'total': 3862.58, 'valorUnitarioCusto': 3016.58, 'valorFrete': 0.0, 'loja': 'Maceió - Jatiúca', 'produtoId_x': 3131, 'discount%': 0.09491525423728812, 'item_price': 2200.0, 'day': 7, 'month': 7, 'Previsao': 1.33, 'is_optimal': True}, {'dataCadastro': '2022-07-07', 'valorUnitario': 3862.58, 'total': 3862.58, 'valorUnitarioCusto': 3016.58, 'valorFrete': 0.0, 'loja': 'Maceió - Jatiúca', 'produtoId_x': 3131, 'discount%': 0.10677966101694913, 'item_price': 2200.0, 'day': 7, 'month': 7, 'Previsao': 1.0, 'is_optimal': False}, {'dataCadastro': '2022-07-07', 'valorUnitario': 3862.58, 'total': 3862.58, 'valorUnitarioCusto': 3016.58, 'valorFrete': 0.0, 'loja': 'Maceió - Jatiúca', 'produtoId_x': 3131, 'discount%': 0.11864406779661016, 'item_price': 2200.0, 'day': 7, 'month': 7, 'Previsao': 1.0, 'is_optimal': False}, {'dataCadastro': '2022-07-07', 'valorUnitario': 3862.58, 'total': 3862.58, 'valorUnitarioCusto': 3016.58, 'valorFrete': 0.0, 'loja': 'Maceió - Jatiúca', 'produtoId_x': 3131, 'discount%': 0.13050847457627118, 'item_price': 2200.0, 'day': 7, 'month': 7, 'Previsao': 1.0, 'is_optimal': False}, {'dataCadastro': '2022-07-07', 'valorUnitario': 3862.58, 'total': 3862.58, 'valorUnitarioCusto': 3016.58, 'valorFrete': 0.0, 'loja': 'Maceió - Jatiúca', 'produtoId_x': 3131, 'discount%': 0.14237288135593218, 'item_price': 2200.0, 'day': 7, 'month': 7, 'Previsao': 1.0, 'is_optimal': False}, {'dataCadastro': '2022-07-07', 'valorUnitario': 3862.58, 'total': 3862.58, 'valorUnitarioCusto': 3016.58, 'valorFrete': 0.0, 'loja': 'Maceió - Jatiúca', 'produtoId_x': 3131, 'discount%': 0.1542372881355932, 'item_price': 2200.0, 'day': 7, 'month': 7, 'Previsao': 1.0, 'is_optimal': False}, {'dataCadastro': '2022-07-07', 'valorUnitario': 3862.58, 'total': 3862.58, 'valorUnitarioCusto': 3016.58, 'valorFrete': 0.0, 'loja': 'Maceió - Jatiúca', 'produtoId_x': 3131, 'discount%': 0.16610169491525423, 'item_price': 2200.0, 'day': 7, 'month': 7, 'Previsao': 1.05, 'is_optimal': False}, {'dataCadastro': '2022-07-07', 'valorUnitario': 3862.58, 'total': 3862.58, 'valorUnitarioCusto': 3016.58, 'valorFrete': 0.0, 'loja': 'Maceió - Jatiúca', 'produtoId_x': 3131, 'discount%': 0.17796610169491522, 'item_price': 2200.0, 'day': 7, 'month': 7, 'Previsao': 1.0, 'is_optimal': False}, {'dataCadastro': '2022-07-07', 'valorUnitario': 3862.58, 'total': 3862.58, 'valorUnitarioCusto': 3016.58, 'valorFrete': 0.0, 'loja': 'Maceió - Jatiúca', 'produtoId_x': 3131, 'discount%': 0.18983050847457625, 'item_price': 2200.0, 'day': 7, 'month': 7, 'Previsao': 1.0, 'is_optimal': False}, {'dataCadastro': '2022-07-07', 'valorUnitario': 3862.58, 'total': 3862.58, 'valorUnitarioCusto': 3016.58, 'valorFrete': 0.0, 'loja': 'Maceió - Jatiúca', 'produtoId_x': 3131, 'discount%': 0.20169491525423727, 'item_price': 2200.0, 'day': 7, 'month': 7, 'Previsao': 1.0, 'is_optimal': False}, {'dataCadastro': '2022-07-07', 'valorUnitario': 3862.58, 'total': 3862.58, 'valorUnitarioCusto': 3016.58, 'valorFrete': 0.0, 'loja': 'Maceió - Jatiúca', 'produtoId_x': 3131, 'discount%': 0.21355932203389827, 'item_price': 2200.0, 'day': 7, 'month': 7, 'Previsao': 1.0, 'is_optimal': False}, {'dataCadastro': '2022-07-07', 'valorUnitario': 3862.58, 'total': 3862.58, 'valorUnitarioCusto': 3016.58, 'valorFrete': 0.0, 'loja': 'Maceió - Jatiúca', 'produtoId_x': 3131, 'discount%': 0.2254237288135593, 'item_price': 2200.0, 'day': 7, 'month': 7, 'Previsao': 1.0, 'is_optimal': False}, {'dataCadastro': '2022-07-07', 'valorUnitario': 3862.58, 'total': 3862.58, 'valorUnitarioCusto': 3016.58, 'valorFrete': 0.0, 'loja': 'Maceió - Jatiúca', 'produtoId_x': 3131, 'discount%': 0.23728813559322032, 'item_price': 2200.0, 'day': 7, 'month': 7, 'Previsao': 1.0, 'is_optimal': False}, {'dataCadastro': '2022-07-07', 'valorUnitario': 3862.58, 'total': 3862.58, 'valorUnitarioCusto': 3016.58, 'valorFrete': 0.0, 'loja': 'Maceió - Jatiúca', 'produtoId_x': 3131, 'discount%': 0.2491525423728813, 'item_price': 2200.0, 'day': 7, 'month': 7, 'Previsao': 1.0, 'is_optimal': False}, {'dataCadastro': '2022-07-07', 'valorUnitario': 3862.58, 'total': 3862.58, 'valorUnitarioCusto': 3016.58, 'valorFrete': 0.0, 'loja': 'Maceió - Jatiúca', 'produtoId_x': 3131, 'discount%': 0.26101694915254237, 'item_price': 2200.0, 'day': 7, 'month': 7, 'Previsao': 1.0, 'is_optimal': False}, {'dataCadastro': '2022-07-07', 'valorUnitario': 3862.58, 'total': 3862.58, 'valorUnitarioCusto': 3016.58, 'valorFrete': 0.0, 'loja': 'Maceió - Jatiúca', 'produtoId_x': 3131, 'discount%': 0.27288135593220336, 'item_price': 2200.0, 'day': 7, 'month': 7, 'Previsao': 1.0, 'is_optimal': False}, {'dataCadastro': '2022-07-07', 'valorUnitario': 3862.58, 'total': 3862.58, 'valorUnitarioCusto': 3016.58, 'valorFrete': 0.0, 'loja': 'Maceió - Jatiúca', 'produtoId_x': 3131, 'discount%': 0.28474576271186436, 'item_price': 2200.0, 'day': 7, 'month': 7, 'Previsao': 1.0, 'is_optimal': False}, {'dataCadastro': '2022-07-07', 'valorUnitario': 3862.58, 'total': 3862.58, 'valorUnitarioCusto': 3016.58, 'valorFrete': 0.0, 'loja': 'Maceió - Jatiúca', 'produtoId_x': 3131, 'discount%': 0.2966101694915254, 'item_price': 2200.0, 'day': 7, 'month': 7, 'Previsao': 1.0, 'is_optimal': False}, {'dataCadastro': '2022-07-07', 'valorUnitario': 3862.58, 'total': 3862.58, 'valorUnitarioCusto': 3016.58, 'valorFrete': 0.0, 'loja': 'Maceió - Jatiúca', 'produtoId_x': 3131, 'discount%': 0.3084745762711864, 'item_price': 2200.0, 'day': 7, 'month': 7, 'Previsao': 1.0, 'is_optimal': False}, {'dataCadastro': '2022-07-07', 'valorUnitario': 3862.58, 'total': 3862.58, 'valorUnitarioCusto': 3016.58, 'valorFrete': 0.0, 'loja': 'Maceió - Jatiúca', 'produtoId_x': 3131, 'discount%': 0.3203389830508474, 'item_price': 2200.0, 'day': 7, 'month': 7, 'Previsao': 1.0, 'is_optimal': False}, {'dataCadastro': '2022-07-07', 'valorUnitario': 3862.58, 'total': 3862.58, 'valorUnitarioCusto': 3016.58, 'valorFrete': 0.0, 'loja': 'Maceió - Jatiúca', 'produtoId_x': 3131, 'discount%': 0.33220338983050846, 'item_price': 2200.0, 'day': 7, 'month': 7, 'Previsao': 1.0, 'is_optimal': False}, {'dataCadastro': '2022-07-07', 'valorUnitario': 3862.58, 'total': 3862.58, 'valorUnitarioCusto': 3016.58, 'valorFrete': 0.0, 'loja': 'Maceió - Jatiúca', 'produtoId_x': 3131, 'discount%': 0.34406779661016945, 'item_price': 2200.0, 'day': 7, 'month': 7, 'Previsao': 1.0, 'is_optimal': False}, {'dataCadastro': '2022-07-07', 'valorUnitario': 3862.58, 'total': 3862.58, 'valorUnitarioCusto': 3016.58, 'valorFrete': 0.0, 'loja': 'Maceió - Jatiúca', 'produtoId_x': 3131, 'discount%': 0.35593220338983045, 'item_price': 2200.0, 'day': 7, 'month': 7, 'Previsao': 1.0, 'is_optimal': False}, {'dataCadastro': '2022-07-07', 'valorUnitario': 3862.58, 'total': 3862.58, 'valorUnitarioCusto': 3016.58, 'valorFrete': 0.0, 'loja': 'Maceió - Jatiúca', 'produtoId_x': 3131, 'discount%': 0.3677966101694915, 'item_price': 2200.0, 'day': 7, 'month': 7, 'Previsao': 1.0, 'is_optimal': False}, {'dataCadastro': '2022-07-07', 'valorUnitario': 3862.58, 'total': 3862.58, 'valorUnitarioCusto': 3016.58, 'valorFrete': 0.0, 'loja': 'Maceió - Jatiúca', 'produtoId_x': 3131, 'discount%': 0.3796610169491525, 'item_price': 2200.0, 'day': 7, 'month': 7, 'Previsao': 1.0, 'is_optimal': False}, {'dataCadastro': '2022-07-07', 'valorUnitario': 3862.58, 'total': 3862.58, 'valorUnitarioCusto': 3016.58, 'valorFrete': 0.0, 'loja': 'Maceió - Jatiúca', 'produtoId_x': 3131, 'discount%': 0.3915254237288135, 'item_price': 2200.0, 'day': 7, 'month': 7, 'Previsao': 1.0, 'is_optimal': False}, {'dataCadastro': '2022-07-07', 'valorUnitario': 3862.58, 'total': 3862.58, 'valorUnitarioCusto': 3016.58, 'valorFrete': 0.0, 'loja': 'Maceió - Jatiúca', 'produtoId_x': 3131, 'discount%': 0.40338983050847455, 'item_price': 2200.0, 'day': 7, 'month': 7, 'Previsao': 1.0, 'is_optimal': False}, {'dataCadastro': '2022-07-07', 'valorUnitario': 3862.58, 'total': 3862.58, 'valorUnitarioCusto': 3016.58, 'valorFrete': 0.0, 'loja': 'Maceió - Jatiúca', 'produtoId_x': 3131, 'discount%': 0.41525423728813554, 'item_price': 2200.0, 'day': 7, 'month': 7, 'Previsao': 1.0, 'is_optimal': False}, {'dataCadastro': '2022-07-07', 'valorUnitario': 3862.58, 'total': 3862.58, 'valorUnitarioCusto': 3016.58, 'valorFrete': 0.0, 'loja': 'Maceió - Jatiúca', 'produtoId_x': 3131, 'discount%': 0.42711864406779654, 'item_price': 2200.0, 'day': 7, 'month': 7, 'Previsao': 1.0, 'is_optimal': False}, {'dataCadastro': '2022-07-07', 'valorUnitario': 3862.58, 'total': 3862.58, 'valorUnitarioCusto': 3016.58, 'valorFrete': 0.0, 'loja': 'Maceió - Jatiúca', 'produtoId_x': 3131, 'discount%': 0.4389830508474576, 'item_price': 2200.0, 'day': 7, 'month': 7, 'Previsao': 1.0, 'is_optimal': False}, {'dataCadastro': '2022-07-07', 'valorUnitario': 3862.58, 'total': 3862.58, 'valorUnitarioCusto': 3016.58, 'valorFrete': 0.0, 'loja': 'Maceió - Jatiúca', 'produtoId_x': 3131, 'discount%': 0.4508474576271186, 'item_price': 2200.0, 'day': 7, 'month': 7, 'Previsao': 1.0, 'is_optimal': False}, {'dataCadastro': '2022-07-07', 'valorUnitario': 3862.58, 'total': 3862.58, 'valorUnitarioCusto': 3016.58, 'valorFrete': 0.0, 'loja': 'Maceió - Jatiúca', 'produtoId_x': 3131, 'discount%': 0.4627118644067796, 'item_price': 2200.0, 'day': 7, 'month': 7, 'Previsao': 1.0, 'is_optimal': False}, {'dataCadastro': '2022-07-07', 'valorUnitario': 3862.58, 'total': 3862.58, 'valorUnitarioCusto': 3016.58, 'valorFrete': 0.0, 'loja': 'Maceió - Jatiúca', 'produtoId_x': 3131, 'discount%': 0.47457627118644063, 'item_price': 2200.0, 'day': 7, 'month': 7, 'Previsao': 1.0, 'is_optimal': False}, {'dataCadastro': '2022-07-07', 'valorUnitario': 3862.58, 'total': 3862.58, 'valorUnitarioCusto': 3016.58, 'valorFrete': 0.0, 'loja': 'Maceió - Jatiúca', 'produtoId_x': 3131, 'discount%': 0.48644067796610163, 'item_price': 2200.0, 'day': 7, 'month': 7, 'Previsao': 1.0, 'is_optimal': False}, {'dataCadastro': '2022-07-07', 'valorUnitario': 3862.58, 'total': 3862.58, 'valorUnitarioCusto': 3016.58, 'valorFrete': 0.0, 'loja': 'Maceió - Jatiúca', 'produtoId_x': 3131, 'discount%': 0.4983050847457626, 'item_price': 2200.0, 'day': 7, 'month': 7, 'Previsao': 1.0, 'is_optimal': False}, {'dataCadastro': '2022-07-07', 'valorUnitario': 3862.58, 'total': 3862.58, 'valorUnitarioCusto': 3016.58, 'valorFrete': 0.0, 'loja': 'Maceió - Jatiúca', 'produtoId_x': 3131, 'discount%': 0.5101694915254237, 'item_price': 2200.0, 'day': 7, 'month': 7, 'Previsao': 1.0, 'is_optimal': False}, {'dataCadastro': '2022-07-07', 'valorUnitario': 3862.58, 'total': 3862.58, 'valorUnitarioCusto': 3016.58, 'valorFrete': 0.0, 'loja': 'Maceió - Jatiúca', 'produtoId_x': 3131, 'discount%': 0.5220338983050847, 'item_price': 2200.0, 'day': 7, 'month': 7, 'Previsao': 1.0, 'is_optimal': False}, {'dataCadastro': '2022-07-07', 'valorUnitario': 3862.58, 'total': 3862.58, 'valorUnitarioCusto': 3016.58, 'valorFrete': 0.0, 'loja': 'Maceió - Jatiúca', 'produtoId_x': 3131, 'discount%': 0.5338983050847457, 'item_price': 2200.0, 'day': 7, 'month': 7, 'Previsao': 1.0, 'is_optimal': False}, {'dataCadastro': '2022-07-07', 'valorUnitario': 3862.58, 'total': 3862.58, 'valorUnitarioCusto': 3016.58, 'valorFrete': 0.0, 'loja': 'Maceió - Jatiúca', 'produtoId_x': 3131, 'discount%': 0.5457627118644067, 'item_price': 2200.0, 'day': 7, 'month': 7, 'Previsao': 1.0, 'is_optimal': False}, {'dataCadastro': '2022-07-07', 'valorUnitario': 3862.58, 'total': 3862.58, 'valorUnitarioCusto': 3016.58, 'valorFrete': 0.0, 'loja': 'Maceió - Jatiúca', 'produtoId_x': 3131, 'discount%': 0.5576271186440678, 'item_price': 2200.0, 'day': 7, 'month': 7, 'Previsao': 1.0, 'is_optimal': False}, {'dataCadastro': '2022-07-07', 'valorUnitario': 3862.58, 'total': 3862.58, 'valorUnitarioCusto': 3016.58, 'valorFrete': 0.0, 'loja': 'Maceió - Jatiúca', 'produtoId_x': 3131, 'discount%': 0.5694915254237287, 'item_price': 2200.0, 'day': 7, 'month': 7, 'Previsao': 1.0, 'is_optimal': False}, {'dataCadastro': '2022-07-07', 'valorUnitario': 3862.58, 'total': 3862.58, 'valorUnitarioCusto': 3016.58, 'valorFrete': 0.0, 'loja': 'Maceió - Jatiúca', 'produtoId_x': 3131, 'discount%': 0.5813559322033898, 'item_price': 2200.0, 'day': 7, 'month': 7, 'Previsao': 1.0, 'is_optimal': False}, {'dataCadastro': '2022-07-07', 'valorUnitario': 3862.58, 'total': 3862.58, 'valorUnitarioCusto': 3016.58, 'valorFrete': 0.0, 'loja': 'Maceió - Jatiúca', 'produtoId_x': 3131, 'discount%': 0.5932203389830508, 'item_price': 2200.0, 'day': 7, 'month': 7, 'Previsao': 1.0, 'is_optimal': False}, {'dataCadastro': '2022-07-07', 'valorUnitario': 3862.58, 'total': 3862.58, 'valorUnitarioCusto': 3016.58, 'valorFrete': 0.0, 'loja': 'Maceió - Jatiúca', 'produtoId_x': 3131, 'discount%': 0.6050847457627118, 'item_price': 2200.0, 'day': 7, 'month': 7, 'Previsao': 1.0, 'is_optimal': False}, {'dataCadastro': '2022-07-07', 'valorUnitario': 3862.58, 'total': 3862.58, 'valorUnitarioCusto': 3016.58, 'valorFrete': 0.0, 'loja': 'Maceió - Jatiúca', 'produtoId_x': 3131, 'discount%': 0.6169491525423728, 'item_price': 2200.0, 'day': 7, 'month': 7, 'Previsao': 1.0, 'is_optimal': False}, {'dataCadastro': '2022-07-07', 'valorUnitario': 3862.58, 'total': 3862.58, 'valorUnitarioCusto': 3016.58, 'valorFrete': 0.0, 'loja': 'Maceió - Jatiúca', 'produtoId_x': 3131, 'discount%': 0.6288135593220339, 'item_price': 2200.0, 'day': 7, 'month': 7, 'Previsao': 1.0, 'is_optimal': False}, {'dataCadastro': '2022-07-07', 'valorUnitario': 3862.58, 'total': 3862.58, 'valorUnitarioCusto': 3016.58, 'valorFrete': 0.0, 'loja': 'Maceió - Jatiúca', 'produtoId_x': 3131, 'discount%': 0.6406779661016948, 'item_price': 2200.0, 'day': 7, 'month': 7, 'Previsao': 1.0, 'is_optimal': False}, {'dataCadastro': '2022-07-07', 'valorUnitario': 3862.58, 'total': 3862.58, 'valorUnitarioCusto': 3016.58, 'valorFrete': 0.0, 'loja': 'Maceió - Jatiúca', 'produtoId_x': 3131, 'discount%': 0.6525423728813559, 'item_price': 2200.0, 'day': 7, 'month': 7, 'Previsao': 1.0, 'is_optimal': False}, {'dataCadastro': '2022-07-07', 'valorUnitario': 3862.58, 'total': 3862.58, 'valorUnitarioCusto': 3016.58, 'valorFrete': 0.0, 'loja': 'Maceió - Jatiúca', 'produtoId_x': 3131, 'discount%': 0.6644067796610169, 'item_price': 2200.0, 'day': 7, 'month': 7, 'Previsao': 1.0, 'is_optimal': False}, {'dataCadastro': '2022-07-07', 'valorUnitario': 3862.58, 'total': 3862.58, 'valorUnitarioCusto': 3016.58, 'valorFrete': 0.0, 'loja': 'Maceió - Jatiúca', 'produtoId_x': 3131, 'discount%': 0.6762711864406779, 'item_price': 2200.0, 'day': 7, 'month': 7, 'Previsao': 1.0, 'is_optimal': False}, {'dataCadastro': '2022-07-07', 'valorUnitario': 3862.58, 'total': 3862.58, 'valorUnitarioCusto': 3016.58, 'valorFrete': 0.0, 'loja': 'Maceió - Jatiúca', 'produtoId_x': 3131, 'discount%': 0.6881355932203389, 'item_price': 2200.0, 'day': 7, 'month': 7, 'Previsao': 1.0, 'is_optimal': False}, {'dataCadastro': '2022-07-07', 'valorUnitario': 3862.58, 'total': 3862.58, 'valorUnitarioCusto': 3016.58, 'valorFrete': 0.0, 'loja': 'Maceió - Jatiúca', 'produtoId_x': 3131, 'discount%': 0.7, 'item_price': 2200.0, 'day': 7, 'month': 7, 'Previsao': 1.0, 'is_optimal': False}, {'dataCadastro': '2022-03-29', 'valorUnitario': 4856.49, 'total': 4856.49, 'valorUnitarioCusto': 3792.81, 'valorFrete': 0.0, 'loja': 'Fortaleza', 'produtoId_x': 2983, 'discount%': 0.0, 'item_price': 3625.68, 'day': 29, 'month': 3, 'Previsao': 1.0, 'is_optimal': True}, {'dataCadastro': '2022-03-29', 'valorUnitario': 4856.49, 'total': 4856.49, 'valorUnitarioCusto': 3792.81, 'valorFrete': 0.0, 'loja': 'Fortaleza', 'produtoId_x': 2983, 'discount%': 0.011864406779661016, 'item_price': 3625.68, 'day': 29, 'month': 3, 'Previsao': 1.0, 'is_optimal': True}, {'dataCadastro': '2022-03-29', 'valorUnitario': 4856.49, 'total': 4856.49, 'valorUnitarioCusto': 3792.81, 'valorFrete': 0.0, 'loja': 'Fortaleza', 'produtoId_x': 2983, 'discount%': 0.02372881355932203, 'item_price': 3625.68, 'day': 29, 'month': 3, 'Previsao': 1.0, 'is_optimal': True}, {'dataCadastro': '2022-03-29', 'valorUnitario': 4856.49, 'total': 4856.49, 'valorUnitarioCusto': 3792.81, 'valorFrete': 0.0, 'loja': 'Fortaleza', 'produtoId_x': 2983, 'discount%': 0.035593220338983045, 'item_price': 3625.68, 'day': 29, 'month': 3, 'Previsao': 1.0, 'is_optimal': True}, {'dataCadastro': '2022-03-29', 'valorUnitario': 4856.49, 'total': 4856.49, 'valorUnitarioCusto': 3792.81, 'valorFrete': 0.0, 'loja': 'Fortaleza', 'produtoId_x': 2983, 'discount%': 0.04745762711864406, 'item_price': 3625.68, 'day': 29, 'month': 3, 'Previsao': 1.0, 'is_optimal': True}, {'dataCadastro': '2022-03-29', 'valorUnitario': 4856.49, 'total': 4856.49, 'valorUnitarioCusto': 3792.81, 'valorFrete': 0.0, 'loja': 'Fortaleza', 'produtoId_x': 2983, 'discount%': 0.05932203389830508, 'item_price': 3625.68, 'day': 29, 'month': 3, 'Previsao': 1.0, 'is_optimal': True}, {'dataCadastro': '2022-03-29', 'valorUnitario': 4856.49, 'total': 4856.49, 'valorUnitarioCusto': 3792.81, 'valorFrete': 0.0, 'loja': 'Fortaleza', 'produtoId_x': 2983, 'discount%': 0.07118644067796609, 'item_price': 3625.68, 'day': 29, 'month': 3, 'Previsao': 1.0, 'is_optimal': True}, {'dataCadastro': '2022-03-29', 'valorUnitario': 4856.49, 'total': 4856.49, 'valorUnitarioCusto': 3792.81, 'valorFrete': 0.0, 'loja': 'Fortaleza', 'produtoId_x': 2983, 'discount%': 0.08305084745762711, 'item_price': 3625.68, 'day': 29, 'month': 3, 'Previsao': 1.0, 'is_optimal': True}, {'dataCadastro': '2022-03-29', 'valorUnitario': 4856.49, 'total': 4856.49, 'valorUnitarioCusto': 3792.81, 'valorFrete': 0.0, 'loja': 'Fortaleza', 'produtoId_x': 2983, 'discount%': 0.09491525423728812, 'item_price': 3625.68, 'day': 29, 'month': 3, 'Previsao': 1.0, 'is_optimal': True}, {'dataCadastro': '2022-03-29', 'valorUnitario': 4856.49, 'total': 4856.49, 'valorUnitarioCusto': 3792.81, 'valorFrete': 0.0, 'loja': 'Fortaleza', 'produtoId_x': 2983, 'discount%': 0.10677966101694913, 'item_price': 3625.68, 'day': 29, 'month': 3, 'Previsao': 1.0, 'is_optimal': True}, {'dataCadastro': '2022-03-29', 'valorUnitario': 4856.49, 'total': 4856.49, 'valorUnitarioCusto': 3792.81, 'valorFrete': 0.0, 'loja': 'Fortaleza', 'produtoId_x': 2983, 'discount%': 0.11864406779661016, 'item_price': 3625.68, 'day': 29, 'month': 3, 'Previsao': 1.0, 'is_optimal': True}, {'dataCadastro': '2022-03-29', 'valorUnitario': 4856.49, 'total': 4856.49, 'valorUnitarioCusto': 3792.81, 'valorFrete': 0.0, 'loja': 'Fortaleza', 'produtoId_x': 2983, 'discount%': 0.13050847457627118, 'item_price': 3625.68, 'day': 29, 'month': 3, 'Previsao': 1.0, 'is_optimal': True}, {'dataCadastro': '2022-03-29', 'valorUnitario': 4856.49, 'total': 4856.49, 'valorUnitarioCusto': 3792.81, 'valorFrete': 0.0, 'loja': 'Fortaleza', 'produtoId_x': 2983, 'discount%': 0.14237288135593218, 'item_price': 3625.68, 'day': 29, 'month': 3, 'Previsao': 1.0, 'is_optimal': True}, {'dataCadastro': '2022-03-29', 'valorUnitario': 4856.49, 'total': 4856.49, 'valorUnitarioCusto': 3792.81, 'valorFrete': 0.0, 'loja': 'Fortaleza', 'produtoId_x': 2983, 'discount%': 0.1542372881355932, 'item_price': 3625.68, 'day': 29, 'month': 3, 'Previsao': 1.0, 'is_optimal': True}, {'dataCadastro': '2022-03-29', 'valorUnitario': 4856.49, 'total': 4856.49, 'valorUnitarioCusto': 3792.81, 'valorFrete': 0.0, 'loja': 'Fortaleza', 'produtoId_x': 2983, 'discount%': 0.16610169491525423, 'item_price': 3625.68, 'day': 29, 'month': 3, 'Previsao': 1.0, 'is_optimal': True}, {'dataCadastro': '2022-03-29', 'valorUnitario': 4856.49, 'total': 4856.49, 'valorUnitarioCusto': 3792.81, 'valorFrete': 0.0, 'loja': 'Fortaleza', 'produtoId_x': 2983, 'discount%': 0.17796610169491522, 'item_price': 3625.68, 'day': 29, 'month': 3, 'Previsao': 1.0, 'is_optimal': True}, {'dataCadastro': '2022-03-29', 'valorUnitario': 4856.49, 'total': 4856.49, 'valorUnitarioCusto': 3792.81, 'valorFrete': 0.0, 'loja': 'Fortaleza', 'produtoId_x': 2983, 'discount%': 0.18983050847457625, 'item_price': 3625.68, 'day': 29, 'month': 3, 'Previsao': 1.0, 'is_optimal': True}, {'dataCadastro': '2022-03-29', 'valorUnitario': 4856.49, 'total': 4856.49, 'valorUnitarioCusto': 3792.81, 'valorFrete': 0.0, 'loja': 'Fortaleza', 'produtoId_x': 2983, 'discount%': 0.20169491525423727, 'item_price': 3625.68, 'day': 29, 'month': 3, 'Previsao': 1.0, 'is_optimal': True}, {'dataCadastro': '2022-03-29', 'valorUnitario': 4856.49, 'total': 4856.49, 'valorUnitarioCusto': 3792.81, 'valorFrete': 0.0, 'loja': 'Fortaleza', 'produtoId_x': 2983, 'discount%': 0.21355932203389827, 'item_price': 3625.68, 'day': 29, 'month': 3, 'Previsao': 1.0, 'is_optimal': True}, {'dataCadastro': '2022-03-29', 'valorUnitario': 4856.49, 'total': 4856.49, 'valorUnitarioCusto': 3792.81, 'valorFrete': 0.0, 'loja': 'Fortaleza', 'produtoId_x': 2983, 'discount%': 0.2254237288135593, 'item_price': 3625.68, 'day': 29, 'month': 3, 'Previsao': 1.0, 'is_optimal': True}, {'dataCadastro': '2022-03-29', 'valorUnitario': 4856.49, 'total': 4856.49, 'valorUnitarioCusto': 3792.81, 'valorFrete': 0.0, 'loja': 'Fortaleza', 'produtoId_x': 2983, 'discount%': 0.23728813559322032, 'item_price': 3625.68, 'day': 29, 'month': 3, 'Previsao': 1.0, 'is_optimal': True}, {'dataCadastro': '2022-03-29', 'valorUnitario': 4856.49, 'total': 4856.49, 'valorUnitarioCusto': 3792.81, 'valorFrete': 0.0, 'loja': 'Fortaleza', 'produtoId_x': 2983, 'discount%': 0.2491525423728813, 'item_price': 3625.68, 'day': 29, 'month': 3, 'Previsao': 1.0, 'is_optimal': True}, {'dataCadastro': '2022-03-29', 'valorUnitario': 4856.49, 'total': 4856.49, 'valorUnitarioCusto': 3792.81, 'valorFrete': 0.0, 'loja': 'Fortaleza', 'produtoId_x': 2983, 'discount%': 0.26101694915254237, 'item_price': 3625.68, 'day': 29, 'month': 3, 'Previsao': 1.0, 'is_optimal': True}, {'dataCadastro': '2022-03-29', 'valorUnitario': 4856.49, 'total': 4856.49, 'valorUnitarioCusto': 3792.81, 'valorFrete': 0.0, 'loja': 'Fortaleza', 'produtoId_x': 2983, 'discount%': 0.27288135593220336, 'item_price': 3625.68, 'day': 29, 'month': 3, 'Previsao': 1.0, 'is_optimal': True}, {'dataCadastro': '2022-03-29', 'valorUnitario': 4856.49, 'total': 4856.49, 'valorUnitarioCusto': 3792.81, 'valorFrete': 0.0, 'loja': 'Fortaleza', 'produtoId_x': 2983, 'discount%': 0.28474576271186436, 'item_price': 3625.68, 'day': 29, 'month': 3, 'Previsao': 1.0, 'is_optimal': True}, {'dataCadastro': '2022-03-29', 'valorUnitario': 4856.49, 'total': 4856.49, 'valorUnitarioCusto': 3792.81, 'valorFrete': 0.0, 'loja': 'Fortaleza', 'produtoId_x': 2983, 'discount%': 0.2966101694915254, 'item_price': 3625.68, 'day': 29, 'month': 3, 'Previsao': 1.0, 'is_optimal': True}, {'dataCadastro': '2022-03-29', 'valorUnitario': 4856.49, 'total': 4856.49, 'valorUnitarioCusto': 3792.81, 'valorFrete': 0.0, 'loja': 'Fortaleza', 'produtoId_x': 2983, 'discount%': 0.3084745762711864, 'item_price': 3625.68, 'day': 29, 'month': 3, 'Previsao': 1.0, 'is_optimal': True}, {'dataCadastro': '2022-03-29', 'valorUnitario': 4856.49, 'total': 4856.49, 'valorUnitarioCusto': 3792.81, 'valorFrete': 0.0, 'loja': 'Fortaleza', 'produtoId_x': 2983, 'discount%': 0.3203389830508474, 'item_price': 3625.68, 'day': 29, 'month': 3, 'Previsao': 1.0, 'is_optimal': True}, {'dataCadastro': '2022-03-29', 'valorUnitario': 4856.49, 'total': 4856.49, 'valorUnitarioCusto': 3792.81, 'valorFrete': 0.0, 'loja': 'Fortaleza', 'produtoId_x': 2983, 'discount%': 0.33220338983050846, 'item_price': 3625.68, 'day': 29, 'month': 3, 'Previsao': 1.0, 'is_optimal': True}, {'dataCadastro': '2022-03-29', 'valorUnitario': 4856.49, 'total': 4856.49, 'valorUnitarioCusto': 3792.81, 'valorFrete': 0.0, 'loja': 'Fortaleza', 'produtoId_x': 2983, 'discount%': 0.34406779661016945, 'item_price': 3625.68, 'day': 29, 'month': 3, 'Previsao': 1.0, 'is_optimal': True}, {'dataCadastro': '2022-03-29', 'valorUnitario': 4856.49, 'total': 4856.49, 'valorUnitarioCusto': 3792.81, 'valorFrete': 0.0, 'loja': 'Fortaleza', 'produtoId_x': 2983, 'discount%': 0.35593220338983045, 'item_price': 3625.68, 'day': 29, 'month': 3, 'Previsao': 1.0, 'is_optimal': True}, {'dataCadastro': '2022-03-29', 'valorUnitario': 4856.49, 'total': 4856.49, 'valorUnitarioCusto': 3792.81, 'valorFrete': 0.0, 'loja': 'Fortaleza', 'produtoId_x': 2983, 'discount%': 0.3677966101694915, 'item_price': 3625.68, 'day': 29, 'month': 3, 'Previsao': 1.0, 'is_optimal': True}, {'dataCadastro': '2022-03-29', 'valorUnitario': 4856.49, 'total': 4856.49, 'valorUnitarioCusto': 3792.81, 'valorFrete': 0.0, 'loja': 'Fortaleza', 'produtoId_x': 2983, 'discount%': 0.3796610169491525, 'item_price': 3625.68, 'day': 29, 'month': 3, 'Previsao': 1.0, 'is_optimal': True}, {'dataCadastro': '2022-03-29', 'valorUnitario': 4856.49, 'total': 4856.49, 'valorUnitarioCusto': 3792.81, 'valorFrete': 0.0, 'loja': 'Fortaleza', 'produtoId_x': 2983, 'discount%': 0.3915254237288135, 'item_price': 3625.68, 'day': 29, 'month': 3, 'Previsao': 1.0, 'is_optimal': True}, {'dataCadastro': '2022-03-29', 'valorUnitario': 4856.49, 'total': 4856.49, 'valorUnitarioCusto': 3792.81, 'valorFrete': 0.0, 'loja': 'Fortaleza', 'produtoId_x': 2983, 'discount%': 0.40338983050847455, 'item_price': 3625.68, 'day': 29, 'month': 3, 'Previsao': 1.0, 'is_optimal': True}, {'dataCadastro': '2022-03-29', 'valorUnitario': 4856.49, 'total': 4856.49, 'valorUnitarioCusto': 3792.81, 'valorFrete': 0.0, 'loja': 'Fortaleza', 'produtoId_x': 2983, 'discount%': 0.41525423728813554, 'item_price': 3625.68, 'day': 29, 'month': 3, 'Previsao': 1.0, 'is_optimal': True}, {'dataCadastro': '2022-03-29', 'valorUnitario': 4856.49, 'total': 4856.49, 'valorUnitarioCusto': 3792.81, 'valorFrete': 0.0, 'loja': 'Fortaleza', 'produtoId_x': 2983, 'discount%': 0.42711864406779654, 'item_price': 3625.68, 'day': 29, 'month': 3, 'Previsao': 1.0, 'is_optimal': True}, {'dataCadastro': '2022-03-29', 'valorUnitario': 4856.49, 'total': 4856.49, 'valorUnitarioCusto': 3792.81, 'valorFrete': 0.0, 'loja': 'Fortaleza', 'produtoId_x': 2983, 'discount%': 0.4389830508474576, 'item_price': 3625.68, 'day': 29, 'month': 3, 'Previsao': 1.0, 'is_optimal': True}, {'dataCadastro': '2022-03-29', 'valorUnitario': 4856.49, 'total': 4856.49, 'valorUnitarioCusto': 3792.81, 'valorFrete': 0.0, 'loja': 'Fortaleza', 'produtoId_x': 2983, 'discount%': 0.4508474576271186, 'item_price': 3625.68, 'day': 29, 'month': 3, 'Previsao': 1.0, 'is_optimal': True}, {'dataCadastro': '2022-03-29', 'valorUnitario': 4856.49, 'total': 4856.49, 'valorUnitarioCusto': 3792.81, 'valorFrete': 0.0, 'loja': 'Fortaleza', 'produtoId_x': 2983, 'discount%': 0.4627118644067796, 'item_price': 3625.68, 'day': 29, 'month': 3, 'Previsao': 1.0, 'is_optimal': True}, {'dataCadastro': '2022-03-29', 'valorUnitario': 4856.49, 'total': 4856.49, 'valorUnitarioCusto': 3792.81, 'valorFrete': 0.0, 'loja': 'Fortaleza', 'produtoId_x': 2983, 'discount%': 0.47457627118644063, 'item_price': 3625.68, 'day': 29, 'month': 3, 'Previsao': 1.0, 'is_optimal': True}, {'dataCadastro': '2022-03-29', 'valorUnitario': 4856.49, 'total': 4856.49, 'valorUnitarioCusto': 3792.81, 'valorFrete': 0.0, 'loja': 'Fortaleza', 'produtoId_x': 2983, 'discount%': 0.48644067796610163, 'item_price': 3625.68, 'day': 29, 'month': 3, 'Previsao': 1.0, 'is_optimal': True}, {'dataCadastro': '2022-03-29', 'valorUnitario': 4856.49, 'total': 4856.49, 'valorUnitarioCusto': 3792.81, 'valorFrete': 0.0, 'loja': 'Fortaleza', 'produtoId_x': 2983, 'discount%': 0.4983050847457626, 'item_price': 3625.68, 'day': 29, 'month': 3, 'Previsao': 1.0, 'is_optimal': True}, {'dataCadastro': '2022-03-29', 'valorUnitario': 4856.49, 'total': 4856.49, 'valorUnitarioCusto': 3792.81, 'valorFrete': 0.0, 'loja': 'Fortaleza', 'produtoId_x': 2983, 'discount%': 0.5101694915254237, 'item_price': 3625.68, 'day': 29, 'month': 3, 'Previsao': 1.0, 'is_optimal': True}, {'dataCadastro': '2022-03-29', 'valorUnitario': 4856.49, 'total': 4856.49, 'valorUnitarioCusto': 3792.81, 'valorFrete': 0.0, 'loja': 'Fortaleza', 'produtoId_x': 2983, 'discount%': 0.5220338983050847, 'item_price': 3625.68, 'day': 29, 'month': 3, 'Previsao': 1.0, 'is_optimal': True}, {'dataCadastro': '2022-03-29', 'valorUnitario': 4856.49, 'total': 4856.49, 'valorUnitarioCusto': 3792.81, 'valorFrete': 0.0, 'loja': 'Fortaleza', 'produtoId_x': 2983, 'discount%': 0.5338983050847457, 'item_price': 3625.68, 'day': 29, 'month': 3, 'Previsao': 1.0, 'is_optimal': True}, {'dataCadastro': '2022-03-29', 'valorUnitario': 4856.49, 'total': 4856.49, 'valorUnitarioCusto': 3792.81, 'valorFrete': 0.0, 'loja': 'Fortaleza', 'produtoId_x': 2983, 'discount%': 0.5457627118644067, 'item_price': 3625.68, 'day': 29, 'month': 3, 'Previsao': 1.0, 'is_optimal': True}, {'dataCadastro': '2022-03-29', 'valorUnitario': 4856.49, 'total': 4856.49, 'valorUnitarioCusto': 3792.81, 'valorFrete': 0.0, 'loja': 'Fortaleza', 'produtoId_x': 2983, 'discount%': 0.5576271186440678, 'item_price': 3625.68, 'day': 29, 'month': 3, 'Previsao': 1.0, 'is_optimal': True}, {'dataCadastro': '2022-03-29', 'valorUnitario': 4856.49, 'total': 4856.49, 'valorUnitarioCusto': 3792.81, 'valorFrete': 0.0, 'loja': 'Fortaleza', 'produtoId_x': 2983, 'discount%': 0.5694915254237287, 'item_price': 3625.68, 'day': 29, 'month': 3, 'Previsao': 1.0, 'is_optimal': True}, {'dataCadastro': '2022-03-29', 'valorUnitario': 4856.49, 'total': 4856.49, 'valorUnitarioCusto': 3792.81, 'valorFrete': 0.0, 'loja': 'Fortaleza', 'produtoId_x': 2983, 'discount%': 0.5813559322033898, 'item_price': 3625.68, 'day': 29, 'month': 3, 'Previsao': 1.0, 'is_optimal': True}, {'dataCadastro': '2022-03-29', 'valorUnitario': 4856.49, 'total': 4856.49, 'valorUnitarioCusto': 3792.81, 'valorFrete': 0.0, 'loja': 'Fortaleza', 'produtoId_x': 2983, 'discount%': 0.5932203389830508, 'item_price': 3625.68, 'day': 29, 'month': 3, 'Previsao': 1.0, 'is_optimal': True}, {'dataCadastro': '2022-03-29', 'valorUnitario': 4856.49, 'total': 4856.49, 'valorUnitarioCusto': 3792.81, 'valorFrete': 0.0, 'loja': 'Fortaleza', 'produtoId_x': 2983, 'discount%': 0.6050847457627118, 'item_price': 3625.68, 'day': 29, 'month': 3, 'Previsao': 1.0, 'is_optimal': True}, {'dataCadastro': '2022-03-29', 'valorUnitario': 4856.49, 'total': 4856.49, 'valorUnitarioCusto': 3792.81, 'valorFrete': 0.0, 'loja': 'Fortaleza', 'produtoId_x': 2983, 'discount%': 0.6169491525423728, 'item_price': 3625.68, 'day': 29, 'month': 3, 'Previsao': 1.0, 'is_optimal': True}, {'dataCadastro': '2022-03-29', 'valorUnitario': 4856.49, 'total': 4856.49, 'valorUnitarioCusto': 3792.81, 'valorFrete': 0.0, 'loja': 'Fortaleza', 'produtoId_x': 2983, 'discount%': 0.6288135593220339, 'item_price': 3625.68, 'day': 29, 'month': 3, 'Previsao': 1.0, 'is_optimal': True}, {'dataCadastro': '2022-03-29', 'valorUnitario': 4856.49, 'total': 4856.49, 'valorUnitarioCusto': 3792.81, 'valorFrete': 0.0, 'loja': 'Fortaleza', 'produtoId_x': 2983, 'discount%': 0.6406779661016948, 'item_price': 3625.68, 'day': 29, 'month': 3, 'Previsao': 1.0, 'is_optimal': True}, {'dataCadastro': '2022-03-29', 'valorUnitario': 4856.49, 'total': 4856.49, 'valorUnitarioCusto': 3792.81, 'valorFrete': 0.0, 'loja': 'Fortaleza', 'produtoId_x': 2983, 'discount%': 0.6525423728813559, 'item_price': 3625.68, 'day': 29, 'month': 3, 'Previsao': 1.0, 'is_optimal': True}, {'dataCadastro': '2022-03-29', 'valorUnitario': 4856.49, 'total': 4856.49, 'valorUnitarioCusto': 3792.81, 'valorFrete': 0.0, 'loja': 'Fortaleza', 'produtoId_x': 2983, 'discount%': 0.6644067796610169, 'item_price': 3625.68, 'day': 29, 'month': 3, 'Previsao': 1.0, 'is_optimal': True}, {'dataCadastro': '2022-03-29', 'valorUnitario': 4856.49, 'total': 4856.49, 'valorUnitarioCusto': 3792.81, 'valorFrete': 0.0, 'loja': 'Fortaleza', 'produtoId_x': 2983, 'discount%': 0.6762711864406779, 'item_price': 3625.68, 'day': 29, 'month': 3, 'Previsao': 1.0, 'is_optimal': True}, {'dataCadastro': '2022-03-29', 'valorUnitario': 4856.49, 'total': 4856.49, 'valorUnitarioCusto': 3792.81, 'valorFrete': 0.0, 'loja': 'Fortaleza', 'produtoId_x': 2983, 'discount%': 0.6881355932203389, 'item_price': 3625.68, 'day': 29, 'month': 3, 'Previsao': 1.0, 'is_optimal': True}, {'dataCadastro': '2022-03-29', 'valorUnitario': 4856.49, 'total': 4856.49, 'valorUnitarioCusto': 3792.81, 'valorFrete': 0.0, 'loja': 'Fortaleza', 'produtoId_x': 2983, 'discount%': 0.7, 'item_price': 3625.68, 'day': 29, 'month': 3, 'Previsao': 1.0, 'is_optimal': True}, {'dataCadastro': '2022-07-29', 'valorUnitario': 878.3, 'total': 2634.9, 'valorUnitarioCusto': 379.0, 'valorFrete': 105.0, 'loja': 'Irecê', 'produtoId_x': 7704, 'discount%': 0.0, 'item_price': 4470.72, 'day': 29, 'month': 7, 'Previsao': 1.0, 'is_optimal': False}, {'dataCadastro': '2022-07-29', 'valorUnitario': 878.3, 'total': 2634.9, 'valorUnitarioCusto': 379.0, 'valorFrete': 105.0, 'loja': 'Irecê', 'produtoId_x': 7704, 'discount%': 0.011864406779661016, 'item_price': 4470.72, 'day': 29, 'month': 7, 'Previsao': 1.0, 'is_optimal': False}, {'dataCadastro': '2022-07-29', 'valorUnitario': 878.3, 'total': 2634.9, 'valorUnitarioCusto': 379.0, 'valorFrete': 105.0, 'loja': 'Irecê', 'produtoId_x': 7704, 'discount%': 0.02372881355932203, 'item_price': 4470.72, 'day': 29, 'month': 7, 'Previsao': 1.0, 'is_optimal': False}, {'dataCadastro': '2022-07-29', 'valorUnitario': 878.3, 'total': 2634.9, 'valorUnitarioCusto': 379.0, 'valorFrete': 105.0, 'loja': 'Irecê', 'produtoId_x': 7704, 'discount%': 0.035593220338983045, 'item_price': 4470.72, 'day': 29, 'month': 7, 'Previsao': 1.0, 'is_optimal': False}, {'dataCadastro': '2022-07-29', 'valorUnitario': 878.3, 'total': 2634.9, 'valorUnitarioCusto': 379.0, 'valorFrete': 105.0, 'loja': 'Irecê', 'produtoId_x': 7704, 'discount%': 0.04745762711864406, 'item_price': 4470.72, 'day': 29, 'month': 7, 'Previsao': 1.0, 'is_optimal': False}, {'dataCadastro': '2022-07-29', 'valorUnitario': 878.3, 'total': 2634.9, 'valorUnitarioCusto': 379.0, 'valorFrete': 105.0, 'loja': 'Irecê', 'produtoId_x': 7704, 'discount%': 0.05932203389830508, 'item_price': 4470.72, 'day': 29, 'month': 7, 'Previsao': 1.0, 'is_optimal': False}, {'dataCadastro': '2022-07-29', 'valorUnitario': 878.3, 'total': 2634.9, 'valorUnitarioCusto': 379.0, 'valorFrete': 105.0, 'loja': 'Irecê', 'produtoId_x': 7704, 'discount%': 0.07118644067796609, 'item_price': 4470.72, 'day': 29, 'month': 7, 'Previsao': 1.0, 'is_optimal': False}, {'dataCadastro': '2022-07-29', 'valorUnitario': 878.3, 'total': 2634.9, 'valorUnitarioCusto': 379.0, 'valorFrete': 105.0, 'loja': 'Irecê', 'produtoId_x': 7704, 'discount%': 0.08305084745762711, 'item_price': 4470.72, 'day': 29, 'month': 7, 'Previsao': 1.0, 'is_optimal': False}, {'dataCadastro': '2022-07-29', 'valorUnitario': 878.3, 'total': 2634.9, 'valorUnitarioCusto': 379.0, 'valorFrete': 105.0, 'loja': 'Irecê', 'produtoId_x': 7704, 'discount%': 0.09491525423728812, 'item_price': 4470.72, 'day': 29, 'month': 7, 'Previsao': 1.56, 'is_optimal': False}, {'dataCadastro': '2022-07-29', 'valorUnitario': 878.3, 'total': 2634.9, 'valorUnitarioCusto': 379.0, 'valorFrete': 105.0, 'loja': 'Irecê', 'produtoId_x': 7704, 'discount%': 0.10677966101694913, 'item_price': 4470.72, 'day': 29, 'month': 7, 'Previsao': 1.55, 'is_optimal': False}, {'dataCadastro': '2022-07-29', 'valorUnitario': 878.3, 'total': 2634.9, 'valorUnitarioCusto': 379.0, 'valorFrete': 105.0, 'loja': 'Irecê', 'produtoId_x': 7704, 'discount%': 0.11864406779661016, 'item_price': 4470.72, 'day': 29, 'month': 7, 'Previsao': 1.55, 'is_optimal': False}, {'dataCadastro': '2022-07-29', 'valorUnitario': 878.3, 'total': 2634.9, 'valorUnitarioCusto': 379.0, 'valorFrete': 105.0, 'loja': 'Irecê', 'produtoId_x': 7704, 'discount%': 0.13050847457627118, 'item_price': 4470.72, 'day': 29, 'month': 7, 'Previsao': 1.58, 'is_optimal': False}, {'dataCadastro': '2022-07-29', 'valorUnitario': 878.3, 'total': 2634.9, 'valorUnitarioCusto': 379.0, 'valorFrete': 105.0, 'loja': 'Irecê', 'produtoId_x': 7704, 'discount%': 0.14237288135593218, 'item_price': 4470.72, 'day': 29, 'month': 7, 'Previsao': 1.29, 'is_optimal': False}, {'dataCadastro': '2022-07-29', 'valorUnitario': 878.3, 'total': 2634.9, 'valorUnitarioCusto': 379.0, 'valorFrete': 105.0, 'loja': 'Irecê', 'produtoId_x': 7704, 'discount%': 0.1542372881355932, 'item_price': 4470.72, 'day': 29, 'month': 7, 'Previsao': 1.87, 'is_optimal': True}, {'dataCadastro': '2022-07-29', 'valorUnitario': 878.3, 'total': 2634.9, 'valorUnitarioCusto': 379.0, 'valorFrete': 105.0, 'loja': 'Irecê', 'produtoId_x': 7704, 'discount%': 0.16610169491525423, 'item_price': 4470.72, 'day': 29, 'month': 7, 'Previsao': 1.87, 'is_optimal': True}, {'dataCadastro': '2022-07-29', 'valorUnitario': 878.3, 'total': 2634.9, 'valorUnitarioCusto': 379.0, 'valorFrete': 105.0, 'loja': 'Irecê', 'produtoId_x': 7704, 'discount%': 0.17796610169491522, 'item_price': 4470.72, 'day': 29, 'month': 7, 'Previsao': 1.83, 'is_optimal': False}, {'dataCadastro': '2022-07-29', 'valorUnitario': 878.3, 'total': 2634.9, 'valorUnitarioCusto': 379.0, 'valorFrete': 105.0, 'loja': 'Irecê', 'produtoId_x': 7704, 'discount%': 0.18983050847457625, 'item_price': 4470.72, 'day': 29, 'month': 7, 'Previsao': 1.34, 'is_optimal': False}, {'dataCadastro': '2022-07-29', 'valorUnitario': 878.3, 'total': 2634.9, 'valorUnitarioCusto': 379.0, 'valorFrete': 105.0, 'loja': 'Irecê', 'produtoId_x': 7704, 'discount%': 0.20169491525423727, 'item_price': 4470.72, 'day': 29, 'month': 7, 'Previsao': 1.34, 'is_optimal': False}, {'dataCadastro': '2022-07-29', 'valorUnitario': 878.3, 'total': 2634.9, 'valorUnitarioCusto': 379.0, 'valorFrete': 105.0, 'loja': 'Irecê', 'produtoId_x': 7704, 'discount%': 0.21355932203389827, 'item_price': 4470.72, 'day': 29, 'month': 7, 'Previsao': 1.34, 'is_optimal': False}, {'dataCadastro': '2022-07-29', 'valorUnitario': 878.3, 'total': 2634.9, 'valorUnitarioCusto': 379.0, 'valorFrete': 105.0, 'loja': 'Irecê', 'produtoId_x': 7704, 'discount%': 0.2254237288135593, 'item_price': 4470.72, 'day': 29, 'month': 7, 'Previsao': 1.34, 'is_optimal': False}, {'dataCadastro': '2022-07-29', 'valorUnitario': 878.3, 'total': 2634.9, 'valorUnitarioCusto': 379.0, 'valorFrete': 105.0, 'loja': 'Irecê', 'produtoId_x': 7704, 'discount%': 0.23728813559322032, 'item_price': 4470.72, 'day': 29, 'month': 7, 'Previsao': 1.34, 'is_optimal': False}, {'dataCadastro': '2022-07-29', 'valorUnitario': 878.3, 'total': 2634.9, 'valorUnitarioCusto': 379.0, 'valorFrete': 105.0, 'loja': 'Irecê', 'produtoId_x': 7704, 'discount%': 0.2491525423728813, 'item_price': 4470.72, 'day': 29, 'month': 7, 'Previsao': 1.34, 'is_optimal': False}, {'dataCadastro': '2022-07-29', 'valorUnitario': 878.3, 'total': 2634.9, 'valorUnitarioCusto': 379.0, 'valorFrete': 105.0, 'loja': 'Irecê', 'produtoId_x': 7704, 'discount%': 0.26101694915254237, 'item_price': 4470.72, 'day': 29, 'month': 7, 'Previsao': 1.34, 'is_optimal': False}, {'dataCadastro': '2022-07-29', 'valorUnitario': 878.3, 'total': 2634.9, 'valorUnitarioCusto': 379.0, 'valorFrete': 105.0, 'loja': 'Irecê', 'produtoId_x': 7704, 'discount%': 0.27288135593220336, 'item_price': 4470.72, 'day': 29, 'month': 7, 'Previsao': 1.34, 'is_optimal': False}, {'dataCadastro': '2022-07-29', 'valorUnitario': 878.3, 'total': 2634.9, 'valorUnitarioCusto': 379.0, 'valorFrete': 105.0, 'loja': 'Irecê', 'produtoId_x': 7704, 'discount%': 0.28474576271186436, 'item_price': 4470.72, 'day': 29, 'month': 7, 'Previsao': 1.34, 'is_optimal': False}, {'dataCadastro': '2022-07-29', 'valorUnitario': 878.3, 'total': 2634.9, 'valorUnitarioCusto': 379.0, 'valorFrete': 105.0, 'loja': 'Irecê', 'produtoId_x': 7704, 'discount%': 0.2966101694915254, 'item_price': 4470.72, 'day': 29, 'month': 7, 'Previsao': 1.34, 'is_optimal': False}, {'dataCadastro': '2022-07-29', 'valorUnitario': 878.3, 'total': 2634.9, 'valorUnitarioCusto': 379.0, 'valorFrete': 105.0, 'loja': 'Irecê', 'produtoId_x': 7704, 'discount%': 0.3084745762711864, 'item_price': 4470.72, 'day': 29, 'month': 7, 'Previsao': 1.34, 'is_optimal': False}, {'dataCadastro': '2022-07-29', 'valorUnitario': 878.3, 'total': 2634.9, 'valorUnitarioCusto': 379.0, 'valorFrete': 105.0, 'loja': 'Irecê', 'produtoId_x': 7704, 'discount%': 0.3203389830508474, 'item_price': 4470.72, 'day': 29, 'month': 7, 'Previsao': 1.34, 'is_optimal': False}, {'dataCadastro': '2022-07-29', 'valorUnitario': 878.3, 'total': 2634.9, 'valorUnitarioCusto': 379.0, 'valorFrete': 105.0, 'loja': 'Irecê', 'produtoId_x': 7704, 'discount%': 0.33220338983050846, 'item_price': 4470.72, 'day': 29, 'month': 7, 'Previsao': 1.34, 'is_optimal': False}, {'dataCadastro': '2022-07-29', 'valorUnitario': 878.3, 'total': 2634.9, 'valorUnitarioCusto': 379.0, 'valorFrete': 105.0, 'loja': 'Irecê', 'produtoId_x': 7704, 'discount%': 0.34406779661016945, 'item_price': 4470.72, 'day': 29, 'month': 7, 'Previsao': 1.34, 'is_optimal': False}, {'dataCadastro': '2022-07-29', 'valorUnitario': 878.3, 'total': 2634.9, 'valorUnitarioCusto': 379.0, 'valorFrete': 105.0, 'loja': 'Irecê', 'produtoId_x': 7704, 'discount%': 0.35593220338983045, 'item_price': 4470.72, 'day': 29, 'month': 7, 'Previsao': 1.34, 'is_optimal': False}, {'dataCadastro': '2022-07-29', 'valorUnitario': 878.3, 'total': 2634.9, 'valorUnitarioCusto': 379.0, 'valorFrete': 105.0, 'loja': 'Irecê', 'produtoId_x': 7704, 'discount%': 0.3677966101694915, 'item_price': 4470.72, 'day': 29, 'month': 7, 'Previsao': 1.34, 'is_optimal': False}, {'dataCadastro': '2022-07-29', 'valorUnitario': 878.3, 'total': 2634.9, 'valorUnitarioCusto': 379.0, 'valorFrete': 105.0, 'loja': 'Irecê', 'produtoId_x': 7704, 'discount%': 0.3796610169491525, 'item_price': 4470.72, 'day': 29, 'month': 7, 'Previsao': 1.34, 'is_optimal': False}, {'dataCadastro': '2022-07-29', 'valorUnitario': 878.3, 'total': 2634.9, 'valorUnitarioCusto': 379.0, 'valorFrete': 105.0, 'loja': 'Irecê', 'produtoId_x': 7704, 'discount%': 0.3915254237288135, 'item_price': 4470.72, 'day': 29, 'month': 7, 'Previsao': 1.34, 'is_optimal': False}, {'dataCadastro': '2022-07-29', 'valorUnitario': 878.3, 'total': 2634.9, 'valorUnitarioCusto': 379.0, 'valorFrete': 105.0, 'loja': 'Irecê', 'produtoId_x': 7704, 'discount%': 0.40338983050847455, 'item_price': 4470.72, 'day': 29, 'month': 7, 'Previsao': 1.34, 'is_optimal': False}, {'dataCadastro': '2022-07-29', 'valorUnitario': 878.3, 'total': 2634.9, 'valorUnitarioCusto': 379.0, 'valorFrete': 105.0, 'loja': 'Irecê', 'produtoId_x': 7704, 'discount%': 0.41525423728813554, 'item_price': 4470.72, 'day': 29, 'month': 7, 'Previsao': 1.34, 'is_optimal': False}, {'dataCadastro': '2022-07-29', 'valorUnitario': 878.3, 'total': 2634.9, 'valorUnitarioCusto': 379.0, 'valorFrete': 105.0, 'loja': 'Irecê', 'produtoId_x': 7704, 'discount%': 0.42711864406779654, 'item_price': 4470.72, 'day': 29, 'month': 7, 'Previsao': 1.34, 'is_optimal': False}, {'dataCadastro': '2022-07-29', 'valorUnitario': 878.3, 'total': 2634.9, 'valorUnitarioCusto': 379.0, 'valorFrete': 105.0, 'loja': 'Irecê', 'produtoId_x': 7704, 'discount%': 0.4389830508474576, 'item_price': 4470.72, 'day': 29, 'month': 7, 'Previsao': 1.34, 'is_optimal': False}, {'dataCadastro': '2022-07-29', 'valorUnitario': 878.3, 'total': 2634.9, 'valorUnitarioCusto': 379.0, 'valorFrete': 105.0, 'loja': 'Irecê', 'produtoId_x': 7704, 'discount%': 0.4508474576271186, 'item_price': 4470.72, 'day': 29, 'month': 7, 'Previsao': 1.34, 'is_optimal': False}, {'dataCadastro': '2022-07-29', 'valorUnitario': 878.3, 'total': 2634.9, 'valorUnitarioCusto': 379.0, 'valorFrete': 105.0, 'loja': 'Irecê', 'produtoId_x': 7704, 'discount%': 0.4627118644067796, 'item_price': 4470.72, 'day': 29, 'month': 7, 'Previsao': 1.34, 'is_optimal': False}, {'dataCadastro': '2022-07-29', 'valorUnitario': 878.3, 'total': 2634.9, 'valorUnitarioCusto': 379.0, 'valorFrete': 105.0, 'loja': 'Irecê', 'produtoId_x': 7704, 'discount%': 0.47457627118644063, 'item_price': 4470.72, 'day': 29, 'month': 7, 'Previsao': 1.34, 'is_optimal': False}, {'dataCadastro': '2022-07-29', 'valorUnitario': 878.3, 'total': 2634.9, 'valorUnitarioCusto': 379.0, 'valorFrete': 105.0, 'loja': 'Irecê', 'produtoId_x': 7704, 'discount%': 0.48644067796610163, 'item_price': 4470.72, 'day': 29, 'month': 7, 'Previsao': 1.34, 'is_optimal': False}, {'dataCadastro': '2022-07-29', 'valorUnitario': 878.3, 'total': 2634.9, 'valorUnitarioCusto': 379.0, 'valorFrete': 105.0, 'loja': 'Irecê', 'produtoId_x': 7704, 'discount%': 0.4983050847457626, 'item_price': 4470.72, 'day': 29, 'month': 7, 'Previsao': 1.34, 'is_optimal': False}, {'dataCadastro': '2022-07-29', 'valorUnitario': 878.3, 'total': 2634.9, 'valorUnitarioCusto': 379.0, 'valorFrete': 105.0, 'loja': 'Irecê', 'produtoId_x': 7704, 'discount%': 0.5101694915254237, 'item_price': 4470.72, 'day': 29, 'month': 7, 'Previsao': 1.34, 'is_optimal': False}, {'dataCadastro': '2022-07-29', 'valorUnitario': 878.3, 'total': 2634.9, 'valorUnitarioCusto': 379.0, 'valorFrete': 105.0, 'loja': 'Irecê', 'produtoId_x': 7704, 'discount%': 0.5220338983050847, 'item_price': 4470.72, 'day': 29, 'month': 7, 'Previsao': 1.34, 'is_optimal': False}, {'dataCadastro': '2022-07-29', 'valorUnitario': 878.3, 'total': 2634.9, 'valorUnitarioCusto': 379.0, 'valorFrete': 105.0, 'loja': 'Irecê', 'produtoId_x': 7704, 'discount%': 0.5338983050847457, 'item_price': 4470.72, 'day': 29, 'month': 7, 'Previsao': 1.34, 'is_optimal': False}, {'dataCadastro': '2022-07-29', 'valorUnitario': 878.3, 'total': 2634.9, 'valorUnitarioCusto': 379.0, 'valorFrete': 105.0, 'loja': 'Irecê', 'produtoId_x': 7704, 'discount%': 0.5457627118644067, 'item_price': 4470.72, 'day': 29, 'month': 7, 'Previsao': 1.34, 'is_optimal': False}, {'dataCadastro': '2022-07-29', 'valorUnitario': 878.3, 'total': 2634.9, 'valorUnitarioCusto': 379.0, 'valorFrete': 105.0, 'loja': 'Irecê', 'produtoId_x': 7704, 'discount%': 0.5576271186440678, 'item_price': 4470.72, 'day': 29, 'month': 7, 'Previsao': 1.34, 'is_optimal': False}, {'dataCadastro': '2022-07-29', 'valorUnitario': 878.3, 'total': 2634.9, 'valorUnitarioCusto': 379.0, 'valorFrete': 105.0, 'loja': 'Irecê', 'produtoId_x': 7704, 'discount%': 0.5694915254237287, 'item_price': 4470.72, 'day': 29, 'month': 7, 'Previsao': 1.34, 'is_optimal': False}, {'dataCadastro': '2022-07-29', 'valorUnitario': 878.3, 'total': 2634.9, 'valorUnitarioCusto': 379.0, 'valorFrete': 105.0, 'loja': 'Irecê', 'produtoId_x': 7704, 'discount%': 0.5813559322033898, 'item_price': 4470.72, 'day': 29, 'month': 7, 'Previsao': 1.34, 'is_optimal': False}, {'dataCadastro': '2022-07-29', 'valorUnitario': 878.3, 'total': 2634.9, 'valorUnitarioCusto': 379.0, 'valorFrete': 105.0, 'loja': 'Irecê', 'produtoId_x': 7704, 'discount%': 0.5932203389830508, 'item_price': 4470.72, 'day': 29, 'month': 7, 'Previsao': 1.34, 'is_optimal': False}, {'dataCadastro': '2022-07-29', 'valorUnitario': 878.3, 'total': 2634.9, 'valorUnitarioCusto': 379.0, 'valorFrete': 105.0, 'loja': 'Irecê', 'produtoId_x': 7704, 'discount%': 0.6050847457627118, 'item_price': 4470.72, 'day': 29, 'month': 7, 'Previsao': 1.34, 'is_optimal': False}, {'dataCadastro': '2022-07-29', 'valorUnitario': 878.3, 'total': 2634.9, 'valorUnitarioCusto': 379.0, 'valorFrete': 105.0, 'loja': 'Irecê', 'produtoId_x': 7704, 'discount%': 0.6169491525423728, 'item_price': 4470.72, 'day': 29, 'month': 7, 'Previsao': 1.34, 'is_optimal': False}, {'dataCadastro': '2022-07-29', 'valorUnitario': 878.3, 'total': 2634.9, 'valorUnitarioCusto': 379.0, 'valorFrete': 105.0, 'loja': 'Irecê', 'produtoId_x': 7704, 'discount%': 0.6288135593220339, 'item_price': 4470.72, 'day': 29, 'month': 7, 'Previsao': 1.34, 'is_optimal': False}, {'dataCadastro': '2022-07-29', 'valorUnitario': 878.3, 'total': 2634.9, 'valorUnitarioCusto': 379.0, 'valorFrete': 105.0, 'loja': 'Irecê', 'produtoId_x': 7704, 'discount%': 0.6406779661016948, 'item_price': 4470.72, 'day': 29, 'month': 7, 'Previsao': 1.34, 'is_optimal': False}, {'dataCadastro': '2022-07-29', 'valorUnitario': 878.3, 'total': 2634.9, 'valorUnitarioCusto': 379.0, 'valorFrete': 105.0, 'loja': 'Irecê', 'produtoId_x': 7704, 'discount%': 0.6525423728813559, 'item_price': 4470.72, 'day': 29, 'month': 7, 'Previsao': 1.34, 'is_optimal': False}, {'dataCadastro': '2022-07-29', 'valorUnitario': 878.3, 'total': 2634.9, 'valorUnitarioCusto': 379.0, 'valorFrete': 105.0, 'loja': 'Irecê', 'produtoId_x': 7704, 'discount%': 0.6644067796610169, 'item_price': 4470.72, 'day': 29, 'month': 7, 'Previsao': 1.34, 'is_optimal': False}, {'dataCadastro': '2022-07-29', 'valorUnitario': 878.3, 'total': 2634.9, 'valorUnitarioCusto': 379.0, 'valorFrete': 105.0, 'loja': 'Irecê', 'produtoId_x': 7704, 'discount%': 0.6762711864406779, 'item_price': 4470.72, 'day': 29, 'month': 7, 'Previsao': 1.34, 'is_optimal': False}, {'dataCadastro': '2022-07-29', 'valorUnitario': 878.3, 'total': 2634.9, 'valorUnitarioCusto': 379.0, 'valorFrete': 105.0, 'loja': 'Irecê', 'produtoId_x': 7704, 'discount%': 0.6881355932203389, 'item_price': 4470.72, 'day': 29, 'month': 7, 'Previsao': 1.34, 'is_optimal': False}, {'dataCadastro': '2022-07-29', 'valorUnitario': 878.3, 'total': 2634.9, 'valorUnitarioCusto': 379.0, 'valorFrete': 105.0, 'loja': 'Irecê', 'produtoId_x': 7704, 'discount%': 0.7, 'item_price': 4470.72, 'day': 29, 'month': 7, 'Previsao': 1.34, 'is_optimal': False}, {'dataCadastro': '2022-10-17', 'valorUnitario': 3271.57, 'total': 3271.57, 'valorUnitarioCusto': 2468.41, 'valorFrete': 0.0, 'loja': 'Nova Lima - Vila da Serra', 'produtoId_x': 9503, 'discount%': 0.0, 'item_price': 2202.9, 'day': 17, 'month': 10, 'Previsao': 1.0, 'is_optimal': False}, {'dataCadastro': '2022-10-17', 'valorUnitario': 3271.57, 'total': 3271.57, 'valorUnitarioCusto': 2468.41, 'valorFrete': 0.0, 'loja': 'Nova Lima - Vila da Serra', 'produtoId_x': 9503, 'discount%': 0.011864406779661016, 'item_price': 2202.9, 'day': 17, 'month': 10, 'Previsao': 1.0, 'is_optimal': False}, {'dataCadastro': '2022-10-17', 'valorUnitario': 3271.57, 'total': 3271.57, 'valorUnitarioCusto': 2468.41, 'valorFrete': 0.0, 'loja': 'Nova Lima - Vila da Serra', 'produtoId_x': 9503, 'discount%': 0.02372881355932203, 'item_price': 2202.9, 'day': 17, 'month': 10, 'Previsao': 1.0, 'is_optimal': False}, {'dataCadastro': '2022-10-17', 'valorUnitario': 3271.57, 'total': 3271.57, 'valorUnitarioCusto': 2468.41, 'valorFrete': 0.0, 'loja': 'Nova Lima - Vila da Serra', 'produtoId_x': 9503, 'discount%': 0.035593220338983045, 'item_price': 2202.9, 'day': 17, 'month': 10, 'Previsao': 1.0, 'is_optimal': False}, {'dataCadastro': '2022-10-17', 'valorUnitario': 3271.57, 'total': 3271.57, 'valorUnitarioCusto': 2468.41, 'valorFrete': 0.0, 'loja': 'Nova Lima - Vila da Serra', 'produtoId_x': 9503, 'discount%': 0.04745762711864406, 'item_price': 2202.9, 'day': 17, 'month': 10, 'Previsao': 1.0, 'is_optimal': False}, {'dataCadastro': '2022-10-17', 'valorUnitario': 3271.57, 'total': 3271.57, 'valorUnitarioCusto': 2468.41, 'valorFrete': 0.0, 'loja': 'Nova Lima - Vila da Serra', 'produtoId_x': 9503, 'discount%': 0.05932203389830508, 'item_price': 2202.9, 'day': 17, 'month': 10, 'Previsao': 1.0, 'is_optimal': False}, {'dataCadastro': '2022-10-17', 'valorUnitario': 3271.57, 'total': 3271.57, 'valorUnitarioCusto': 2468.41, 'valorFrete': 0.0, 'loja': 'Nova Lima - Vila da Serra', 'produtoId_x': 9503, 'discount%': 0.07118644067796609, 'item_price': 2202.9, 'day': 17, 'month': 10, 'Previsao': 1.0, 'is_optimal': False}, {'dataCadastro': '2022-10-17', 'valorUnitario': 3271.57, 'total': 3271.57, 'valorUnitarioCusto': 2468.41, 'valorFrete': 0.0, 'loja': 'Nova Lima - Vila da Serra', 'produtoId_x': 9503, 'discount%': 0.08305084745762711, 'item_price': 2202.9, 'day': 17, 'month': 10, 'Previsao': 1.0, 'is_optimal': False}, {'dataCadastro': '2022-10-17', 'valorUnitario': 3271.57, 'total': 3271.57, 'valorUnitarioCusto': 2468.41, 'valorFrete': 0.0, 'loja': 'Nova Lima - Vila da Serra', 'produtoId_x': 9503, 'discount%': 0.09491525423728812, 'item_price': 2202.9, 'day': 17, 'month': 10, 'Previsao': 1.0, 'is_optimal': False}, {'dataCadastro': '2022-10-17', 'valorUnitario': 3271.57, 'total': 3271.57, 'valorUnitarioCusto': 2468.41, 'valorFrete': 0.0, 'loja': 'Nova Lima - Vila da Serra', 'produtoId_x': 9503, 'discount%': 0.10677966101694913, 'item_price': 2202.9, 'day': 17, 'month': 10, 'Previsao': 1.0, 'is_optimal': False}, {'dataCadastro': '2022-10-17', 'valorUnitario': 3271.57, 'total': 3271.57, 'valorUnitarioCusto': 2468.41, 'valorFrete': 0.0, 'loja': 'Nova Lima - Vila da Serra', 'produtoId_x': 9503, 'discount%': 0.11864406779661016, 'item_price': 2202.9, 'day': 17, 'month': 10, 'Previsao': 1.0, 'is_optimal': False}, {'dataCadastro': '2022-10-17', 'valorUnitario': 3271.57, 'total': 3271.57, 'valorUnitarioCusto': 2468.41, 'valorFrete': 0.0, 'loja': 'Nova Lima - Vila da Serra', 'produtoId_x': 9503, 'discount%': 0.13050847457627118, 'item_price': 2202.9, 'day': 17, 'month': 10, 'Previsao': 1.01, 'is_optimal': False}, {'dataCadastro': '2022-10-17', 'valorUnitario': 3271.57, 'total': 3271.57, 'valorUnitarioCusto': 2468.41, 'valorFrete': 0.0, 'loja': 'Nova Lima - Vila da Serra', 'produtoId_x': 9503, 'discount%': 0.14237288135593218, 'item_price': 2202.9, 'day': 17, 'month': 10, 'Previsao': 1.01, 'is_optimal': False}, {'dataCadastro': '2022-10-17', 'valorUnitario': 3271.57, 'total': 3271.57, 'valorUnitarioCusto': 2468.41, 'valorFrete': 0.0, 'loja': 'Nova Lima - Vila da Serra', 'produtoId_x': 9503, 'discount%': 0.1542372881355932, 'item_price': 2202.9, 'day': 17, 'month': 10, 'Previsao': 1.01, 'is_optimal': False}, {'dataCadastro': '2022-10-17', 'valorUnitario': 3271.57, 'total': 3271.57, 'valorUnitarioCusto': 2468.41, 'valorFrete': 0.0, 'loja': 'Nova Lima - Vila da Serra', 'produtoId_x': 9503, 'discount%': 0.16610169491525423, 'item_price': 2202.9, 'day': 17, 'month': 10, 'Previsao': 1.05, 'is_optimal': True}, {'dataCadastro': '2022-10-17', 'valorUnitario': 3271.57, 'total': 3271.57, 'valorUnitarioCusto': 2468.41, 'valorFrete': 0.0, 'loja': 'Nova Lima - Vila da Serra', 'produtoId_x': 9503, 'discount%': 0.17796610169491522, 'item_price': 2202.9, 'day': 17, 'month': 10, 'Previsao': 1.0, 'is_optimal': False}, {'dataCadastro': '2022-10-17', 'valorUnitario': 3271.57, 'total': 3271.57, 'valorUnitarioCusto': 2468.41, 'valorFrete': 0.0, 'loja': 'Nova Lima - Vila da Serra', 'produtoId_x': 9503, 'discount%': 0.18983050847457625, 'item_price': 2202.9, 'day': 17, 'month': 10, 'Previsao': 1.0, 'is_optimal': False}, {'dataCadastro': '2022-10-17', 'valorUnitario': 3271.57, 'total': 3271.57, 'valorUnitarioCusto': 2468.41, 'valorFrete': 0.0, 'loja': 'Nova Lima - Vila da Serra', 'produtoId_x': 9503, 'discount%': 0.20169491525423727, 'item_price': 2202.9, 'day': 17, 'month': 10, 'Previsao': 1.0, 'is_optimal': False}, {'dataCadastro': '2022-10-17', 'valorUnitario': 3271.57, 'total': 3271.57, 'valorUnitarioCusto': 2468.41, 'valorFrete': 0.0, 'loja': 'Nova Lima - Vila da Serra', 'produtoId_x': 9503, 'discount%': 0.21355932203389827, 'item_price': 2202.9, 'day': 17, 'month': 10, 'Previsao': 1.0, 'is_optimal': False}, {'dataCadastro': '2022-10-17', 'valorUnitario': 3271.57, 'total': 3271.57, 'valorUnitarioCusto': 2468.41, 'valorFrete': 0.0, 'loja': 'Nova Lima - Vila da Serra', 'produtoId_x': 9503, 'discount%': 0.2254237288135593, 'item_price': 2202.9, 'day': 17, 'month': 10, 'Previsao': 1.0, 'is_optimal': False}, {'dataCadastro': '2022-10-17', 'valorUnitario': 3271.57, 'total': 3271.57, 'valorUnitarioCusto': 2468.41, 'valorFrete': 0.0, 'loja': 'Nova Lima - Vila da Serra', 'produtoId_x': 9503, 'discount%': 0.23728813559322032, 'item_price': 2202.9, 'day': 17, 'month': 10, 'Previsao': 1.0, 'is_optimal': False}, {'dataCadastro': '2022-10-17', 'valorUnitario': 3271.57, 'total': 3271.57, 'valorUnitarioCusto': 2468.41, 'valorFrete': 0.0, 'loja': 'Nova Lima - Vila da Serra', 'produtoId_x': 9503, 'discount%': 0.2491525423728813, 'item_price': 2202.9, 'day': 17, 'month': 10, 'Previsao': 1.0, 'is_optimal': False}, {'dataCadastro': '2022-10-17', 'valorUnitario': 3271.57, 'total': 3271.57, 'valorUnitarioCusto': 2468.41, 'valorFrete': 0.0, 'loja': 'Nova Lima - Vila da Serra', 'produtoId_x': 9503, 'discount%': 0.26101694915254237, 'item_price': 2202.9, 'day': 17, 'month': 10, 'Previsao': 1.0, 'is_optimal': False}, {'dataCadastro': '2022-10-17', 'valorUnitario': 3271.57, 'total': 3271.57, 'valorUnitarioCusto': 2468.41, 'valorFrete': 0.0, 'loja': 'Nova Lima - Vila da Serra', 'produtoId_x': 9503, 'discount%': 0.27288135593220336, 'item_price': 2202.9, 'day': 17, 'month': 10, 'Previsao': 1.0, 'is_optimal': False}, {'dataCadastro': '2022-10-17', 'valorUnitario': 3271.57, 'total': 3271.57, 'valorUnitarioCusto': 2468.41, 'valorFrete': 0.0, 'loja': 'Nova Lima - Vila da Serra', 'produtoId_x': 9503, 'discount%': 0.28474576271186436, 'item_price': 2202.9, 'day': 17, 'month': 10, 'Previsao': 1.0, 'is_optimal': False}, {'dataCadastro': '2022-10-17', 'valorUnitario': 3271.57, 'total': 3271.57, 'valorUnitarioCusto': 2468.41, 'valorFrete': 0.0, 'loja': 'Nova Lima - Vila da Serra', 'produtoId_x': 9503, 'discount%': 0.2966101694915254, 'item_price': 2202.9, 'day': 17, 'month': 10, 'Previsao': 1.0, 'is_optimal': False}, {'dataCadastro': '2022-10-17', 'valorUnitario': 3271.57, 'total': 3271.57, 'valorUnitarioCusto': 2468.41, 'valorFrete': 0.0, 'loja': 'Nova Lima - Vila da Serra', 'produtoId_x': 9503, 'discount%': 0.3084745762711864, 'item_price': 2202.9, 'day': 17, 'month': 10, 'Previsao': 1.0, 'is_optimal': False}, {'dataCadastro': '2022-10-17', 'valorUnitario': 3271.57, 'total': 3271.57, 'valorUnitarioCusto': 2468.41, 'valorFrete': 0.0, 'loja': 'Nova Lima - Vila da Serra', 'produtoId_x': 9503, 'discount%': 0.3203389830508474, 'item_price': 2202.9, 'day': 17, 'month': 10, 'Previsao': 1.0, 'is_optimal': False}, {'dataCadastro': '2022-10-17', 'valorUnitario': 3271.57, 'total': 3271.57, 'valorUnitarioCusto': 2468.41, 'valorFrete': 0.0, 'loja': 'Nova Lima - Vila da Serra', 'produtoId_x': 9503, 'discount%': 0.33220338983050846, 'item_price': 2202.9, 'day': 17, 'month': 10, 'Previsao': 1.0, 'is_optimal': False}, {'dataCadastro': '2022-10-17', 'valorUnitario': 3271.57, 'total': 3271.57, 'valorUnitarioCusto': 2468.41, 'valorFrete': 0.0, 'loja': 'Nova Lima - Vila da Serra', 'produtoId_x': 9503, 'discount%': 0.34406779661016945, 'item_price': 2202.9, 'day': 17, 'month': 10, 'Previsao': 1.0, 'is_optimal': False}, {'dataCadastro': '2022-10-17', 'valorUnitario': 3271.57, 'total': 3271.57, 'valorUnitarioCusto': 2468.41, 'valorFrete': 0.0, 'loja': 'Nova Lima - Vila da Serra', 'produtoId_x': 9503, 'discount%': 0.35593220338983045, 'item_price': 2202.9, 'day': 17, 'month': 10, 'Previsao': 1.0, 'is_optimal': False}, {'dataCadastro': '2022-10-17', 'valorUnitario': 3271.57, 'total': 3271.57, 'valorUnitarioCusto': 2468.41, 'valorFrete': 0.0, 'loja': 'Nova Lima - Vila da Serra', 'produtoId_x': 9503, 'discount%': 0.3677966101694915, 'item_price': 2202.9, 'day': 17, 'month': 10, 'Previsao': 1.0, 'is_optimal': False}, {'dataCadastro': '2022-10-17', 'valorUnitario': 3271.57, 'total': 3271.57, 'valorUnitarioCusto': 2468.41, 'valorFrete': 0.0, 'loja': 'Nova Lima - Vila da Serra', 'produtoId_x': 9503, 'discount%': 0.3796610169491525, 'item_price': 2202.9, 'day': 17, 'month': 10, 'Previsao': 1.0, 'is_optimal': False}, {'dataCadastro': '2022-10-17', 'valorUnitario': 3271.57, 'total': 3271.57, 'valorUnitarioCusto': 2468.41, 'valorFrete': 0.0, 'loja': 'Nova Lima - Vila da Serra', 'produtoId_x': 9503, 'discount%': 0.3915254237288135, 'item_price': 2202.9, 'day': 17, 'month': 10, 'Previsao': 1.0, 'is_optimal': False}, {'dataCadastro': '2022-10-17', 'valorUnitario': 3271.57, 'total': 3271.57, 'valorUnitarioCusto': 2468.41, 'valorFrete': 0.0, 'loja': 'Nova Lima - Vila da Serra', 'produtoId_x': 9503, 'discount%': 0.40338983050847455, 'item_price': 2202.9, 'day': 17, 'month': 10, 'Previsao': 1.0, 'is_optimal': False}, {'dataCadastro': '2022-10-17', 'valorUnitario': 3271.57, 'total': 3271.57, 'valorUnitarioCusto': 2468.41, 'valorFrete': 0.0, 'loja': 'Nova Lima - Vila da Serra', 'produtoId_x': 9503, 'discount%': 0.41525423728813554, 'item_price': 2202.9, 'day': 17, 'month': 10, 'Previsao': 1.0, 'is_optimal': False}, {'dataCadastro': '2022-10-17', 'valorUnitario': 3271.57, 'total': 3271.57, 'valorUnitarioCusto': 2468.41, 'valorFrete': 0.0, 'loja': 'Nova Lima - Vila da Serra', 'produtoId_x': 9503, 'discount%': 0.42711864406779654, 'item_price': 2202.9, 'day': 17, 'month': 10, 'Previsao': 1.0, 'is_optimal': False}, {'dataCadastro': '2022-10-17', 'valorUnitario': 3271.57, 'total': 3271.57, 'valorUnitarioCusto': 2468.41, 'valorFrete': 0.0, 'loja': 'Nova Lima - Vila da Serra', 'produtoId_x': 9503, 'discount%': 0.4389830508474576, 'item_price': 2202.9, 'day': 17, 'month': 10, 'Previsao': 1.0, 'is_optimal': False}, {'dataCadastro': '2022-10-17', 'valorUnitario': 3271.57, 'total': 3271.57, 'valorUnitarioCusto': 2468.41, 'valorFrete': 0.0, 'loja': 'Nova Lima - Vila da Serra', 'produtoId_x': 9503, 'discount%': 0.4508474576271186, 'item_price': 2202.9, 'day': 17, 'month': 10, 'Previsao': 1.0, 'is_optimal': False}, {'dataCadastro': '2022-10-17', 'valorUnitario': 3271.57, 'total': 3271.57, 'valorUnitarioCusto': 2468.41, 'valorFrete': 0.0, 'loja': 'Nova Lima - Vila da Serra', 'produtoId_x': 9503, 'discount%': 0.4627118644067796, 'item_price': 2202.9, 'day': 17, 'month': 10, 'Previsao': 1.0, 'is_optimal': False}, {'dataCadastro': '2022-10-17', 'valorUnitario': 3271.57, 'total': 3271.57, 'valorUnitarioCusto': 2468.41, 'valorFrete': 0.0, 'loja': 'Nova Lima - Vila da Serra', 'produtoId_x': 9503, 'discount%': 0.47457627118644063, 'item_price': 2202.9, 'day': 17, 'month': 10, 'Previsao': 1.0, 'is_optimal': False}, {'dataCadastro': '2022-10-17', 'valorUnitario': 3271.57, 'total': 3271.57, 'valorUnitarioCusto': 2468.41, 'valorFrete': 0.0, 'loja': 'Nova Lima - Vila da Serra', 'produtoId_x': 9503, 'discount%': 0.48644067796610163, 'item_price': 2202.9, 'day': 17, 'month': 10, 'Previsao': 1.0, 'is_optimal': False}, {'dataCadastro': '2022-10-17', 'valorUnitario': 3271.57, 'total': 3271.57, 'valorUnitarioCusto': 2468.41, 'valorFrete': 0.0, 'loja': 'Nova Lima - Vila da Serra', 'produtoId_x': 9503, 'discount%': 0.4983050847457626, 'item_price': 2202.9, 'day': 17, 'month': 10, 'Previsao': 1.0, 'is_optimal': False}, {'dataCadastro': '2022-10-17', 'valorUnitario': 3271.57, 'total': 3271.57, 'valorUnitarioCusto': 2468.41, 'valorFrete': 0.0, 'loja': 'Nova Lima - Vila da Serra', 'produtoId_x': 9503, 'discount%': 0.5101694915254237, 'item_price': 2202.9, 'day': 17, 'month': 10, 'Previsao': 1.0, 'is_optimal': False}, {'dataCadastro': '2022-10-17', 'valorUnitario': 3271.57, 'total': 3271.57, 'valorUnitarioCusto': 2468.41, 'valorFrete': 0.0, 'loja': 'Nova Lima - Vila da Serra', 'produtoId_x': 9503, 'discount%': 0.5220338983050847, 'item_price': 2202.9, 'day': 17, 'month': 10, 'Previsao': 1.0, 'is_optimal': False}, {'dataCadastro': '2022-10-17', 'valorUnitario': 3271.57, 'total': 3271.57, 'valorUnitarioCusto': 2468.41, 'valorFrete': 0.0, 'loja': 'Nova Lima - Vila da Serra', 'produtoId_x': 9503, 'discount%': 0.5338983050847457, 'item_price': 2202.9, 'day': 17, 'month': 10, 'Previsao': 1.0, 'is_optimal': False}, {'dataCadastro': '2022-10-17', 'valorUnitario': 3271.57, 'total': 3271.57, 'valorUnitarioCusto': 2468.41, 'valorFrete': 0.0, 'loja': 'Nova Lima - Vila da Serra', 'produtoId_x': 9503, 'discount%': 0.5457627118644067, 'item_price': 2202.9, 'day': 17, 'month': 10, 'Previsao': 1.0, 'is_optimal': False}, {'dataCadastro': '2022-10-17', 'valorUnitario': 3271.57, 'total': 3271.57, 'valorUnitarioCusto': 2468.41, 'valorFrete': 0.0, 'loja': 'Nova Lima - Vila da Serra', 'produtoId_x': 9503, 'discount%': 0.5576271186440678, 'item_price': 2202.9, 'day': 17, 'month': 10, 'Previsao': 1.0, 'is_optimal': False}, {'dataCadastro': '2022-10-17', 'valorUnitario': 3271.57, 'total': 3271.57, 'valorUnitarioCusto': 2468.41, 'valorFrete': 0.0, 'loja': 'Nova Lima - Vila da Serra', 'produtoId_x': 9503, 'discount%': 0.5694915254237287, 'item_price': 2202.9, 'day': 17, 'month': 10, 'Previsao': 1.0, 'is_optimal': False}, {'dataCadastro': '2022-10-17', 'valorUnitario': 3271.57, 'total': 3271.57, 'valorUnitarioCusto': 2468.41, 'valorFrete': 0.0, 'loja': 'Nova Lima - Vila da Serra', 'produtoId_x': 9503, 'discount%': 0.5813559322033898, 'item_price': 2202.9, 'day': 17, 'month': 10, 'Previsao': 1.0, 'is_optimal': False}, {'dataCadastro': '2022-10-17', 'valorUnitario': 3271.57, 'total': 3271.57, 'valorUnitarioCusto': 2468.41, 'valorFrete': 0.0, 'loja': 'Nova Lima - Vila da Serra', 'produtoId_x': 9503, 'discount%': 0.5932203389830508, 'item_price': 2202.9, 'day': 17, 'month': 10, 'Previsao': 1.0, 'is_optimal': False}, {'dataCadastro': '2022-10-17', 'valorUnitario': 3271.57, 'total': 3271.57, 'valorUnitarioCusto': 2468.41, 'valorFrete': 0.0, 'loja': 'Nova Lima - Vila da Serra', 'produtoId_x': 9503, 'discount%': 0.6050847457627118, 'item_price': 2202.9, 'day': 17, 'month': 10, 'Previsao': 1.0, 'is_optimal': False}, {'dataCadastro': '2022-10-17', 'valorUnitario': 3271.57, 'total': 3271.57, 'valorUnitarioCusto': 2468.41, 'valorFrete': 0.0, 'loja': 'Nova Lima - Vila da Serra', 'produtoId_x': 9503, 'discount%': 0.6169491525423728, 'item_price': 2202.9, 'day': 17, 'month': 10, 'Previsao': 1.0, 'is_optimal': False}, {'dataCadastro': '2022-10-17', 'valorUnitario': 3271.57, 'total': 3271.57, 'valorUnitarioCusto': 2468.41, 'valorFrete': 0.0, 'loja': 'Nova Lima - Vila da Serra', 'produtoId_x': 9503, 'discount%': 0.6288135593220339, 'item_price': 2202.9, 'day': 17, 'month': 10, 'Previsao': 1.0, 'is_optimal': False}, {'dataCadastro': '2022-10-17', 'valorUnitario': 3271.57, 'total': 3271.57, 'valorUnitarioCusto': 2468.41, 'valorFrete': 0.0, 'loja': 'Nova Lima - Vila da Serra', 'produtoId_x': 9503, 'discount%': 0.6406779661016948, 'item_price': 2202.9, 'day': 17, 'month': 10, 'Previsao': 1.0, 'is_optimal': False}, {'dataCadastro': '2022-10-17', 'valorUnitario': 3271.57, 'total': 3271.57, 'valorUnitarioCusto': 2468.41, 'valorFrete': 0.0, 'loja': 'Nova Lima - Vila da Serra', 'produtoId_x': 9503, 'discount%': 0.6525423728813559, 'item_price': 2202.9, 'day': 17, 'month': 10, 'Previsao': 1.0, 'is_optimal': False}, {'dataCadastro': '2022-10-17', 'valorUnitario': 3271.57, 'total': 3271.57, 'valorUnitarioCusto': 2468.41, 'valorFrete': 0.0, 'loja': 'Nova Lima - Vila da Serra', 'produtoId_x': 9503, 'discount%': 0.6644067796610169, 'item_price': 2202.9, 'day': 17, 'month': 10, 'Previsao': 1.0, 'is_optimal': False}, {'dataCadastro': '2022-10-17', 'valorUnitario': 3271.57, 'total': 3271.57, 'valorUnitarioCusto': 2468.41, 'valorFrete': 0.0, 'loja': 'Nova Lima - Vila da Serra', 'produtoId_x': 9503, 'discount%': 0.6762711864406779, 'item_price': 2202.9, 'day': 17, 'month': 10, 'Previsao': 1.0, 'is_optimal': False}, {'dataCadastro': '2022-10-17', 'valorUnitario': 3271.57, 'total': 3271.57, 'valorUnitarioCusto': 2468.41, 'valorFrete': 0.0, 'loja': 'Nova Lima - Vila da Serra', 'produtoId_x': 9503, 'discount%': 0.6881355932203389, 'item_price': 2202.9, 'day': 17, 'month': 10, 'Previsao': 1.0, 'is_optimal': False}, {'dataCadastro': '2022-10-17', 'valorUnitario': 3271.57, 'total': 3271.57, 'valorUnitarioCusto': 2468.41, 'valorFrete': 0.0, 'loja': 'Nova Lima - Vila da Serra', 'produtoId_x': 9503, 'discount%': 0.7, 'item_price': 2202.9, 'day': 17, 'month': 10, 'Previsao': 1.0, 'is_optimal': False}, {'dataCadastro': '2022-07-26', 'valorUnitario': 873.81, 'total': 873.81, 'valorUnitarioCusto': 609.46, 'valorFrete': 50.11, 'loja': 'Aparecida de Goiânia - Jardim Luz', 'produtoId_x': 8200, 'discount%': 0.0, 'item_price': 1276.8899999999999, 'day': 26, 'month': 7, 'Previsao': 1.01, 'is_optimal': False}, {'dataCadastro': '2022-07-26', 'valorUnitario': 873.81, 'total': 873.81, 'valorUnitarioCusto': 609.46, 'valorFrete': 50.11, 'loja': 'Aparecida de Goiânia - Jardim Luz', 'produtoId_x': 8200, 'discount%': 0.011864406779661016, 'item_price': 1276.8899999999999, 'day': 26, 'month': 7, 'Previsao': 1.01, 'is_optimal': False}, {'dataCadastro': '2022-07-26', 'valorUnitario': 873.81, 'total': 873.81, 'valorUnitarioCusto': 609.46, 'valorFrete': 50.11, 'loja': 'Aparecida de Goiânia - Jardim Luz', 'produtoId_x': 8200, 'discount%': 0.02372881355932203, 'item_price': 1276.8899999999999, 'day': 26, 'month': 7, 'Previsao': 1.01, 'is_optimal': False}, {'dataCadastro': '2022-07-26', 'valorUnitario': 873.81, 'total': 873.81, 'valorUnitarioCusto': 609.46, 'valorFrete': 50.11, 'loja': 'Aparecida de Goiânia - Jardim Luz', 'produtoId_x': 8200, 'discount%': 0.035593220338983045, 'item_price': 1276.8899999999999, 'day': 26, 'month': 7, 'Previsao': 1.01, 'is_optimal': False}, {'dataCadastro': '2022-07-26', 'valorUnitario': 873.81, 'total': 873.81, 'valorUnitarioCusto': 609.46, 'valorFrete': 50.11, 'loja': 'Aparecida de Goiânia - Jardim Luz', 'produtoId_x': 8200, 'discount%': 0.04745762711864406, 'item_price': 1276.8899999999999, 'day': 26, 'month': 7, 'Previsao': 1.03, 'is_optimal': False}, {'dataCadastro': '2022-07-26', 'valorUnitario': 873.81, 'total': 873.81, 'valorUnitarioCusto': 609.46, 'valorFrete': 50.11, 'loja': 'Aparecida de Goiânia - Jardim Luz', 'produtoId_x': 8200, 'discount%': 0.05932203389830508, 'item_price': 1276.8899999999999, 'day': 26, 'month': 7, 'Previsao': 1.07, 'is_optimal': False}, {'dataCadastro': '2022-07-26', 'valorUnitario': 873.81, 'total': 873.81, 'valorUnitarioCusto': 609.46, 'valorFrete': 50.11, 'loja': 'Aparecida de Goiânia - Jardim Luz', 'produtoId_x': 8200, 'discount%': 0.07118644067796609, 'item_price': 1276.8899999999999, 'day': 26, 'month': 7, 'Previsao': 1.05, 'is_optimal': False}, {'dataCadastro': '2022-07-26', 'valorUnitario': 873.81, 'total': 873.81, 'valorUnitarioCusto': 609.46, 'valorFrete': 50.11, 'loja': 'Aparecida de Goiânia - Jardim Luz', 'produtoId_x': 8200, 'discount%': 0.08305084745762711, 'item_price': 1276.8899999999999, 'day': 26, 'month': 7, 'Previsao': 1.01, 'is_optimal': False}, {'dataCadastro': '2022-07-26', 'valorUnitario': 873.81, 'total': 873.81, 'valorUnitarioCusto': 609.46, 'valorFrete': 50.11, 'loja': 'Aparecida de Goiânia - Jardim Luz', 'produtoId_x': 8200, 'discount%': 0.09491525423728812, 'item_price': 1276.8899999999999, 'day': 26, 'month': 7, 'Previsao': 1.32, 'is_optimal': False}, {'dataCadastro': '2022-07-26', 'valorUnitario': 873.81, 'total': 873.81, 'valorUnitarioCusto': 609.46, 'valorFrete': 50.11, 'loja': 'Aparecida de Goiânia - Jardim Luz', 'produtoId_x': 8200, 'discount%': 0.10677966101694913, 'item_price': 1276.8899999999999, 'day': 26, 'month': 7, 'Previsao': 1.31, 'is_optimal': False}, {'dataCadastro': '2022-07-26', 'valorUnitario': 873.81, 'total': 873.81, 'valorUnitarioCusto': 609.46, 'valorFrete': 50.11, 'loja': 'Aparecida de Goiânia - Jardim Luz', 'produtoId_x': 8200, 'discount%': 0.11864406779661016, 'item_price': 1276.8899999999999, 'day': 26, 'month': 7, 'Previsao': 1.31, 'is_optimal': False}, {'dataCadastro': '2022-07-26', 'valorUnitario': 873.81, 'total': 873.81, 'valorUnitarioCusto': 609.46, 'valorFrete': 50.11, 'loja': 'Aparecida de Goiânia - Jardim Luz', 'produtoId_x': 8200, 'discount%': 0.13050847457627118, 'item_price': 1276.8899999999999, 'day': 26, 'month': 7, 'Previsao': 1.34, 'is_optimal': False}, {'dataCadastro': '2022-07-26', 'valorUnitario': 873.81, 'total': 873.81, 'valorUnitarioCusto': 609.46, 'valorFrete': 50.11, 'loja': 'Aparecida de Goiânia - Jardim Luz', 'produtoId_x': 8200, 'discount%': 0.14237288135593218, 'item_price': 1276.8899999999999, 'day': 26, 'month': 7, 'Previsao': 1.0, 'is_optimal': False}, {'dataCadastro': '2022-07-26', 'valorUnitario': 873.81, 'total': 873.81, 'valorUnitarioCusto': 609.46, 'valorFrete': 50.11, 'loja': 'Aparecida de Goiânia - Jardim Luz', 'produtoId_x': 8200, 'discount%': 0.1542372881355932, 'item_price': 1276.8899999999999, 'day': 26, 'month': 7, 'Previsao': 2.0, 'is_optimal': True}, {'dataCadastro': '2022-07-26', 'valorUnitario': 873.81, 'total': 873.81, 'valorUnitarioCusto': 609.46, 'valorFrete': 50.11, 'loja': 'Aparecida de Goiânia - Jardim Luz', 'produtoId_x': 8200, 'discount%': 0.16610169491525423, 'item_price': 1276.8899999999999, 'day': 26, 'month': 7, 'Previsao': 2.0, 'is_optimal': True}, {'dataCadastro': '2022-07-26', 'valorUnitario': 873.81, 'total': 873.81, 'valorUnitarioCusto': 609.46, 'valorFrete': 50.11, 'loja': 'Aparecida de Goiânia - Jardim Luz', 'produtoId_x': 8200, 'discount%': 0.17796610169491522, 'item_price': 1276.8899999999999, 'day': 26, 'month': 7, 'Previsao': 1.96, 'is_optimal': False}, {'dataCadastro': '2022-07-26', 'valorUnitario': 873.81, 'total': 873.81, 'valorUnitarioCusto': 609.46, 'valorFrete': 50.11, 'loja': 'Aparecida de Goiânia - Jardim Luz', 'produtoId_x': 8200, 'discount%': 0.18983050847457625, 'item_price': 1276.8899999999999, 'day': 26, 'month': 7, 'Previsao': 1.46, 'is_optimal': False}, {'dataCadastro': '2022-07-26', 'valorUnitario': 873.81, 'total': 873.81, 'valorUnitarioCusto': 609.46, 'valorFrete': 50.11, 'loja': 'Aparecida de Goiânia - Jardim Luz', 'produtoId_x': 8200, 'discount%': 0.20169491525423727, 'item_price': 1276.8899999999999, 'day': 26, 'month': 7, 'Previsao': 1.46, 'is_optimal': False}, {'dataCadastro': '2022-07-26', 'valorUnitario': 873.81, 'total': 873.81, 'valorUnitarioCusto': 609.46, 'valorFrete': 50.11, 'loja': 'Aparecida de Goiânia - Jardim Luz', 'produtoId_x': 8200, 'discount%': 0.21355932203389827, 'item_price': 1276.8899999999999, 'day': 26, 'month': 7, 'Previsao': 1.46, 'is_optimal': False}, {'dataCadastro': '2022-07-26', 'valorUnitario': 873.81, 'total': 873.81, 'valorUnitarioCusto': 609.46, 'valorFrete': 50.11, 'loja': 'Aparecida de Goiânia - Jardim Luz', 'produtoId_x': 8200, 'discount%': 0.2254237288135593, 'item_price': 1276.8899999999999, 'day': 26, 'month': 7, 'Previsao': 1.46, 'is_optimal': False}, {'dataCadastro': '2022-07-26', 'valorUnitario': 873.81, 'total': 873.81, 'valorUnitarioCusto': 609.46, 'valorFrete': 50.11, 'loja': 'Aparecida de Goiânia - Jardim Luz', 'produtoId_x': 8200, 'discount%': 0.23728813559322032, 'item_price': 1276.8899999999999, 'day': 26, 'month': 7, 'Previsao': 1.46, 'is_optimal': False}, {'dataCadastro': '2022-07-26', 'valorUnitario': 873.81, 'total': 873.81, 'valorUnitarioCusto': 609.46, 'valorFrete': 50.11, 'loja': 'Aparecida de Goiânia - Jardim Luz', 'produtoId_x': 8200, 'discount%': 0.2491525423728813, 'item_price': 1276.8899999999999, 'day': 26, 'month': 7, 'Previsao': 1.46, 'is_optimal': False}, {'dataCadastro': '2022-07-26', 'valorUnitario': 873.81, 'total': 873.81, 'valorUnitarioCusto': 609.46, 'valorFrete': 50.11, 'loja': 'Aparecida de Goiânia - Jardim Luz', 'produtoId_x': 8200, 'discount%': 0.26101694915254237, 'item_price': 1276.8899999999999, 'day': 26, 'month': 7, 'Previsao': 1.46, 'is_optimal': False}, {'dataCadastro': '2022-07-26', 'valorUnitario': 873.81, 'total': 873.81, 'valorUnitarioCusto': 609.46, 'valorFrete': 50.11, 'loja': 'Aparecida de Goiânia - Jardim Luz', 'produtoId_x': 8200, 'discount%': 0.27288135593220336, 'item_price': 1276.8899999999999, 'day': 26, 'month': 7, 'Previsao': 1.46, 'is_optimal': False}, {'dataCadastro': '2022-07-26', 'valorUnitario': 873.81, 'total': 873.81, 'valorUnitarioCusto': 609.46, 'valorFrete': 50.11, 'loja': 'Aparecida de Goiânia - Jardim Luz', 'produtoId_x': 8200, 'discount%': 0.28474576271186436, 'item_price': 1276.8899999999999, 'day': 26, 'month': 7, 'Previsao': 1.46, 'is_optimal': False}, {'dataCadastro': '2022-07-26', 'valorUnitario': 873.81, 'total': 873.81, 'valorUnitarioCusto': 609.46, 'valorFrete': 50.11, 'loja': 'Aparecida de Goiânia - Jardim Luz', 'produtoId_x': 8200, 'discount%': 0.2966101694915254, 'item_price': 1276.8899999999999, 'day': 26, 'month': 7, 'Previsao': 1.46, 'is_optimal': False}, {'dataCadastro': '2022-07-26', 'valorUnitario': 873.81, 'total': 873.81, 'valorUnitarioCusto': 609.46, 'valorFrete': 50.11, 'loja': 'Aparecida de Goiânia - Jardim Luz', 'produtoId_x': 8200, 'discount%': 0.3084745762711864, 'item_price': 1276.8899999999999, 'day': 26, 'month': 7, 'Previsao': 1.46, 'is_optimal': False}, {'dataCadastro': '2022-07-26', 'valorUnitario': 873.81, 'total': 873.81, 'valorUnitarioCusto': 609.46, 'valorFrete': 50.11, 'loja': 'Aparecida de Goiânia - Jardim Luz', 'produtoId_x': 8200, 'discount%': 0.3203389830508474, 'item_price': 1276.8899999999999, 'day': 26, 'month': 7, 'Previsao': 1.46, 'is_optimal': False}, {'dataCadastro': '2022-07-26', 'valorUnitario': 873.81, 'total': 873.81, 'valorUnitarioCusto': 609.46, 'valorFrete': 50.11, 'loja': 'Aparecida de Goiânia - Jardim Luz', 'produtoId_x': 8200, 'discount%': 0.33220338983050846, 'item_price': 1276.8899999999999, 'day': 26, 'month': 7, 'Previsao': 1.46, 'is_optimal': False}, {'dataCadastro': '2022-07-26', 'valorUnitario': 873.81, 'total': 873.81, 'valorUnitarioCusto': 609.46, 'valorFrete': 50.11, 'loja': 'Aparecida de Goiânia - Jardim Luz', 'produtoId_x': 8200, 'discount%': 0.34406779661016945, 'item_price': 1276.8899999999999, 'day': 26, 'month': 7, 'Previsao': 1.46, 'is_optimal': False}, {'dataCadastro': '2022-07-26', 'valorUnitario': 873.81, 'total': 873.81, 'valorUnitarioCusto': 609.46, 'valorFrete': 50.11, 'loja': 'Aparecida de Goiânia - Jardim Luz', 'produtoId_x': 8200, 'discount%': 0.35593220338983045, 'item_price': 1276.8899999999999, 'day': 26, 'month': 7, 'Previsao': 1.46, 'is_optimal': False}, {'dataCadastro': '2022-07-26', 'valorUnitario': 873.81, 'total': 873.81, 'valorUnitarioCusto': 609.46, 'valorFrete': 50.11, 'loja': 'Aparecida de Goiânia - Jardim Luz', 'produtoId_x': 8200, 'discount%': 0.3677966101694915, 'item_price': 1276.8899999999999, 'day': 26, 'month': 7, 'Previsao': 1.46, 'is_optimal': False}, {'dataCadastro': '2022-07-26', 'valorUnitario': 873.81, 'total': 873.81, 'valorUnitarioCusto': 609.46, 'valorFrete': 50.11, 'loja': 'Aparecida de Goiânia - Jardim Luz', 'produtoId_x': 8200, 'discount%': 0.3796610169491525, 'item_price': 1276.8899999999999, 'day': 26, 'month': 7, 'Previsao': 1.46, 'is_optimal': False}, {'dataCadastro': '2022-07-26', 'valorUnitario': 873.81, 'total': 873.81, 'valorUnitarioCusto': 609.46, 'valorFrete': 50.11, 'loja': 'Aparecida de Goiânia - Jardim Luz', 'produtoId_x': 8200, 'discount%': 0.3915254237288135, 'item_price': 1276.8899999999999, 'day': 26, 'month': 7, 'Previsao': 1.46, 'is_optimal': False}, {'dataCadastro': '2022-07-26', 'valorUnitario': 873.81, 'total': 873.81, 'valorUnitarioCusto': 609.46, 'valorFrete': 50.11, 'loja': 'Aparecida de Goiânia - Jardim Luz', 'produtoId_x': 8200, 'discount%': 0.40338983050847455, 'item_price': 1276.8899999999999, 'day': 26, 'month': 7, 'Previsao': 1.46, 'is_optimal': False}, {'dataCadastro': '2022-07-26', 'valorUnitario': 873.81, 'total': 873.81, 'valorUnitarioCusto': 609.46, 'valorFrete': 50.11, 'loja': 'Aparecida de Goiânia - Jardim Luz', 'produtoId_x': 8200, 'discount%': 0.41525423728813554, 'item_price': 1276.8899999999999, 'day': 26, 'month': 7, 'Previsao': 1.46, 'is_optimal': False}, {'dataCadastro': '2022-07-26', 'valorUnitario': 873.81, 'total': 873.81, 'valorUnitarioCusto': 609.46, 'valorFrete': 50.11, 'loja': 'Aparecida de Goiânia - Jardim Luz', 'produtoId_x': 8200, 'discount%': 0.42711864406779654, 'item_price': 1276.8899999999999, 'day': 26, 'month': 7, 'Previsao': 1.46, 'is_optimal': False}, {'dataCadastro': '2022-07-26', 'valorUnitario': 873.81, 'total': 873.81, 'valorUnitarioCusto': 609.46, 'valorFrete': 50.11, 'loja': 'Aparecida de Goiânia - Jardim Luz', 'produtoId_x': 8200, 'discount%': 0.4389830508474576, 'item_price': 1276.8899999999999, 'day': 26, 'month': 7, 'Previsao': 1.46, 'is_optimal': False}, {'dataCadastro': '2022-07-26', 'valorUnitario': 873.81, 'total': 873.81, 'valorUnitarioCusto': 609.46, 'valorFrete': 50.11, 'loja': 'Aparecida de Goiânia - Jardim Luz', 'produtoId_x': 8200, 'discount%': 0.4508474576271186, 'item_price': 1276.8899999999999, 'day': 26, 'month': 7, 'Previsao': 1.46, 'is_optimal': False}, {'dataCadastro': '2022-07-26', 'valorUnitario': 873.81, 'total': 873.81, 'valorUnitarioCusto': 609.46, 'valorFrete': 50.11, 'loja': 'Aparecida de Goiânia - Jardim Luz', 'produtoId_x': 8200, 'discount%': 0.4627118644067796, 'item_price': 1276.8899999999999, 'day': 26, 'month': 7, 'Previsao': 1.46, 'is_optimal': False}, {'dataCadastro': '2022-07-26', 'valorUnitario': 873.81, 'total': 873.81, 'valorUnitarioCusto': 609.46, 'valorFrete': 50.11, 'loja': 'Aparecida de Goiânia - Jardim Luz', 'produtoId_x': 8200, 'discount%': 0.47457627118644063, 'item_price': 1276.8899999999999, 'day': 26, 'month': 7, 'Previsao': 1.46, 'is_optimal': False}, {'dataCadastro': '2022-07-26', 'valorUnitario': 873.81, 'total': 873.81, 'valorUnitarioCusto': 609.46, 'valorFrete': 50.11, 'loja': 'Aparecida de Goiânia - Jardim Luz', 'produtoId_x': 8200, 'discount%': 0.48644067796610163, 'item_price': 1276.8899999999999, 'day': 26, 'month': 7, 'Previsao': 1.46, 'is_optimal': False}, {'dataCadastro': '2022-07-26', 'valorUnitario': 873.81, 'total': 873.81, 'valorUnitarioCusto': 609.46, 'valorFrete': 50.11, 'loja': 'Aparecida de Goiânia - Jardim Luz', 'produtoId_x': 8200, 'discount%': 0.4983050847457626, 'item_price': 1276.8899999999999, 'day': 26, 'month': 7, 'Previsao': 1.46, 'is_optimal': False}, {'dataCadastro': '2022-07-26', 'valorUnitario': 873.81, 'total': 873.81, 'valorUnitarioCusto': 609.46, 'valorFrete': 50.11, 'loja': 'Aparecida de Goiânia - Jardim Luz', 'produtoId_x': 8200, 'discount%': 0.5101694915254237, 'item_price': 1276.8899999999999, 'day': 26, 'month': 7, 'Previsao': 1.46, 'is_optimal': False}, {'dataCadastro': '2022-07-26', 'valorUnitario': 873.81, 'total': 873.81, 'valorUnitarioCusto': 609.46, 'valorFrete': 50.11, 'loja': 'Aparecida de Goiânia - Jardim Luz', 'produtoId_x': 8200, 'discount%': 0.5220338983050847, 'item_price': 1276.8899999999999, 'day': 26, 'month': 7, 'Previsao': 1.46, 'is_optimal': False}, {'dataCadastro': '2022-07-26', 'valorUnitario': 873.81, 'total': 873.81, 'valorUnitarioCusto': 609.46, 'valorFrete': 50.11, 'loja': 'Aparecida de Goiânia - Jardim Luz', 'produtoId_x': 8200, 'discount%': 0.5338983050847457, 'item_price': 1276.8899999999999, 'day': 26, 'month': 7, 'Previsao': 1.46, 'is_optimal': False}, {'dataCadastro': '2022-07-26', 'valorUnitario': 873.81, 'total': 873.81, 'valorUnitarioCusto': 609.46, 'valorFrete': 50.11, 'loja': 'Aparecida de Goiânia - Jardim Luz', 'produtoId_x': 8200, 'discount%': 0.5457627118644067, 'item_price': 1276.8899999999999, 'day': 26, 'month': 7, 'Previsao': 1.46, 'is_optimal': False}, {'dataCadastro': '2022-07-26', 'valorUnitario': 873.81, 'total': 873.81, 'valorUnitarioCusto': 609.46, 'valorFrete': 50.11, 'loja': 'Aparecida de Goiânia - Jardim Luz', 'produtoId_x': 8200, 'discount%': 0.5576271186440678, 'item_price': 1276.8899999999999, 'day': 26, 'month': 7, 'Previsao': 1.46, 'is_optimal': False}, {'dataCadastro': '2022-07-26', 'valorUnitario': 873.81, 'total': 873.81, 'valorUnitarioCusto': 609.46, 'valorFrete': 50.11, 'loja': 'Aparecida de Goiânia - Jardim Luz', 'produtoId_x': 8200, 'discount%': 0.5694915254237287, 'item_price': 1276.8899999999999, 'day': 26, 'month': 7, 'Previsao': 1.46, 'is_optimal': False}, {'dataCadastro': '2022-07-26', 'valorUnitario': 873.81, 'total': 873.81, 'valorUnitarioCusto': 609.46, 'valorFrete': 50.11, 'loja': 'Aparecida de Goiânia - Jardim Luz', 'produtoId_x': 8200, 'discount%': 0.5813559322033898, 'item_price': 1276.8899999999999, 'day': 26, 'month': 7, 'Previsao': 1.46, 'is_optimal': False}, {'dataCadastro': '2022-07-26', 'valorUnitario': 873.81, 'total': 873.81, 'valorUnitarioCusto': 609.46, 'valorFrete': 50.11, 'loja': 'Aparecida de Goiânia - Jardim Luz', 'produtoId_x': 8200, 'discount%': 0.5932203389830508, 'item_price': 1276.8899999999999, 'day': 26, 'month': 7, 'Previsao': 1.46, 'is_optimal': False}, {'dataCadastro': '2022-07-26', 'valorUnitario': 873.81, 'total': 873.81, 'valorUnitarioCusto': 609.46, 'valorFrete': 50.11, 'loja': 'Aparecida de Goiânia - Jardim Luz', 'produtoId_x': 8200, 'discount%': 0.6050847457627118, 'item_price': 1276.8899999999999, 'day': 26, 'month': 7, 'Previsao': 1.46, 'is_optimal': False}, {'dataCadastro': '2022-07-26', 'valorUnitario': 873.81, 'total': 873.81, 'valorUnitarioCusto': 609.46, 'valorFrete': 50.11, 'loja': 'Aparecida de Goiânia - Jardim Luz', 'produtoId_x': 8200, 'discount%': 0.6169491525423728, 'item_price': 1276.8899999999999, 'day': 26, 'month': 7, 'Previsao': 1.46, 'is_optimal': False}, {'dataCadastro': '2022-07-26', 'valorUnitario': 873.81, 'total': 873.81, 'valorUnitarioCusto': 609.46, 'valorFrete': 50.11, 'loja': 'Aparecida de Goiânia - Jardim Luz', 'produtoId_x': 8200, 'discount%': 0.6288135593220339, 'item_price': 1276.8899999999999, 'day': 26, 'month': 7, 'Previsao': 1.46, 'is_optimal': False}, {'dataCadastro': '2022-07-26', 'valorUnitario': 873.81, 'total': 873.81, 'valorUnitarioCusto': 609.46, 'valorFrete': 50.11, 'loja': 'Aparecida de Goiânia - Jardim Luz', 'produtoId_x': 8200, 'discount%': 0.6406779661016948, 'item_price': 1276.8899999999999, 'day': 26, 'month': 7, 'Previsao': 1.46, 'is_optimal': False}, {'dataCadastro': '2022-07-26', 'valorUnitario': 873.81, 'total': 873.81, 'valorUnitarioCusto': 609.46, 'valorFrete': 50.11, 'loja': 'Aparecida de Goiânia - Jardim Luz', 'produtoId_x': 8200, 'discount%': 0.6525423728813559, 'item_price': 1276.8899999999999, 'day': 26, 'month': 7, 'Previsao': 1.46, 'is_optimal': False}, {'dataCadastro': '2022-07-26', 'valorUnitario': 873.81, 'total': 873.81, 'valorUnitarioCusto': 609.46, 'valorFrete': 50.11, 'loja': 'Aparecida de Goiânia - Jardim Luz', 'produtoId_x': 8200, 'discount%': 0.6644067796610169, 'item_price': 1276.8899999999999, 'day': 26, 'month': 7, 'Previsao': 1.46, 'is_optimal': False}, {'dataCadastro': '2022-07-26', 'valorUnitario': 873.81, 'total': 873.81, 'valorUnitarioCusto': 609.46, 'valorFrete': 50.11, 'loja': 'Aparecida de Goiânia - Jardim Luz', 'produtoId_x': 8200, 'discount%': 0.6762711864406779, 'item_price': 1276.8899999999999, 'day': 26, 'month': 7, 'Previsao': 1.46, 'is_optimal': False}, {'dataCadastro': '2022-07-26', 'valorUnitario': 873.81, 'total': 873.81, 'valorUnitarioCusto': 609.46, 'valorFrete': 50.11, 'loja': 'Aparecida de Goiânia - Jardim Luz', 'produtoId_x': 8200, 'discount%': 0.6881355932203389, 'item_price': 1276.8899999999999, 'day': 26, 'month': 7, 'Previsao': 1.46, 'is_optimal': False}, {'dataCadastro': '2022-07-26', 'valorUnitario': 873.81, 'total': 873.81, 'valorUnitarioCusto': 609.46, 'valorFrete': 50.11, 'loja': 'Aparecida de Goiânia - Jardim Luz', 'produtoId_x': 8200, 'discount%': 0.7, 'item_price': 1276.8899999999999, 'day': 26, 'month': 7, 'Previsao': 1.46, 'is_optimal': False}, {'dataCadastro': '2022-05-25', 'valorUnitario': 488.97, 'total': 488.97, 'valorUnitarioCusto': 341.04, 'valorFrete': 34.35, 'loja': 'Salvador - Barra', 'produtoId_x': 1210, 'discount%': 0.0, 'item_price': 717.76, 'day': 25, 'month': 5, 'Previsao': 1.0, 'is_optimal': False}, {'dataCadastro': '2022-05-25', 'valorUnitario': 488.97, 'total': 488.97, 'valorUnitarioCusto': 341.04, 'valorFrete': 34.35, 'loja': 'Salvador - Barra', 'produtoId_x': 1210, 'discount%': 0.011864406779661016, 'item_price': 717.76, 'day': 25, 'month': 5, 'Previsao': 1.0, 'is_optimal': False}, {'dataCadastro': '2022-05-25', 'valorUnitario': 488.97, 'total': 488.97, 'valorUnitarioCusto': 341.04, 'valorFrete': 34.35, 'loja': 'Salvador - Barra', 'produtoId_x': 1210, 'discount%': 0.02372881355932203, 'item_price': 717.76, 'day': 25, 'month': 5, 'Previsao': 1.0, 'is_optimal': False}, {'dataCadastro': '2022-05-25', 'valorUnitario': 488.97, 'total': 488.97, 'valorUnitarioCusto': 341.04, 'valorFrete': 34.35, 'loja': 'Salvador - Barra', 'produtoId_x': 1210, 'discount%': 0.035593220338983045, 'item_price': 717.76, 'day': 25, 'month': 5, 'Previsao': 1.0, 'is_optimal': False}, {'dataCadastro': '2022-05-25', 'valorUnitario': 488.97, 'total': 488.97, 'valorUnitarioCusto': 341.04, 'valorFrete': 34.35, 'loja': 'Salvador - Barra', 'produtoId_x': 1210, 'discount%': 0.04745762711864406, 'item_price': 717.76, 'day': 25, 'month': 5, 'Previsao': 1.0, 'is_optimal': False}, {'dataCadastro': '2022-05-25', 'valorUnitario': 488.97, 'total': 488.97, 'valorUnitarioCusto': 341.04, 'valorFrete': 34.35, 'loja': 'Salvador - Barra', 'produtoId_x': 1210, 'discount%': 0.05932203389830508, 'item_price': 717.76, 'day': 25, 'month': 5, 'Previsao': 1.0, 'is_optimal': False}, {'dataCadastro': '2022-05-25', 'valorUnitario': 488.97, 'total': 488.97, 'valorUnitarioCusto': 341.04, 'valorFrete': 34.35, 'loja': 'Salvador - Barra', 'produtoId_x': 1210, 'discount%': 0.07118644067796609, 'item_price': 717.76, 'day': 25, 'month': 5, 'Previsao': 1.0, 'is_optimal': False}, {'dataCadastro': '2022-05-25', 'valorUnitario': 488.97, 'total': 488.97, 'valorUnitarioCusto': 341.04, 'valorFrete': 34.35, 'loja': 'Salvador - Barra', 'produtoId_x': 1210, 'discount%': 0.08305084745762711, 'item_price': 717.76, 'day': 25, 'month': 5, 'Previsao': 1.0, 'is_optimal': False}, {'dataCadastro': '2022-05-25', 'valorUnitario': 488.97, 'total': 488.97, 'valorUnitarioCusto': 341.04, 'valorFrete': 34.35, 'loja': 'Salvador - Barra', 'produtoId_x': 1210, 'discount%': 0.09491525423728812, 'item_price': 717.76, 'day': 25, 'month': 5, 'Previsao': 1.02, 'is_optimal': True}, {'dataCadastro': '2022-05-25', 'valorUnitario': 488.97, 'total': 488.97, 'valorUnitarioCusto': 341.04, 'valorFrete': 34.35, 'loja': 'Salvador - Barra', 'produtoId_x': 1210, 'discount%': 0.10677966101694913, 'item_price': 717.76, 'day': 25, 'month': 5, 'Previsao': 1.02, 'is_optimal': True}, {'dataCadastro': '2022-05-25', 'valorUnitario': 488.97, 'total': 488.97, 'valorUnitarioCusto': 341.04, 'valorFrete': 34.35, 'loja': 'Salvador - Barra', 'produtoId_x': 1210, 'discount%': 0.11864406779661016, 'item_price': 717.76, 'day': 25, 'month': 5, 'Previsao': 1.02, 'is_optimal': True}, {'dataCadastro': '2022-05-25', 'valorUnitario': 488.97, 'total': 488.97, 'valorUnitarioCusto': 341.04, 'valorFrete': 34.35, 'loja': 'Salvador - Barra', 'produtoId_x': 1210, 'discount%': 0.13050847457627118, 'item_price': 717.76, 'day': 25, 'month': 5, 'Previsao': 1.02, 'is_optimal': True}, {'dataCadastro': '2022-05-25', 'valorUnitario': 488.97, 'total': 488.97, 'valorUnitarioCusto': 341.04, 'valorFrete': 34.35, 'loja': 'Salvador - Barra', 'produtoId_x': 1210, 'discount%': 0.14237288135593218, 'item_price': 717.76, 'day': 25, 'month': 5, 'Previsao': 1.02, 'is_optimal': True}, {'dataCadastro': '2022-05-25', 'valorUnitario': 488.97, 'total': 488.97, 'valorUnitarioCusto': 341.04, 'valorFrete': 34.35, 'loja': 'Salvador - Barra', 'produtoId_x': 1210, 'discount%': 0.1542372881355932, 'item_price': 717.76, 'day': 25, 'month': 5, 'Previsao': 1.02, 'is_optimal': True}, {'dataCadastro': '2022-05-25', 'valorUnitario': 488.97, 'total': 488.97, 'valorUnitarioCusto': 341.04, 'valorFrete': 34.35, 'loja': 'Salvador - Barra', 'produtoId_x': 1210, 'discount%': 0.16610169491525423, 'item_price': 717.76, 'day': 25, 'month': 5, 'Previsao': 1.02, 'is_optimal': True}, {'dataCadastro': '2022-05-25', 'valorUnitario': 488.97, 'total': 488.97, 'valorUnitarioCusto': 341.04, 'valorFrete': 34.35, 'loja': 'Salvador - Barra', 'produtoId_x': 1210, 'discount%': 0.17796610169491522, 'item_price': 717.76, 'day': 25, 'month': 5, 'Previsao': 1.02, 'is_optimal': True}, {'dataCadastro': '2022-05-25', 'valorUnitario': 488.97, 'total': 488.97, 'valorUnitarioCusto': 341.04, 'valorFrete': 34.35, 'loja': 'Salvador - Barra', 'produtoId_x': 1210, 'discount%': 0.18983050847457625, 'item_price': 717.76, 'day': 25, 'month': 5, 'Previsao': 1.02, 'is_optimal': True}, {'dataCadastro': '2022-05-25', 'valorUnitario': 488.97, 'total': 488.97, 'valorUnitarioCusto': 341.04, 'valorFrete': 34.35, 'loja': 'Salvador - Barra', 'produtoId_x': 1210, 'discount%': 0.20169491525423727, 'item_price': 717.76, 'day': 25, 'month': 5, 'Previsao': 1.02, 'is_optimal': True}, {'dataCadastro': '2022-05-25', 'valorUnitario': 488.97, 'total': 488.97, 'valorUnitarioCusto': 341.04, 'valorFrete': 34.35, 'loja': 'Salvador - Barra', 'produtoId_x': 1210, 'discount%': 0.21355932203389827, 'item_price': 717.76, 'day': 25, 'month': 5, 'Previsao': 1.02, 'is_optimal': True}, {'dataCadastro': '2022-05-25', 'valorUnitario': 488.97, 'total': 488.97, 'valorUnitarioCusto': 341.04, 'valorFrete': 34.35, 'loja': 'Salvador - Barra', 'produtoId_x': 1210, 'discount%': 0.2254237288135593, 'item_price': 717.76, 'day': 25, 'month': 5, 'Previsao': 1.02, 'is_optimal': True}, {'dataCadastro': '2022-05-25', 'valorUnitario': 488.97, 'total': 488.97, 'valorUnitarioCusto': 341.04, 'valorFrete': 34.35, 'loja': 'Salvador - Barra', 'produtoId_x': 1210, 'discount%': 0.23728813559322032, 'item_price': 717.76, 'day': 25, 'month': 5, 'Previsao': 1.02, 'is_optimal': True}, {'dataCadastro': '2022-05-25', 'valorUnitario': 488.97, 'total': 488.97, 'valorUnitarioCusto': 341.04, 'valorFrete': 34.35, 'loja': 'Salvador - Barra', 'produtoId_x': 1210, 'discount%': 0.2491525423728813, 'item_price': 717.76, 'day': 25, 'month': 5, 'Previsao': 1.02, 'is_optimal': True}, {'dataCadastro': '2022-05-25', 'valorUnitario': 488.97, 'total': 488.97, 'valorUnitarioCusto': 341.04, 'valorFrete': 34.35, 'loja': 'Salvador - Barra', 'produtoId_x': 1210, 'discount%': 0.26101694915254237, 'item_price': 717.76, 'day': 25, 'month': 5, 'Previsao': 1.02, 'is_optimal': True}, {'dataCadastro': '2022-05-25', 'valorUnitario': 488.97, 'total': 488.97, 'valorUnitarioCusto': 341.04, 'valorFrete': 34.35, 'loja': 'Salvador - Barra', 'produtoId_x': 1210, 'discount%': 0.27288135593220336, 'item_price': 717.76, 'day': 25, 'month': 5, 'Previsao': 1.02, 'is_optimal': True}, {'dataCadastro': '2022-05-25', 'valorUnitario': 488.97, 'total': 488.97, 'valorUnitarioCusto': 341.04, 'valorFrete': 34.35, 'loja': 'Salvador - Barra', 'produtoId_x': 1210, 'discount%': 0.28474576271186436, 'item_price': 717.76, 'day': 25, 'month': 5, 'Previsao': 1.02, 'is_optimal': True}, {'dataCadastro': '2022-05-25', 'valorUnitario': 488.97, 'total': 488.97, 'valorUnitarioCusto': 341.04, 'valorFrete': 34.35, 'loja': 'Salvador - Barra', 'produtoId_x': 1210, 'discount%': 0.2966101694915254, 'item_price': 717.76, 'day': 25, 'month': 5, 'Previsao': 1.02, 'is_optimal': True}, {'dataCadastro': '2022-05-25', 'valorUnitario': 488.97, 'total': 488.97, 'valorUnitarioCusto': 341.04, 'valorFrete': 34.35, 'loja': 'Salvador - Barra', 'produtoId_x': 1210, 'discount%': 0.3084745762711864, 'item_price': 717.76, 'day': 25, 'month': 5, 'Previsao': 1.02, 'is_optimal': True}, {'dataCadastro': '2022-05-25', 'valorUnitario': 488.97, 'total': 488.97, 'valorUnitarioCusto': 341.04, 'valorFrete': 34.35, 'loja': 'Salvador - Barra', 'produtoId_x': 1210, 'discount%': 0.3203389830508474, 'item_price': 717.76, 'day': 25, 'month': 5, 'Previsao': 1.02, 'is_optimal': True}, {'dataCadastro': '2022-05-25', 'valorUnitario': 488.97, 'total': 488.97, 'valorUnitarioCusto': 341.04, 'valorFrete': 34.35, 'loja': 'Salvador - Barra', 'produtoId_x': 1210, 'discount%': 0.33220338983050846, 'item_price': 717.76, 'day': 25, 'month': 5, 'Previsao': 1.02, 'is_optimal': True}, {'dataCadastro': '2022-05-25', 'valorUnitario': 488.97, 'total': 488.97, 'valorUnitarioCusto': 341.04, 'valorFrete': 34.35, 'loja': 'Salvador - Barra', 'produtoId_x': 1210, 'discount%': 0.34406779661016945, 'item_price': 717.76, 'day': 25, 'month': 5, 'Previsao': 1.02, 'is_optimal': True}, {'dataCadastro': '2022-05-25', 'valorUnitario': 488.97, 'total': 488.97, 'valorUnitarioCusto': 341.04, 'valorFrete': 34.35, 'loja': 'Salvador - Barra', 'produtoId_x': 1210, 'discount%': 0.35593220338983045, 'item_price': 717.76, 'day': 25, 'month': 5, 'Previsao': 1.02, 'is_optimal': True}, {'dataCadastro': '2022-05-25', 'valorUnitario': 488.97, 'total': 488.97, 'valorUnitarioCusto': 341.04, 'valorFrete': 34.35, 'loja': 'Salvador - Barra', 'produtoId_x': 1210, 'discount%': 0.3677966101694915, 'item_price': 717.76, 'day': 25, 'month': 5, 'Previsao': 1.02, 'is_optimal': True}, {'dataCadastro': '2022-05-25', 'valorUnitario': 488.97, 'total': 488.97, 'valorUnitarioCusto': 341.04, 'valorFrete': 34.35, 'loja': 'Salvador - Barra', 'produtoId_x': 1210, 'discount%': 0.3796610169491525, 'item_price': 717.76, 'day': 25, 'month': 5, 'Previsao': 1.02, 'is_optimal': True}, {'dataCadastro': '2022-05-25', 'valorUnitario': 488.97, 'total': 488.97, 'valorUnitarioCusto': 341.04, 'valorFrete': 34.35, 'loja': 'Salvador - Barra', 'produtoId_x': 1210, 'discount%': 0.3915254237288135, 'item_price': 717.76, 'day': 25, 'month': 5, 'Previsao': 1.02, 'is_optimal': True}, {'dataCadastro': '2022-05-25', 'valorUnitario': 488.97, 'total': 488.97, 'valorUnitarioCusto': 341.04, 'valorFrete': 34.35, 'loja': 'Salvador - Barra', 'produtoId_x': 1210, 'discount%': 0.40338983050847455, 'item_price': 717.76, 'day': 25, 'month': 5, 'Previsao': 1.02, 'is_optimal': True}, {'dataCadastro': '2022-05-25', 'valorUnitario': 488.97, 'total': 488.97, 'valorUnitarioCusto': 341.04, 'valorFrete': 34.35, 'loja': 'Salvador - Barra', 'produtoId_x': 1210, 'discount%': 0.41525423728813554, 'item_price': 717.76, 'day': 25, 'month': 5, 'Previsao': 1.02, 'is_optimal': True}, {'dataCadastro': '2022-05-25', 'valorUnitario': 488.97, 'total': 488.97, 'valorUnitarioCusto': 341.04, 'valorFrete': 34.35, 'loja': 'Salvador - Barra', 'produtoId_x': 1210, 'discount%': 0.42711864406779654, 'item_price': 717.76, 'day': 25, 'month': 5, 'Previsao': 1.02, 'is_optimal': True}, {'dataCadastro': '2022-05-25', 'valorUnitario': 488.97, 'total': 488.97, 'valorUnitarioCusto': 341.04, 'valorFrete': 34.35, 'loja': 'Salvador - Barra', 'produtoId_x': 1210, 'discount%': 0.4389830508474576, 'item_price': 717.76, 'day': 25, 'month': 5, 'Previsao': 1.02, 'is_optimal': True}, {'dataCadastro': '2022-05-25', 'valorUnitario': 488.97, 'total': 488.97, 'valorUnitarioCusto': 341.04, 'valorFrete': 34.35, 'loja': 'Salvador - Barra', 'produtoId_x': 1210, 'discount%': 0.4508474576271186, 'item_price': 717.76, 'day': 25, 'month': 5, 'Previsao': 1.02, 'is_optimal': True}, {'dataCadastro': '2022-05-25', 'valorUnitario': 488.97, 'total': 488.97, 'valorUnitarioCusto': 341.04, 'valorFrete': 34.35, 'loja': 'Salvador - Barra', 'produtoId_x': 1210, 'discount%': 0.4627118644067796, 'item_price': 717.76, 'day': 25, 'month': 5, 'Previsao': 1.02, 'is_optimal': True}, {'dataCadastro': '2022-05-25', 'valorUnitario': 488.97, 'total': 488.97, 'valorUnitarioCusto': 341.04, 'valorFrete': 34.35, 'loja': 'Salvador - Barra', 'produtoId_x': 1210, 'discount%': 0.47457627118644063, 'item_price': 717.76, 'day': 25, 'month': 5, 'Previsao': 1.02, 'is_optimal': True}, {'dataCadastro': '2022-05-25', 'valorUnitario': 488.97, 'total': 488.97, 'valorUnitarioCusto': 341.04, 'valorFrete': 34.35, 'loja': 'Salvador - Barra', 'produtoId_x': 1210, 'discount%': 0.48644067796610163, 'item_price': 717.76, 'day': 25, 'month': 5, 'Previsao': 1.02, 'is_optimal': True}, {'dataCadastro': '2022-05-25', 'valorUnitario': 488.97, 'total': 488.97, 'valorUnitarioCusto': 341.04, 'valorFrete': 34.35, 'loja': 'Salvador - Barra', 'produtoId_x': 1210, 'discount%': 0.4983050847457626, 'item_price': 717.76, 'day': 25, 'month': 5, 'Previsao': 1.02, 'is_optimal': True}, {'dataCadastro': '2022-05-25', 'valorUnitario': 488.97, 'total': 488.97, 'valorUnitarioCusto': 341.04, 'valorFrete': 34.35, 'loja': 'Salvador - Barra', 'produtoId_x': 1210, 'discount%': 0.5101694915254237, 'item_price': 717.76, 'day': 25, 'month': 5, 'Previsao': 1.02, 'is_optimal': True}, {'dataCadastro': '2022-05-25', 'valorUnitario': 488.97, 'total': 488.97, 'valorUnitarioCusto': 341.04, 'valorFrete': 34.35, 'loja': 'Salvador - Barra', 'produtoId_x': 1210, 'discount%': 0.5220338983050847, 'item_price': 717.76, 'day': 25, 'month': 5, 'Previsao': 1.02, 'is_optimal': True}, {'dataCadastro': '2022-05-25', 'valorUnitario': 488.97, 'total': 488.97, 'valorUnitarioCusto': 341.04, 'valorFrete': 34.35, 'loja': 'Salvador - Barra', 'produtoId_x': 1210, 'discount%': 0.5338983050847457, 'item_price': 717.76, 'day': 25, 'month': 5, 'Previsao': 1.02, 'is_optimal': True}, {'dataCadastro': '2022-05-25', 'valorUnitario': 488.97, 'total': 488.97, 'valorUnitarioCusto': 341.04, 'valorFrete': 34.35, 'loja': 'Salvador - Barra', 'produtoId_x': 1210, 'discount%': 0.5457627118644067, 'item_price': 717.76, 'day': 25, 'month': 5, 'Previsao': 1.02, 'is_optimal': True}, {'dataCadastro': '2022-05-25', 'valorUnitario': 488.97, 'total': 488.97, 'valorUnitarioCusto': 341.04, 'valorFrete': 34.35, 'loja': 'Salvador - Barra', 'produtoId_x': 1210, 'discount%': 0.5576271186440678, 'item_price': 717.76, 'day': 25, 'month': 5, 'Previsao': 1.02, 'is_optimal': True}, {'dataCadastro': '2022-05-25', 'valorUnitario': 488.97, 'total': 488.97, 'valorUnitarioCusto': 341.04, 'valorFrete': 34.35, 'loja': 'Salvador - Barra', 'produtoId_x': 1210, 'discount%': 0.5694915254237287, 'item_price': 717.76, 'day': 25, 'month': 5, 'Previsao': 1.02, 'is_optimal': True}, {'dataCadastro': '2022-05-25', 'valorUnitario': 488.97, 'total': 488.97, 'valorUnitarioCusto': 341.04, 'valorFrete': 34.35, 'loja': 'Salvador - Barra', 'produtoId_x': 1210, 'discount%': 0.5813559322033898, 'item_price': 717.76, 'day': 25, 'month': 5, 'Previsao': 1.02, 'is_optimal': True}, {'dataCadastro': '2022-05-25', 'valorUnitario': 488.97, 'total': 488.97, 'valorUnitarioCusto': 341.04, 'valorFrete': 34.35, 'loja': 'Salvador - Barra', 'produtoId_x': 1210, 'discount%': 0.5932203389830508, 'item_price': 717.76, 'day': 25, 'month': 5, 'Previsao': 1.02, 'is_optimal': True}, {'dataCadastro': '2022-05-25', 'valorUnitario': 488.97, 'total': 488.97, 'valorUnitarioCusto': 341.04, 'valorFrete': 34.35, 'loja': 'Salvador - Barra', 'produtoId_x': 1210, 'discount%': 0.6050847457627118, 'item_price': 717.76, 'day': 25, 'month': 5, 'Previsao': 1.02, 'is_optimal': True}, {'dataCadastro': '2022-05-25', 'valorUnitario': 488.97, 'total': 488.97, 'valorUnitarioCusto': 341.04, 'valorFrete': 34.35, 'loja': 'Salvador - Barra', 'produtoId_x': 1210, 'discount%': 0.6169491525423728, 'item_price': 717.76, 'day': 25, 'month': 5, 'Previsao': 1.02, 'is_optimal': True}, {'dataCadastro': '2022-05-25', 'valorUnitario': 488.97, 'total': 488.97, 'valorUnitarioCusto': 341.04, 'valorFrete': 34.35, 'loja': 'Salvador - Barra', 'produtoId_x': 1210, 'discount%': 0.6288135593220339, 'item_price': 717.76, 'day': 25, 'month': 5, 'Previsao': 1.02, 'is_optimal': True}, {'dataCadastro': '2022-05-25', 'valorUnitario': 488.97, 'total': 488.97, 'valorUnitarioCusto': 341.04, 'valorFrete': 34.35, 'loja': 'Salvador - Barra', 'produtoId_x': 1210, 'discount%': 0.6406779661016948, 'item_price': 717.76, 'day': 25, 'month': 5, 'Previsao': 1.02, 'is_optimal': True}, {'dataCadastro': '2022-05-25', 'valorUnitario': 488.97, 'total': 488.97, 'valorUnitarioCusto': 341.04, 'valorFrete': 34.35, 'loja': 'Salvador - Barra', 'produtoId_x': 1210, 'discount%': 0.6525423728813559, 'item_price': 717.76, 'day': 25, 'month': 5, 'Previsao': 1.02, 'is_optimal': True}, {'dataCadastro': '2022-05-25', 'valorUnitario': 488.97, 'total': 488.97, 'valorUnitarioCusto': 341.04, 'valorFrete': 34.35, 'loja': 'Salvador - Barra', 'produtoId_x': 1210, 'discount%': 0.6644067796610169, 'item_price': 717.76, 'day': 25, 'month': 5, 'Previsao': 1.02, 'is_optimal': True}, {'dataCadastro': '2022-05-25', 'valorUnitario': 488.97, 'total': 488.97, 'valorUnitarioCusto': 341.04, 'valorFrete': 34.35, 'loja': 'Salvador - Barra', 'produtoId_x': 1210, 'discount%': 0.6762711864406779, 'item_price': 717.76, 'day': 25, 'month': 5, 'Previsao': 1.02, 'is_optimal': True}, {'dataCadastro': '2022-05-25', 'valorUnitario': 488.97, 'total': 488.97, 'valorUnitarioCusto': 341.04, 'valorFrete': 34.35, 'loja': 'Salvador - Barra', 'produtoId_x': 1210, 'discount%': 0.6881355932203389, 'item_price': 717.76, 'day': 25, 'month': 5, 'Previsao': 1.02, 'is_optimal': True}, {'dataCadastro': '2022-05-25', 'valorUnitario': 488.97, 'total': 488.97, 'valorUnitarioCusto': 341.04, 'valorFrete': 34.35, 'loja': 'Salvador - Barra', 'produtoId_x': 1210, 'discount%': 0.7, 'item_price': 717.76, 'day': 25, 'month': 5, 'Previsao': 1.02, 'is_optimal': True}, {'dataCadastro': '2022-03-09', 'valorUnitario': 4856.49, 'total': 4856.49, 'valorUnitarioCusto': 3792.81, 'valorFrete': 0.0, 'loja': 'Vitória - Praia do Canto', 'produtoId_x': 744, 'discount%': 0.0, 'item_price': 530.0350000000001, 'day': 9, 'month': 3, 'Previsao': 1.02, 'is_optimal': False}, {'dataCadastro': '2022-03-09', 'valorUnitario': 4856.49, 'total': 4856.49, 'valorUnitarioCusto': 3792.81, 'valorFrete': 0.0, 'loja': 'Vitória - Praia do Canto', 'produtoId_x': 744, 'discount%': 0.011864406779661016, 'item_price': 530.0350000000001, 'day': 9, 'month': 3, 'Previsao': 1.02, 'is_optimal': False}, {'dataCadastro': '2022-03-09', 'valorUnitario': 4856.49, 'total': 4856.49, 'valorUnitarioCusto': 3792.81, 'valorFrete': 0.0, 'loja': 'Vitória - Praia do Canto', 'produtoId_x': 744, 'discount%': 0.02372881355932203, 'item_price': 530.0350000000001, 'day': 9, 'month': 3, 'Previsao': 1.02, 'is_optimal': False}, {'dataCadastro': '2022-03-09', 'valorUnitario': 4856.49, 'total': 4856.49, 'valorUnitarioCusto': 3792.81, 'valorFrete': 0.0, 'loja': 'Vitória - Praia do Canto', 'produtoId_x': 744, 'discount%': 0.035593220338983045, 'item_price': 530.0350000000001, 'day': 9, 'month': 3, 'Previsao': 1.02, 'is_optimal': False}, {'dataCadastro': '2022-03-09', 'valorUnitario': 4856.49, 'total': 4856.49, 'valorUnitarioCusto': 3792.81, 'valorFrete': 0.0, 'loja': 'Vitória - Praia do Canto', 'produtoId_x': 744, 'discount%': 0.04745762711864406, 'item_price': 530.0350000000001, 'day': 9, 'month': 3, 'Previsao': 1.02, 'is_optimal': False}, {'dataCadastro': '2022-03-09', 'valorUnitario': 4856.49, 'total': 4856.49, 'valorUnitarioCusto': 3792.81, 'valorFrete': 0.0, 'loja': 'Vitória - Praia do Canto', 'produtoId_x': 744, 'discount%': 0.05932203389830508, 'item_price': 530.0350000000001, 'day': 9, 'month': 3, 'Previsao': 1.02, 'is_optimal': False}, {'dataCadastro': '2022-03-09', 'valorUnitario': 4856.49, 'total': 4856.49, 'valorUnitarioCusto': 3792.81, 'valorFrete': 0.0, 'loja': 'Vitória - Praia do Canto', 'produtoId_x': 744, 'discount%': 0.07118644067796609, 'item_price': 530.0350000000001, 'day': 9, 'month': 3, 'Previsao': 1.02, 'is_optimal': False}, {'dataCadastro': '2022-03-09', 'valorUnitario': 4856.49, 'total': 4856.49, 'valorUnitarioCusto': 3792.81, 'valorFrete': 0.0, 'loja': 'Vitória - Praia do Canto', 'produtoId_x': 744, 'discount%': 0.08305084745762711, 'item_price': 530.0350000000001, 'day': 9, 'month': 3, 'Previsao': 1.01, 'is_optimal': False}, {'dataCadastro': '2022-03-09', 'valorUnitario': 4856.49, 'total': 4856.49, 'valorUnitarioCusto': 3792.81, 'valorFrete': 0.0, 'loja': 'Vitória - Praia do Canto', 'produtoId_x': 744, 'discount%': 0.09491525423728812, 'item_price': 530.0350000000001, 'day': 9, 'month': 3, 'Previsao': 1.0, 'is_optimal': False}, {'dataCadastro': '2022-03-09', 'valorUnitario': 4856.49, 'total': 4856.49, 'valorUnitarioCusto': 3792.81, 'valorFrete': 0.0, 'loja': 'Vitória - Praia do Canto', 'produtoId_x': 744, 'discount%': 0.10677966101694913, 'item_price': 530.0350000000001, 'day': 9, 'month': 3, 'Previsao': 1.0, 'is_optimal': False}, {'dataCadastro': '2022-03-09', 'valorUnitario': 4856.49, 'total': 4856.49, 'valorUnitarioCusto': 3792.81, 'valorFrete': 0.0, 'loja': 'Vitória - Praia do Canto', 'produtoId_x': 744, 'discount%': 0.11864406779661016, 'item_price': 530.0350000000001, 'day': 9, 'month': 3, 'Previsao': 1.04, 'is_optimal': False}, {'dataCadastro': '2022-03-09', 'valorUnitario': 4856.49, 'total': 4856.49, 'valorUnitarioCusto': 3792.81, 'valorFrete': 0.0, 'loja': 'Vitória - Praia do Canto', 'produtoId_x': 744, 'discount%': 0.13050847457627118, 'item_price': 530.0350000000001, 'day': 9, 'month': 3, 'Previsao': 1.04, 'is_optimal': False}, {'dataCadastro': '2022-03-09', 'valorUnitario': 4856.49, 'total': 4856.49, 'valorUnitarioCusto': 3792.81, 'valorFrete': 0.0, 'loja': 'Vitória - Praia do Canto', 'produtoId_x': 744, 'discount%': 0.14237288135593218, 'item_price': 530.0350000000001, 'day': 9, 'month': 3, 'Previsao': 1.06, 'is_optimal': False}, {'dataCadastro': '2022-03-09', 'valorUnitario': 4856.49, 'total': 4856.49, 'valorUnitarioCusto': 3792.81, 'valorFrete': 0.0, 'loja': 'Vitória - Praia do Canto', 'produtoId_x': 744, 'discount%': 0.1542372881355932, 'item_price': 530.0350000000001, 'day': 9, 'month': 3, 'Previsao': 1.06, 'is_optimal': False}, {'dataCadastro': '2022-03-09', 'valorUnitario': 4856.49, 'total': 4856.49, 'valorUnitarioCusto': 3792.81, 'valorFrete': 0.0, 'loja': 'Vitória - Praia do Canto', 'produtoId_x': 744, 'discount%': 0.16610169491525423, 'item_price': 530.0350000000001, 'day': 9, 'month': 3, 'Previsao': 1.07, 'is_optimal': True}, {'dataCadastro': '2022-03-09', 'valorUnitario': 4856.49, 'total': 4856.49, 'valorUnitarioCusto': 3792.81, 'valorFrete': 0.0, 'loja': 'Vitória - Praia do Canto', 'produtoId_x': 744, 'discount%': 0.17796610169491522, 'item_price': 530.0350000000001, 'day': 9, 'month': 3, 'Previsao': 1.07, 'is_optimal': True}, {'dataCadastro': '2022-03-09', 'valorUnitario': 4856.49, 'total': 4856.49, 'valorUnitarioCusto': 3792.81, 'valorFrete': 0.0, 'loja': 'Vitória - Praia do Canto', 'produtoId_x': 744, 'discount%': 0.18983050847457625, 'item_price': 530.0350000000001, 'day': 9, 'month': 3, 'Previsao': 1.07, 'is_optimal': True}, {'dataCadastro': '2022-03-09', 'valorUnitario': 4856.49, 'total': 4856.49, 'valorUnitarioCusto': 3792.81, 'valorFrete': 0.0, 'loja': 'Vitória - Praia do Canto', 'produtoId_x': 744, 'discount%': 0.20169491525423727, 'item_price': 530.0350000000001, 'day': 9, 'month': 3, 'Previsao': 1.07, 'is_optimal': True}, {'dataCadastro': '2022-03-09', 'valorUnitario': 4856.49, 'total': 4856.49, 'valorUnitarioCusto': 3792.81, 'valorFrete': 0.0, 'loja': 'Vitória - Praia do Canto', 'produtoId_x': 744, 'discount%': 0.21355932203389827, 'item_price': 530.0350000000001, 'day': 9, 'month': 3, 'Previsao': 1.07, 'is_optimal': True}, {'dataCadastro': '2022-03-09', 'valorUnitario': 4856.49, 'total': 4856.49, 'valorUnitarioCusto': 3792.81, 'valorFrete': 0.0, 'loja': 'Vitória - Praia do Canto', 'produtoId_x': 744, 'discount%': 0.2254237288135593, 'item_price': 530.0350000000001, 'day': 9, 'month': 3, 'Previsao': 1.07, 'is_optimal': True}, {'dataCadastro': '2022-03-09', 'valorUnitario': 4856.49, 'total': 4856.49, 'valorUnitarioCusto': 3792.81, 'valorFrete': 0.0, 'loja': 'Vitória - Praia do Canto', 'produtoId_x': 744, 'discount%': 0.23728813559322032, 'item_price': 530.0350000000001, 'day': 9, 'month': 3, 'Previsao': 1.07, 'is_optimal': True}, {'dataCadastro': '2022-03-09', 'valorUnitario': 4856.49, 'total': 4856.49, 'valorUnitarioCusto': 3792.81, 'valorFrete': 0.0, 'loja': 'Vitória - Praia do Canto', 'produtoId_x': 744, 'discount%': 0.2491525423728813, 'item_price': 530.0350000000001, 'day': 9, 'month': 3, 'Previsao': 1.07, 'is_optimal': True}, {'dataCadastro': '2022-03-09', 'valorUnitario': 4856.49, 'total': 4856.49, 'valorUnitarioCusto': 3792.81, 'valorFrete': 0.0, 'loja': 'Vitória - Praia do Canto', 'produtoId_x': 744, 'discount%': 0.26101694915254237, 'item_price': 530.0350000000001, 'day': 9, 'month': 3, 'Previsao': 1.07, 'is_optimal': True}, {'dataCadastro': '2022-03-09', 'valorUnitario': 4856.49, 'total': 4856.49, 'valorUnitarioCusto': 3792.81, 'valorFrete': 0.0, 'loja': 'Vitória - Praia do Canto', 'produtoId_x': 744, 'discount%': 0.27288135593220336, 'item_price': 530.0350000000001, 'day': 9, 'month': 3, 'Previsao': 1.07, 'is_optimal': True}, {'dataCadastro': '2022-03-09', 'valorUnitario': 4856.49, 'total': 4856.49, 'valorUnitarioCusto': 3792.81, 'valorFrete': 0.0, 'loja': 'Vitória - Praia do Canto', 'produtoId_x': 744, 'discount%': 0.28474576271186436, 'item_price': 530.0350000000001, 'day': 9, 'month': 3, 'Previsao': 1.07, 'is_optimal': True}, {'dataCadastro': '2022-03-09', 'valorUnitario': 4856.49, 'total': 4856.49, 'valorUnitarioCusto': 3792.81, 'valorFrete': 0.0, 'loja': 'Vitória - Praia do Canto', 'produtoId_x': 744, 'discount%': 0.2966101694915254, 'item_price': 530.0350000000001, 'day': 9, 'month': 3, 'Previsao': 1.07, 'is_optimal': True}, {'dataCadastro': '2022-03-09', 'valorUnitario': 4856.49, 'total': 4856.49, 'valorUnitarioCusto': 3792.81, 'valorFrete': 0.0, 'loja': 'Vitória - Praia do Canto', 'produtoId_x': 744, 'discount%': 0.3084745762711864, 'item_price': 530.0350000000001, 'day': 9, 'month': 3, 'Previsao': 1.07, 'is_optimal': True}, {'dataCadastro': '2022-03-09', 'valorUnitario': 4856.49, 'total': 4856.49, 'valorUnitarioCusto': 3792.81, 'valorFrete': 0.0, 'loja': 'Vitória - Praia do Canto', 'produtoId_x': 744, 'discount%': 0.3203389830508474, 'item_price': 530.0350000000001, 'day': 9, 'month': 3, 'Previsao': 1.07, 'is_optimal': True}, {'dataCadastro': '2022-03-09', 'valorUnitario': 4856.49, 'total': 4856.49, 'valorUnitarioCusto': 3792.81, 'valorFrete': 0.0, 'loja': 'Vitória - Praia do Canto', 'produtoId_x': 744, 'discount%': 0.33220338983050846, 'item_price': 530.0350000000001, 'day': 9, 'month': 3, 'Previsao': 1.07, 'is_optimal': True}, {'dataCadastro': '2022-03-09', 'valorUnitario': 4856.49, 'total': 4856.49, 'valorUnitarioCusto': 3792.81, 'valorFrete': 0.0, 'loja': 'Vitória - Praia do Canto', 'produtoId_x': 744, 'discount%': 0.34406779661016945, 'item_price': 530.0350000000001, 'day': 9, 'month': 3, 'Previsao': 1.07, 'is_optimal': True}, {'dataCadastro': '2022-03-09', 'valorUnitario': 4856.49, 'total': 4856.49, 'valorUnitarioCusto': 3792.81, 'valorFrete': 0.0, 'loja': 'Vitória - Praia do Canto', 'produtoId_x': 744, 'discount%': 0.35593220338983045, 'item_price': 530.0350000000001, 'day': 9, 'month': 3, 'Previsao': 1.07, 'is_optimal': True}, {'dataCadastro': '2022-03-09', 'valorUnitario': 4856.49, 'total': 4856.49, 'valorUnitarioCusto': 3792.81, 'valorFrete': 0.0, 'loja': 'Vitória - Praia do Canto', 'produtoId_x': 744, 'discount%': 0.3677966101694915, 'item_price': 530.0350000000001, 'day': 9, 'month': 3, 'Previsao': 1.07, 'is_optimal': True}, {'dataCadastro': '2022-03-09', 'valorUnitario': 4856.49, 'total': 4856.49, 'valorUnitarioCusto': 3792.81, 'valorFrete': 0.0, 'loja': 'Vitória - Praia do Canto', 'produtoId_x': 744, 'discount%': 0.3796610169491525, 'item_price': 530.0350000000001, 'day': 9, 'month': 3, 'Previsao': 1.07, 'is_optimal': True}, {'dataCadastro': '2022-03-09', 'valorUnitario': 4856.49, 'total': 4856.49, 'valorUnitarioCusto': 3792.81, 'valorFrete': 0.0, 'loja': 'Vitória - Praia do Canto', 'produtoId_x': 744, 'discount%': 0.3915254237288135, 'item_price': 530.0350000000001, 'day': 9, 'month': 3, 'Previsao': 1.07, 'is_optimal': True}, {'dataCadastro': '2022-03-09', 'valorUnitario': 4856.49, 'total': 4856.49, 'valorUnitarioCusto': 3792.81, 'valorFrete': 0.0, 'loja': 'Vitória - Praia do Canto', 'produtoId_x': 744, 'discount%': 0.40338983050847455, 'item_price': 530.0350000000001, 'day': 9, 'month': 3, 'Previsao': 1.07, 'is_optimal': True}, {'dataCadastro': '2022-03-09', 'valorUnitario': 4856.49, 'total': 4856.49, 'valorUnitarioCusto': 3792.81, 'valorFrete': 0.0, 'loja': 'Vitória - Praia do Canto', 'produtoId_x': 744, 'discount%': 0.41525423728813554, 'item_price': 530.0350000000001, 'day': 9, 'month': 3, 'Previsao': 1.07, 'is_optimal': True}, {'dataCadastro': '2022-03-09', 'valorUnitario': 4856.49, 'total': 4856.49, 'valorUnitarioCusto': 3792.81, 'valorFrete': 0.0, 'loja': 'Vitória - Praia do Canto', 'produtoId_x': 744, 'discount%': 0.42711864406779654, 'item_price': 530.0350000000001, 'day': 9, 'month': 3, 'Previsao': 1.07, 'is_optimal': True}, {'dataCadastro': '2022-03-09', 'valorUnitario': 4856.49, 'total': 4856.49, 'valorUnitarioCusto': 3792.81, 'valorFrete': 0.0, 'loja': 'Vitória - Praia do Canto', 'produtoId_x': 744, 'discount%': 0.4389830508474576, 'item_price': 530.0350000000001, 'day': 9, 'month': 3, 'Previsao': 1.07, 'is_optimal': True}, {'dataCadastro': '2022-03-09', 'valorUnitario': 4856.49, 'total': 4856.49, 'valorUnitarioCusto': 3792.81, 'valorFrete': 0.0, 'loja': 'Vitória - Praia do Canto', 'produtoId_x': 744, 'discount%': 0.4508474576271186, 'item_price': 530.0350000000001, 'day': 9, 'month': 3, 'Previsao': 1.07, 'is_optimal': True}, {'dataCadastro': '2022-03-09', 'valorUnitario': 4856.49, 'total': 4856.49, 'valorUnitarioCusto': 3792.81, 'valorFrete': 0.0, 'loja': 'Vitória - Praia do Canto', 'produtoId_x': 744, 'discount%': 0.4627118644067796, 'item_price': 530.0350000000001, 'day': 9, 'month': 3, 'Previsao': 1.07, 'is_optimal': True}, {'dataCadastro': '2022-03-09', 'valorUnitario': 4856.49, 'total': 4856.49, 'valorUnitarioCusto': 3792.81, 'valorFrete': 0.0, 'loja': 'Vitória - Praia do Canto', 'produtoId_x': 744, 'discount%': 0.47457627118644063, 'item_price': 530.0350000000001, 'day': 9, 'month': 3, 'Previsao': 1.07, 'is_optimal': True}, {'dataCadastro': '2022-03-09', 'valorUnitario': 4856.49, 'total': 4856.49, 'valorUnitarioCusto': 3792.81, 'valorFrete': 0.0, 'loja': 'Vitória - Praia do Canto', 'produtoId_x': 744, 'discount%': 0.48644067796610163, 'item_price': 530.0350000000001, 'day': 9, 'month': 3, 'Previsao': 1.07, 'is_optimal': True}, {'dataCadastro': '2022-03-09', 'valorUnitario': 4856.49, 'total': 4856.49, 'valorUnitarioCusto': 3792.81, 'valorFrete': 0.0, 'loja': 'Vitória - Praia do Canto', 'produtoId_x': 744, 'discount%': 0.4983050847457626, 'item_price': 530.0350000000001, 'day': 9, 'month': 3, 'Previsao': 1.07, 'is_optimal': True}, {'dataCadastro': '2022-03-09', 'valorUnitario': 4856.49, 'total': 4856.49, 'valorUnitarioCusto': 3792.81, 'valorFrete': 0.0, 'loja': 'Vitória - Praia do Canto', 'produtoId_x': 744, 'discount%': 0.5101694915254237, 'item_price': 530.0350000000001, 'day': 9, 'month': 3, 'Previsao': 1.07, 'is_optimal': True}, {'dataCadastro': '2022-03-09', 'valorUnitario': 4856.49, 'total': 4856.49, 'valorUnitarioCusto': 3792.81, 'valorFrete': 0.0, 'loja': 'Vitória - Praia do Canto', 'produtoId_x': 744, 'discount%': 0.5220338983050847, 'item_price': 530.0350000000001, 'day': 9, 'month': 3, 'Previsao': 1.07, 'is_optimal': True}, {'dataCadastro': '2022-03-09', 'valorUnitario': 4856.49, 'total': 4856.49, 'valorUnitarioCusto': 3792.81, 'valorFrete': 0.0, 'loja': 'Vitória - Praia do Canto', 'produtoId_x': 744, 'discount%': 0.5338983050847457, 'item_price': 530.0350000000001, 'day': 9, 'month': 3, 'Previsao': 1.07, 'is_optimal': True}, {'dataCadastro': '2022-03-09', 'valorUnitario': 4856.49, 'total': 4856.49, 'valorUnitarioCusto': 3792.81, 'valorFrete': 0.0, 'loja': 'Vitória - Praia do Canto', 'produtoId_x': 744, 'discount%': 0.5457627118644067, 'item_price': 530.0350000000001, 'day': 9, 'month': 3, 'Previsao': 1.07, 'is_optimal': True}, {'dataCadastro': '2022-03-09', 'valorUnitario': 4856.49, 'total': 4856.49, 'valorUnitarioCusto': 3792.81, 'valorFrete': 0.0, 'loja': 'Vitória - Praia do Canto', 'produtoId_x': 744, 'discount%': 0.5576271186440678, 'item_price': 530.0350000000001, 'day': 9, 'month': 3, 'Previsao': 1.07, 'is_optimal': True}, {'dataCadastro': '2022-03-09', 'valorUnitario': 4856.49, 'total': 4856.49, 'valorUnitarioCusto': 3792.81, 'valorFrete': 0.0, 'loja': 'Vitória - Praia do Canto', 'produtoId_x': 744, 'discount%': 0.5694915254237287, 'item_price': 530.0350000000001, 'day': 9, 'month': 3, 'Previsao': 1.07, 'is_optimal': True}, {'dataCadastro': '2022-03-09', 'valorUnitario': 4856.49, 'total': 4856.49, 'valorUnitarioCusto': 3792.81, 'valorFrete': 0.0, 'loja': 'Vitória - Praia do Canto', 'produtoId_x': 744, 'discount%': 0.5813559322033898, 'item_price': 530.0350000000001, 'day': 9, 'month': 3, 'Previsao': 1.07, 'is_optimal': True}, {'dataCadastro': '2022-03-09', 'valorUnitario': 4856.49, 'total': 4856.49, 'valorUnitarioCusto': 3792.81, 'valorFrete': 0.0, 'loja': 'Vitória - Praia do Canto', 'produtoId_x': 744, 'discount%': 0.5932203389830508, 'item_price': 530.0350000000001, 'day': 9, 'month': 3, 'Previsao': 1.07, 'is_optimal': True}, {'dataCadastro': '2022-03-09', 'valorUnitario': 4856.49, 'total': 4856.49, 'valorUnitarioCusto': 3792.81, 'valorFrete': 0.0, 'loja': 'Vitória - Praia do Canto', 'produtoId_x': 744, 'discount%': 0.6050847457627118, 'item_price': 530.0350000000001, 'day': 9, 'month': 3, 'Previsao': 1.07, 'is_optimal': True}, {'dataCadastro': '2022-03-09', 'valorUnitario': 4856.49, 'total': 4856.49, 'valorUnitarioCusto': 3792.81, 'valorFrete': 0.0, 'loja': 'Vitória - Praia do Canto', 'produtoId_x': 744, 'discount%': 0.6169491525423728, 'item_price': 530.0350000000001, 'day': 9, 'month': 3, 'Previsao': 1.07, 'is_optimal': True}, {'dataCadastro': '2022-03-09', 'valorUnitario': 4856.49, 'total': 4856.49, 'valorUnitarioCusto': 3792.81, 'valorFrete': 0.0, 'loja': 'Vitória - Praia do Canto', 'produtoId_x': 744, 'discount%': 0.6288135593220339, 'item_price': 530.0350000000001, 'day': 9, 'month': 3, 'Previsao': 1.07, 'is_optimal': True}, {'dataCadastro': '2022-03-09', 'valorUnitario': 4856.49, 'total': 4856.49, 'valorUnitarioCusto': 3792.81, 'valorFrete': 0.0, 'loja': 'Vitória - Praia do Canto', 'produtoId_x': 744, 'discount%': 0.6406779661016948, 'item_price': 530.0350000000001, 'day': 9, 'month': 3, 'Previsao': 1.07, 'is_optimal': True}, {'dataCadastro': '2022-03-09', 'valorUnitario': 4856.49, 'total': 4856.49, 'valorUnitarioCusto': 3792.81, 'valorFrete': 0.0, 'loja': 'Vitória - Praia do Canto', 'produtoId_x': 744, 'discount%': 0.6525423728813559, 'item_price': 530.0350000000001, 'day': 9, 'month': 3, 'Previsao': 1.07, 'is_optimal': True}, {'dataCadastro': '2022-03-09', 'valorUnitario': 4856.49, 'total': 4856.49, 'valorUnitarioCusto': 3792.81, 'valorFrete': 0.0, 'loja': 'Vitória - Praia do Canto', 'produtoId_x': 744, 'discount%': 0.6644067796610169, 'item_price': 530.0350000000001, 'day': 9, 'month': 3, 'Previsao': 1.07, 'is_optimal': True}, {'dataCadastro': '2022-03-09', 'valorUnitario': 4856.49, 'total': 4856.49, 'valorUnitarioCusto': 3792.81, 'valorFrete': 0.0, 'loja': 'Vitória - Praia do Canto', 'produtoId_x': 744, 'discount%': 0.6762711864406779, 'item_price': 530.0350000000001, 'day': 9, 'month': 3, 'Previsao': 1.07, 'is_optimal': True}, {'dataCadastro': '2022-03-09', 'valorUnitario': 4856.49, 'total': 4856.49, 'valorUnitarioCusto': 3792.81, 'valorFrete': 0.0, 'loja': 'Vitória - Praia do Canto', 'produtoId_x': 744, 'discount%': 0.6881355932203389, 'item_price': 530.0350000000001, 'day': 9, 'month': 3, 'Previsao': 1.07, 'is_optimal': True}, {'dataCadastro': '2022-03-09', 'valorUnitario': 4856.49, 'total': 4856.49, 'valorUnitarioCusto': 3792.81, 'valorFrete': 0.0, 'loja': 'Vitória - Praia do Canto', 'produtoId_x': 744, 'discount%': 0.7, 'item_price': 530.0350000000001, 'day': 9, 'month': 3, 'Previsao': 1.07, 'is_optimal': True}, {'dataCadastro': '2022-06-24', 'valorUnitario': 1378.61, 'total': 1378.61, 'valorUnitarioCusto': 1076.66, 'valorFrete': 0.0, 'loja': 'Maceió - Jatiúca', 'produtoId_x': 10892, 'discount%': 0.0, 'item_price': 2538.5, 'day': 24, 'month': 6, 'Previsao': 1.0, 'is_optimal': False}, {'dataCadastro': '2022-06-24', 'valorUnitario': 1378.61, 'total': 1378.61, 'valorUnitarioCusto': 1076.66, 'valorFrete': 0.0, 'loja': 'Maceió - Jatiúca', 'produtoId_x': 10892, 'discount%': 0.011864406779661016, 'item_price': 2538.5, 'day': 24, 'month': 6, 'Previsao': 1.0, 'is_optimal': False}, {'dataCadastro': '2022-06-24', 'valorUnitario': 1378.61, 'total': 1378.61, 'valorUnitarioCusto': 1076.66, 'valorFrete': 0.0, 'loja': 'Maceió - Jatiúca', 'produtoId_x': 10892, 'discount%': 0.02372881355932203, 'item_price': 2538.5, 'day': 24, 'month': 6, 'Previsao': 1.0, 'is_optimal': False}, {'dataCadastro': '2022-06-24', 'valorUnitario': 1378.61, 'total': 1378.61, 'valorUnitarioCusto': 1076.66, 'valorFrete': 0.0, 'loja': 'Maceió - Jatiúca', 'produtoId_x': 10892, 'discount%': 0.035593220338983045, 'item_price': 2538.5, 'day': 24, 'month': 6, 'Previsao': 1.0, 'is_optimal': False}, {'dataCadastro': '2022-06-24', 'valorUnitario': 1378.61, 'total': 1378.61, 'valorUnitarioCusto': 1076.66, 'valorFrete': 0.0, 'loja': 'Maceió - Jatiúca', 'produtoId_x': 10892, 'discount%': 0.04745762711864406, 'item_price': 2538.5, 'day': 24, 'month': 6, 'Previsao': 1.0, 'is_optimal': False}, {'dataCadastro': '2022-06-24', 'valorUnitario': 1378.61, 'total': 1378.61, 'valorUnitarioCusto': 1076.66, 'valorFrete': 0.0, 'loja': 'Maceió - Jatiúca', 'produtoId_x': 10892, 'discount%': 0.05932203389830508, 'item_price': 2538.5, 'day': 24, 'month': 6, 'Previsao': 1.0, 'is_optimal': False}, {'dataCadastro': '2022-06-24', 'valorUnitario': 1378.61, 'total': 1378.61, 'valorUnitarioCusto': 1076.66, 'valorFrete': 0.0, 'loja': 'Maceió - Jatiúca', 'produtoId_x': 10892, 'discount%': 0.07118644067796609, 'item_price': 2538.5, 'day': 24, 'month': 6, 'Previsao': 1.0, 'is_optimal': False}, {'dataCadastro': '2022-06-24', 'valorUnitario': 1378.61, 'total': 1378.61, 'valorUnitarioCusto': 1076.66, 'valorFrete': 0.0, 'loja': 'Maceió - Jatiúca', 'produtoId_x': 10892, 'discount%': 0.08305084745762711, 'item_price': 2538.5, 'day': 24, 'month': 6, 'Previsao': 1.0, 'is_optimal': False}, {'dataCadastro': '2022-06-24', 'valorUnitario': 1378.61, 'total': 1378.61, 'valorUnitarioCusto': 1076.66, 'valorFrete': 0.0, 'loja': 'Maceió - Jatiúca', 'produtoId_x': 10892, 'discount%': 0.09491525423728812, 'item_price': 2538.5, 'day': 24, 'month': 6, 'Previsao': 2.56, 'is_optimal': False}, {'dataCadastro': '2022-06-24', 'valorUnitario': 1378.61, 'total': 1378.61, 'valorUnitarioCusto': 1076.66, 'valorFrete': 0.0, 'loja': 'Maceió - Jatiúca', 'produtoId_x': 10892, 'discount%': 0.10677966101694913, 'item_price': 2538.5, 'day': 24, 'month': 6, 'Previsao': 2.56, 'is_optimal': False}, {'dataCadastro': '2022-06-24', 'valorUnitario': 1378.61, 'total': 1378.61, 'valorUnitarioCusto': 1076.66, 'valorFrete': 0.0, 'loja': 'Maceió - Jatiúca', 'produtoId_x': 10892, 'discount%': 0.11864406779661016, 'item_price': 2538.5, 'day': 24, 'month': 6, 'Previsao': 2.56, 'is_optimal': False}, {'dataCadastro': '2022-06-24', 'valorUnitario': 1378.61, 'total': 1378.61, 'valorUnitarioCusto': 1076.66, 'valorFrete': 0.0, 'loja': 'Maceió - Jatiúca', 'produtoId_x': 10892, 'discount%': 0.13050847457627118, 'item_price': 2538.5, 'day': 24, 'month': 6, 'Previsao': 2.56, 'is_optimal': False}, {'dataCadastro': '2022-06-24', 'valorUnitario': 1378.61, 'total': 1378.61, 'valorUnitarioCusto': 1076.66, 'valorFrete': 0.0, 'loja': 'Maceió - Jatiúca', 'produtoId_x': 10892, 'discount%': 0.14237288135593218, 'item_price': 2538.5, 'day': 24, 'month': 6, 'Previsao': 2.56, 'is_optimal': False}, {'dataCadastro': '2022-06-24', 'valorUnitario': 1378.61, 'total': 1378.61, 'valorUnitarioCusto': 1076.66, 'valorFrete': 0.0, 'loja': 'Maceió - Jatiúca', 'produtoId_x': 10892, 'discount%': 0.1542372881355932, 'item_price': 2538.5, 'day': 24, 'month': 6, 'Previsao': 2.56, 'is_optimal': False}, {'dataCadastro': '2022-06-24', 'valorUnitario': 1378.61, 'total': 1378.61, 'valorUnitarioCusto': 1076.66, 'valorFrete': 0.0, 'loja': 'Maceió - Jatiúca', 'produtoId_x': 10892, 'discount%': 0.16610169491525423, 'item_price': 2538.5, 'day': 24, 'month': 6, 'Previsao': 2.63, 'is_optimal': True}, {'dataCadastro': '2022-06-24', 'valorUnitario': 1378.61, 'total': 1378.61, 'valorUnitarioCusto': 1076.66, 'valorFrete': 0.0, 'loja': 'Maceió - Jatiúca', 'produtoId_x': 10892, 'discount%': 0.17796610169491522, 'item_price': 2538.5, 'day': 24, 'month': 6, 'Previsao': 2.58, 'is_optimal': False}, {'dataCadastro': '2022-06-24', 'valorUnitario': 1378.61, 'total': 1378.61, 'valorUnitarioCusto': 1076.66, 'valorFrete': 0.0, 'loja': 'Maceió - Jatiúca', 'produtoId_x': 10892, 'discount%': 0.18983050847457625, 'item_price': 2538.5, 'day': 24, 'month': 6, 'Previsao': 2.56, 'is_optimal': False}, {'dataCadastro': '2022-06-24', 'valorUnitario': 1378.61, 'total': 1378.61, 'valorUnitarioCusto': 1076.66, 'valorFrete': 0.0, 'loja': 'Maceió - Jatiúca', 'produtoId_x': 10892, 'discount%': 0.20169491525423727, 'item_price': 2538.5, 'day': 24, 'month': 6, 'Previsao': 2.56, 'is_optimal': False}, {'dataCadastro': '2022-06-24', 'valorUnitario': 1378.61, 'total': 1378.61, 'valorUnitarioCusto': 1076.66, 'valorFrete': 0.0, 'loja': 'Maceió - Jatiúca', 'produtoId_x': 10892, 'discount%': 0.21355932203389827, 'item_price': 2538.5, 'day': 24, 'month': 6, 'Previsao': 2.56, 'is_optimal': False}, {'dataCadastro': '2022-06-24', 'valorUnitario': 1378.61, 'total': 1378.61, 'valorUnitarioCusto': 1076.66, 'valorFrete': 0.0, 'loja': 'Maceió - Jatiúca', 'produtoId_x': 10892, 'discount%': 0.2254237288135593, 'item_price': 2538.5, 'day': 24, 'month': 6, 'Previsao': 2.56, 'is_optimal': False}, {'dataCadastro': '2022-06-24', 'valorUnitario': 1378.61, 'total': 1378.61, 'valorUnitarioCusto': 1076.66, 'valorFrete': 0.0, 'loja': 'Maceió - Jatiúca', 'produtoId_x': 10892, 'discount%': 0.23728813559322032, 'item_price': 2538.5, 'day': 24, 'month': 6, 'Previsao': 2.56, 'is_optimal': False}, {'dataCadastro': '2022-06-24', 'valorUnitario': 1378.61, 'total': 1378.61, 'valorUnitarioCusto': 1076.66, 'valorFrete': 0.0, 'loja': 'Maceió - Jatiúca', 'produtoId_x': 10892, 'discount%': 0.2491525423728813, 'item_price': 2538.5, 'day': 24, 'month': 6, 'Previsao': 2.56, 'is_optimal': False}, {'dataCadastro': '2022-06-24', 'valorUnitario': 1378.61, 'total': 1378.61, 'valorUnitarioCusto': 1076.66, 'valorFrete': 0.0, 'loja': 'Maceió - Jatiúca', 'produtoId_x': 10892, 'discount%': 0.26101694915254237, 'item_price': 2538.5, 'day': 24, 'month': 6, 'Previsao': 2.56, 'is_optimal': False}, {'dataCadastro': '2022-06-24', 'valorUnitario': 1378.61, 'total': 1378.61, 'valorUnitarioCusto': 1076.66, 'valorFrete': 0.0, 'loja': 'Maceió - Jatiúca', 'produtoId_x': 10892, 'discount%': 0.27288135593220336, 'item_price': 2538.5, 'day': 24, 'month': 6, 'Previsao': 2.56, 'is_optimal': False}, {'dataCadastro': '2022-06-24', 'valorUnitario': 1378.61, 'total': 1378.61, 'valorUnitarioCusto': 1076.66, 'valorFrete': 0.0, 'loja': 'Maceió - Jatiúca', 'produtoId_x': 10892, 'discount%': 0.28474576271186436, 'item_price': 2538.5, 'day': 24, 'month': 6, 'Previsao': 2.56, 'is_optimal': False}, {'dataCadastro': '2022-06-24', 'valorUnitario': 1378.61, 'total': 1378.61, 'valorUnitarioCusto': 1076.66, 'valorFrete': 0.0, 'loja': 'Maceió - Jatiúca', 'produtoId_x': 10892, 'discount%': 0.2966101694915254, 'item_price': 2538.5, 'day': 24, 'month': 6, 'Previsao': 2.56, 'is_optimal': False}, {'dataCadastro': '2022-06-24', 'valorUnitario': 1378.61, 'total': 1378.61, 'valorUnitarioCusto': 1076.66, 'valorFrete': 0.0, 'loja': 'Maceió - Jatiúca', 'produtoId_x': 10892, 'discount%': 0.3084745762711864, 'item_price': 2538.5, 'day': 24, 'month': 6, 'Previsao': 2.56, 'is_optimal': False}, {'dataCadastro': '2022-06-24', 'valorUnitario': 1378.61, 'total': 1378.61, 'valorUnitarioCusto': 1076.66, 'valorFrete': 0.0, 'loja': 'Maceió - Jatiúca', 'produtoId_x': 10892, 'discount%': 0.3203389830508474, 'item_price': 2538.5, 'day': 24, 'month': 6, 'Previsao': 2.56, 'is_optimal': False}, {'dataCadastro': '2022-06-24', 'valorUnitario': 1378.61, 'total': 1378.61, 'valorUnitarioCusto': 1076.66, 'valorFrete': 0.0, 'loja': 'Maceió - Jatiúca', 'produtoId_x': 10892, 'discount%': 0.33220338983050846, 'item_price': 2538.5, 'day': 24, 'month': 6, 'Previsao': 2.56, 'is_optimal': False}, {'dataCadastro': '2022-06-24', 'valorUnitario': 1378.61, 'total': 1378.61, 'valorUnitarioCusto': 1076.66, 'valorFrete': 0.0, 'loja': 'Maceió - Jatiúca', 'produtoId_x': 10892, 'discount%': 0.34406779661016945, 'item_price': 2538.5, 'day': 24, 'month': 6, 'Previsao': 2.56, 'is_optimal': False}, {'dataCadastro': '2022-06-24', 'valorUnitario': 1378.61, 'total': 1378.61, 'valorUnitarioCusto': 1076.66, 'valorFrete': 0.0, 'loja': 'Maceió - Jatiúca', 'produtoId_x': 10892, 'discount%': 0.35593220338983045, 'item_price': 2538.5, 'day': 24, 'month': 6, 'Previsao': 2.56, 'is_optimal': False}, {'dataCadastro': '2022-06-24', 'valorUnitario': 1378.61, 'total': 1378.61, 'valorUnitarioCusto': 1076.66, 'valorFrete': 0.0, 'loja': 'Maceió - Jatiúca', 'produtoId_x': 10892, 'discount%': 0.3677966101694915, 'item_price': 2538.5, 'day': 24, 'month': 6, 'Previsao': 2.56, 'is_optimal': False}, {'dataCadastro': '2022-06-24', 'valorUnitario': 1378.61, 'total': 1378.61, 'valorUnitarioCusto': 1076.66, 'valorFrete': 0.0, 'loja': 'Maceió - Jatiúca', 'produtoId_x': 10892, 'discount%': 0.3796610169491525, 'item_price': 2538.5, 'day': 24, 'month': 6, 'Previsao': 2.56, 'is_optimal': False}, {'dataCadastro': '2022-06-24', 'valorUnitario': 1378.61, 'total': 1378.61, 'valorUnitarioCusto': 1076.66, 'valorFrete': 0.0, 'loja': 'Maceió - Jatiúca', 'produtoId_x': 10892, 'discount%': 0.3915254237288135, 'item_price': 2538.5, 'day': 24, 'month': 6, 'Previsao': 2.56, 'is_optimal': False}, {'dataCadastro': '2022-06-24', 'valorUnitario': 1378.61, 'total': 1378.61, 'valorUnitarioCusto': 1076.66, 'valorFrete': 0.0, 'loja': 'Maceió - Jatiúca', 'produtoId_x': 10892, 'discount%': 0.40338983050847455, 'item_price': 2538.5, 'day': 24, 'month': 6, 'Previsao': 2.56, 'is_optimal': False}, {'dataCadastro': '2022-06-24', 'valorUnitario': 1378.61, 'total': 1378.61, 'valorUnitarioCusto': 1076.66, 'valorFrete': 0.0, 'loja': 'Maceió - Jatiúca', 'produtoId_x': 10892, 'discount%': 0.41525423728813554, 'item_price': 2538.5, 'day': 24, 'month': 6, 'Previsao': 2.56, 'is_optimal': False}, {'dataCadastro': '2022-06-24', 'valorUnitario': 1378.61, 'total': 1378.61, 'valorUnitarioCusto': 1076.66, 'valorFrete': 0.0, 'loja': 'Maceió - Jatiúca', 'produtoId_x': 10892, 'discount%': 0.42711864406779654, 'item_price': 2538.5, 'day': 24, 'month': 6, 'Previsao': 2.56, 'is_optimal': False}, {'dataCadastro': '2022-06-24', 'valorUnitario': 1378.61, 'total': 1378.61, 'valorUnitarioCusto': 1076.66, 'valorFrete': 0.0, 'loja': 'Maceió - Jatiúca', 'produtoId_x': 10892, 'discount%': 0.4389830508474576, 'item_price': 2538.5, 'day': 24, 'month': 6, 'Previsao': 2.56, 'is_optimal': False}, {'dataCadastro': '2022-06-24', 'valorUnitario': 1378.61, 'total': 1378.61, 'valorUnitarioCusto': 1076.66, 'valorFrete': 0.0, 'loja': 'Maceió - Jatiúca', 'produtoId_x': 10892, 'discount%': 0.4508474576271186, 'item_price': 2538.5, 'day': 24, 'month': 6, 'Previsao': 2.56, 'is_optimal': False}, {'dataCadastro': '2022-06-24', 'valorUnitario': 1378.61, 'total': 1378.61, 'valorUnitarioCusto': 1076.66, 'valorFrete': 0.0, 'loja': 'Maceió - Jatiúca', 'produtoId_x': 10892, 'discount%': 0.4627118644067796, 'item_price': 2538.5, 'day': 24, 'month': 6, 'Previsao': 2.56, 'is_optimal': False}, {'dataCadastro': '2022-06-24', 'valorUnitario': 1378.61, 'total': 1378.61, 'valorUnitarioCusto': 1076.66, 'valorFrete': 0.0, 'loja': 'Maceió - Jatiúca', 'produtoId_x': 10892, 'discount%': 0.47457627118644063, 'item_price': 2538.5, 'day': 24, 'month': 6, 'Previsao': 2.56, 'is_optimal': False}, {'dataCadastro': '2022-06-24', 'valorUnitario': 1378.61, 'total': 1378.61, 'valorUnitarioCusto': 1076.66, 'valorFrete': 0.0, 'loja': 'Maceió - Jatiúca', 'produtoId_x': 10892, 'discount%': 0.48644067796610163, 'item_price': 2538.5, 'day': 24, 'month': 6, 'Previsao': 2.56, 'is_optimal': False}, {'dataCadastro': '2022-06-24', 'valorUnitario': 1378.61, 'total': 1378.61, 'valorUnitarioCusto': 1076.66, 'valorFrete': 0.0, 'loja': 'Maceió - Jatiúca', 'produtoId_x': 10892, 'discount%': 0.4983050847457626, 'item_price': 2538.5, 'day': 24, 'month': 6, 'Previsao': 2.56, 'is_optimal': False}, {'dataCadastro': '2022-06-24', 'valorUnitario': 1378.61, 'total': 1378.61, 'valorUnitarioCusto': 1076.66, 'valorFrete': 0.0, 'loja': 'Maceió - Jatiúca', 'produtoId_x': 10892, 'discount%': 0.5101694915254237, 'item_price': 2538.5, 'day': 24, 'month': 6, 'Previsao': 2.56, 'is_optimal': False}, {'dataCadastro': '2022-06-24', 'valorUnitario': 1378.61, 'total': 1378.61, 'valorUnitarioCusto': 1076.66, 'valorFrete': 0.0, 'loja': 'Maceió - Jatiúca', 'produtoId_x': 10892, 'discount%': 0.5220338983050847, 'item_price': 2538.5, 'day': 24, 'month': 6, 'Previsao': 2.56, 'is_optimal': False}, {'dataCadastro': '2022-06-24', 'valorUnitario': 1378.61, 'total': 1378.61, 'valorUnitarioCusto': 1076.66, 'valorFrete': 0.0, 'loja': 'Maceió - Jatiúca', 'produtoId_x': 10892, 'discount%': 0.5338983050847457, 'item_price': 2538.5, 'day': 24, 'month': 6, 'Previsao': 2.56, 'is_optimal': False}, {'dataCadastro': '2022-06-24', 'valorUnitario': 1378.61, 'total': 1378.61, 'valorUnitarioCusto': 1076.66, 'valorFrete': 0.0, 'loja': 'Maceió - Jatiúca', 'produtoId_x': 10892, 'discount%': 0.5457627118644067, 'item_price': 2538.5, 'day': 24, 'month': 6, 'Previsao': 2.56, 'is_optimal': False}, {'dataCadastro': '2022-06-24', 'valorUnitario': 1378.61, 'total': 1378.61, 'valorUnitarioCusto': 1076.66, 'valorFrete': 0.0, 'loja': 'Maceió - Jatiúca', 'produtoId_x': 10892, 'discount%': 0.5576271186440678, 'item_price': 2538.5, 'day': 24, 'month': 6, 'Previsao': 2.56, 'is_optimal': False}, {'dataCadastro': '2022-06-24', 'valorUnitario': 1378.61, 'total': 1378.61, 'valorUnitarioCusto': 1076.66, 'valorFrete': 0.0, 'loja': 'Maceió - Jatiúca', 'produtoId_x': 10892, 'discount%': 0.5694915254237287, 'item_price': 2538.5, 'day': 24, 'month': 6, 'Previsao': 2.56, 'is_optimal': False}, {'dataCadastro': '2022-06-24', 'valorUnitario': 1378.61, 'total': 1378.61, 'valorUnitarioCusto': 1076.66, 'valorFrete': 0.0, 'loja': 'Maceió - Jatiúca', 'produtoId_x': 10892, 'discount%': 0.5813559322033898, 'item_price': 2538.5, 'day': 24, 'month': 6, 'Previsao': 2.56, 'is_optimal': False}, {'dataCadastro': '2022-06-24', 'valorUnitario': 1378.61, 'total': 1378.61, 'valorUnitarioCusto': 1076.66, 'valorFrete': 0.0, 'loja': 'Maceió - Jatiúca', 'produtoId_x': 10892, 'discount%': 0.5932203389830508, 'item_price': 2538.5, 'day': 24, 'month': 6, 'Previsao': 2.56, 'is_optimal': False}, {'dataCadastro': '2022-06-24', 'valorUnitario': 1378.61, 'total': 1378.61, 'valorUnitarioCusto': 1076.66, 'valorFrete': 0.0, 'loja': 'Maceió - Jatiúca', 'produtoId_x': 10892, 'discount%': 0.6050847457627118, 'item_price': 2538.5, 'day': 24, 'month': 6, 'Previsao': 2.56, 'is_optimal': False}, {'dataCadastro': '2022-06-24', 'valorUnitario': 1378.61, 'total': 1378.61, 'valorUnitarioCusto': 1076.66, 'valorFrete': 0.0, 'loja': 'Maceió - Jatiúca', 'produtoId_x': 10892, 'discount%': 0.6169491525423728, 'item_price': 2538.5, 'day': 24, 'month': 6, 'Previsao': 2.56, 'is_optimal': False}, {'dataCadastro': '2022-06-24', 'valorUnitario': 1378.61, 'total': 1378.61, 'valorUnitarioCusto': 1076.66, 'valorFrete': 0.0, 'loja': 'Maceió - Jatiúca', 'produtoId_x': 10892, 'discount%': 0.6288135593220339, 'item_price': 2538.5, 'day': 24, 'month': 6, 'Previsao': 2.56, 'is_optimal': False}, {'dataCadastro': '2022-06-24', 'valorUnitario': 1378.61, 'total': 1378.61, 'valorUnitarioCusto': 1076.66, 'valorFrete': 0.0, 'loja': 'Maceió - Jatiúca', 'produtoId_x': 10892, 'discount%': 0.6406779661016948, 'item_price': 2538.5, 'day': 24, 'month': 6, 'Previsao': 2.56, 'is_optimal': False}, {'dataCadastro': '2022-06-24', 'valorUnitario': 1378.61, 'total': 1378.61, 'valorUnitarioCusto': 1076.66, 'valorFrete': 0.0, 'loja': 'Maceió - Jatiúca', 'produtoId_x': 10892, 'discount%': 0.6525423728813559, 'item_price': 2538.5, 'day': 24, 'month': 6, 'Previsao': 2.56, 'is_optimal': False}, {'dataCadastro': '2022-06-24', 'valorUnitario': 1378.61, 'total': 1378.61, 'valorUnitarioCusto': 1076.66, 'valorFrete': 0.0, 'loja': 'Maceió - Jatiúca', 'produtoId_x': 10892, 'discount%': 0.6644067796610169, 'item_price': 2538.5, 'day': 24, 'month': 6, 'Previsao': 2.56, 'is_optimal': False}, {'dataCadastro': '2022-06-24', 'valorUnitario': 1378.61, 'total': 1378.61, 'valorUnitarioCusto': 1076.66, 'valorFrete': 0.0, 'loja': 'Maceió - Jatiúca', 'produtoId_x': 10892, 'discount%': 0.6762711864406779, 'item_price': 2538.5, 'day': 24, 'month': 6, 'Previsao': 2.56, 'is_optimal': False}, {'dataCadastro': '2022-06-24', 'valorUnitario': 1378.61, 'total': 1378.61, 'valorUnitarioCusto': 1076.66, 'valorFrete': 0.0, 'loja': 'Maceió - Jatiúca', 'produtoId_x': 10892, 'discount%': 0.6881355932203389, 'item_price': 2538.5, 'day': 24, 'month': 6, 'Previsao': 2.56, 'is_optimal': False}, {'dataCadastro': '2022-06-24', 'valorUnitario': 1378.61, 'total': 1378.61, 'valorUnitarioCusto': 1076.66, 'valorFrete': 0.0, 'loja': 'Maceió - Jatiúca', 'produtoId_x': 10892, 'discount%': 0.7, 'item_price': 2538.5, 'day': 24, 'month': 6, 'Previsao': 2.56, 'is_optimal': False}, {'dataCadastro': '2022-04-25', 'valorUnitario': 5633.89, 'total': 5633.89, 'valorUnitarioCusto': 4399.94, 'valorFrete': 0.0, 'loja': 'Porto Alegre - Partenon', 'produtoId_x': 10770, 'discount%': 0.0, 'item_price': 2188.3, 'day': 25, 'month': 4, 'Previsao': 1.0, 'is_optimal': True}, {'dataCadastro': '2022-04-25', 'valorUnitario': 5633.89, 'total': 5633.89, 'valorUnitarioCusto': 4399.94, 'valorFrete': 0.0, 'loja': 'Porto Alegre - Partenon', 'produtoId_x': 10770, 'discount%': 0.011864406779661016, 'item_price': 2188.3, 'day': 25, 'month': 4, 'Previsao': 1.0, 'is_optimal': True}, {'dataCadastro': '2022-04-25', 'valorUnitario': 5633.89, 'total': 5633.89, 'valorUnitarioCusto': 4399.94, 'valorFrete': 0.0, 'loja': 'Porto Alegre - Partenon', 'produtoId_x': 10770, 'discount%': 0.02372881355932203, 'item_price': 2188.3, 'day': 25, 'month': 4, 'Previsao': 1.0, 'is_optimal': True}, {'dataCadastro': '2022-04-25', 'valorUnitario': 5633.89, 'total': 5633.89, 'valorUnitarioCusto': 4399.94, 'valorFrete': 0.0, 'loja': 'Porto Alegre - Partenon', 'produtoId_x': 10770, 'discount%': 0.035593220338983045, 'item_price': 2188.3, 'day': 25, 'month': 4, 'Previsao': 1.0, 'is_optimal': True}, {'dataCadastro': '2022-04-25', 'valorUnitario': 5633.89, 'total': 5633.89, 'valorUnitarioCusto': 4399.94, 'valorFrete': 0.0, 'loja': 'Porto Alegre - Partenon', 'produtoId_x': 10770, 'discount%': 0.04745762711864406, 'item_price': 2188.3, 'day': 25, 'month': 4, 'Previsao': 1.0, 'is_optimal': True}, {'dataCadastro': '2022-04-25', 'valorUnitario': 5633.89, 'total': 5633.89, 'valorUnitarioCusto': 4399.94, 'valorFrete': 0.0, 'loja': 'Porto Alegre - Partenon', 'produtoId_x': 10770, 'discount%': 0.05932203389830508, 'item_price': 2188.3, 'day': 25, 'month': 4, 'Previsao': 1.0, 'is_optimal': True}, {'dataCadastro': '2022-04-25', 'valorUnitario': 5633.89, 'total': 5633.89, 'valorUnitarioCusto': 4399.94, 'valorFrete': 0.0, 'loja': 'Porto Alegre - Partenon', 'produtoId_x': 10770, 'discount%': 0.07118644067796609, 'item_price': 2188.3, 'day': 25, 'month': 4, 'Previsao': 1.0, 'is_optimal': True}, {'dataCadastro': '2022-04-25', 'valorUnitario': 5633.89, 'total': 5633.89, 'valorUnitarioCusto': 4399.94, 'valorFrete': 0.0, 'loja': 'Porto Alegre - Partenon', 'produtoId_x': 10770, 'discount%': 0.08305084745762711, 'item_price': 2188.3, 'day': 25, 'month': 4, 'Previsao': 1.0, 'is_optimal': True}, {'dataCadastro': '2022-04-25', 'valorUnitario': 5633.89, 'total': 5633.89, 'valorUnitarioCusto': 4399.94, 'valorFrete': 0.0, 'loja': 'Porto Alegre - Partenon', 'produtoId_x': 10770, 'discount%': 0.09491525423728812, 'item_price': 2188.3, 'day': 25, 'month': 4, 'Previsao': 1.0, 'is_optimal': True}, {'dataCadastro': '2022-04-25', 'valorUnitario': 5633.89, 'total': 5633.89, 'valorUnitarioCusto': 4399.94, 'valorFrete': 0.0, 'loja': 'Porto Alegre - Partenon', 'produtoId_x': 10770, 'discount%': 0.10677966101694913, 'item_price': 2188.3, 'day': 25, 'month': 4, 'Previsao': 1.0, 'is_optimal': True}, {'dataCadastro': '2022-04-25', 'valorUnitario': 5633.89, 'total': 5633.89, 'valorUnitarioCusto': 4399.94, 'valorFrete': 0.0, 'loja': 'Porto Alegre - Partenon', 'produtoId_x': 10770, 'discount%': 0.11864406779661016, 'item_price': 2188.3, 'day': 25, 'month': 4, 'Previsao': 1.0, 'is_optimal': True}, {'dataCadastro': '2022-04-25', 'valorUnitario': 5633.89, 'total': 5633.89, 'valorUnitarioCusto': 4399.94, 'valorFrete': 0.0, 'loja': 'Porto Alegre - Partenon', 'produtoId_x': 10770, 'discount%': 0.13050847457627118, 'item_price': 2188.3, 'day': 25, 'month': 4, 'Previsao': 1.0, 'is_optimal': True}, {'dataCadastro': '2022-04-25', 'valorUnitario': 5633.89, 'total': 5633.89, 'valorUnitarioCusto': 4399.94, 'valorFrete': 0.0, 'loja': 'Porto Alegre - Partenon', 'produtoId_x': 10770, 'discount%': 0.14237288135593218, 'item_price': 2188.3, 'day': 25, 'month': 4, 'Previsao': 1.0, 'is_optimal': True}, {'dataCadastro': '2022-04-25', 'valorUnitario': 5633.89, 'total': 5633.89, 'valorUnitarioCusto': 4399.94, 'valorFrete': 0.0, 'loja': 'Porto Alegre - Partenon', 'produtoId_x': 10770, 'discount%': 0.1542372881355932, 'item_price': 2188.3, 'day': 25, 'month': 4, 'Previsao': 1.0, 'is_optimal': True}, {'dataCadastro': '2022-04-25', 'valorUnitario': 5633.89, 'total': 5633.89, 'valorUnitarioCusto': 4399.94, 'valorFrete': 0.0, 'loja': 'Porto Alegre - Partenon', 'produtoId_x': 10770, 'discount%': 0.16610169491525423, 'item_price': 2188.3, 'day': 25, 'month': 4, 'Previsao': 1.0, 'is_optimal': True}, {'dataCadastro': '2022-04-25', 'valorUnitario': 5633.89, 'total': 5633.89, 'valorUnitarioCusto': 4399.94, 'valorFrete': 0.0, 'loja': 'Porto Alegre - Partenon', 'produtoId_x': 10770, 'discount%': 0.17796610169491522, 'item_price': 2188.3, 'day': 25, 'month': 4, 'Previsao': 1.0, 'is_optimal': True}, {'dataCadastro': '2022-04-25', 'valorUnitario': 5633.89, 'total': 5633.89, 'valorUnitarioCusto': 4399.94, 'valorFrete': 0.0, 'loja': 'Porto Alegre - Partenon', 'produtoId_x': 10770, 'discount%': 0.18983050847457625, 'item_price': 2188.3, 'day': 25, 'month': 4, 'Previsao': 1.0, 'is_optimal': True}, {'dataCadastro': '2022-04-25', 'valorUnitario': 5633.89, 'total': 5633.89, 'valorUnitarioCusto': 4399.94, 'valorFrete': 0.0, 'loja': 'Porto Alegre - Partenon', 'produtoId_x': 10770, 'discount%': 0.20169491525423727, 'item_price': 2188.3, 'day': 25, 'month': 4, 'Previsao': 1.0, 'is_optimal': True}, {'dataCadastro': '2022-04-25', 'valorUnitario': 5633.89, 'total': 5633.89, 'valorUnitarioCusto': 4399.94, 'valorFrete': 0.0, 'loja': 'Porto Alegre - Partenon', 'produtoId_x': 10770, 'discount%': 0.21355932203389827, 'item_price': 2188.3, 'day': 25, 'month': 4, 'Previsao': 1.0, 'is_optimal': True}, {'dataCadastro': '2022-04-25', 'valorUnitario': 5633.89, 'total': 5633.89, 'valorUnitarioCusto': 4399.94, 'valorFrete': 0.0, 'loja': 'Porto Alegre - Partenon', 'produtoId_x': 10770, 'discount%': 0.2254237288135593, 'item_price': 2188.3, 'day': 25, 'month': 4, 'Previsao': 1.0, 'is_optimal': True}, {'dataCadastro': '2022-04-25', 'valorUnitario': 5633.89, 'total': 5633.89, 'valorUnitarioCusto': 4399.94, 'valorFrete': 0.0, 'loja': 'Porto Alegre - Partenon', 'produtoId_x': 10770, 'discount%': 0.23728813559322032, 'item_price': 2188.3, 'day': 25, 'month': 4, 'Previsao': 1.0, 'is_optimal': True}, {'dataCadastro': '2022-04-25', 'valorUnitario': 5633.89, 'total': 5633.89, 'valorUnitarioCusto': 4399.94, 'valorFrete': 0.0, 'loja': 'Porto Alegre - Partenon', 'produtoId_x': 10770, 'discount%': 0.2491525423728813, 'item_price': 2188.3, 'day': 25, 'month': 4, 'Previsao': 1.0, 'is_optimal': True}, {'dataCadastro': '2022-04-25', 'valorUnitario': 5633.89, 'total': 5633.89, 'valorUnitarioCusto': 4399.94, 'valorFrete': 0.0, 'loja': 'Porto Alegre - Partenon', 'produtoId_x': 10770, 'discount%': 0.26101694915254237, 'item_price': 2188.3, 'day': 25, 'month': 4, 'Previsao': 1.0, 'is_optimal': True}, {'dataCadastro': '2022-04-25', 'valorUnitario': 5633.89, 'total': 5633.89, 'valorUnitarioCusto': 4399.94, 'valorFrete': 0.0, 'loja': 'Porto Alegre - Partenon', 'produtoId_x': 10770, 'discount%': 0.27288135593220336, 'item_price': 2188.3, 'day': 25, 'month': 4, 'Previsao': 1.0, 'is_optimal': True}, {'dataCadastro': '2022-04-25', 'valorUnitario': 5633.89, 'total': 5633.89, 'valorUnitarioCusto': 4399.94, 'valorFrete': 0.0, 'loja': 'Porto Alegre - Partenon', 'produtoId_x': 10770, 'discount%': 0.28474576271186436, 'item_price': 2188.3, 'day': 25, 'month': 4, 'Previsao': 1.0, 'is_optimal': True}, {'dataCadastro': '2022-04-25', 'valorUnitario': 5633.89, 'total': 5633.89, 'valorUnitarioCusto': 4399.94, 'valorFrete': 0.0, 'loja': 'Porto Alegre - Partenon', 'produtoId_x': 10770, 'discount%': 0.2966101694915254, 'item_price': 2188.3, 'day': 25, 'month': 4, 'Previsao': 1.0, 'is_optimal': True}, {'dataCadastro': '2022-04-25', 'valorUnitario': 5633.89, 'total': 5633.89, 'valorUnitarioCusto': 4399.94, 'valorFrete': 0.0, 'loja': 'Porto Alegre - Partenon', 'produtoId_x': 10770, 'discount%': 0.3084745762711864, 'item_price': 2188.3, 'day': 25, 'month': 4, 'Previsao': 1.0, 'is_optimal': True}, {'dataCadastro': '2022-04-25', 'valorUnitario': 5633.89, 'total': 5633.89, 'valorUnitarioCusto': 4399.94, 'valorFrete': 0.0, 'loja': 'Porto Alegre - Partenon', 'produtoId_x': 10770, 'discount%': 0.3203389830508474, 'item_price': 2188.3, 'day': 25, 'month': 4, 'Previsao': 1.0, 'is_optimal': True}, {'dataCadastro': '2022-04-25', 'valorUnitario': 5633.89, 'total': 5633.89, 'valorUnitarioCusto': 4399.94, 'valorFrete': 0.0, 'loja': 'Porto Alegre - Partenon', 'produtoId_x': 10770, 'discount%': 0.33220338983050846, 'item_price': 2188.3, 'day': 25, 'month': 4, 'Previsao': 1.0, 'is_optimal': True}, {'dataCadastro': '2022-04-25', 'valorUnitario': 5633.89, 'total': 5633.89, 'valorUnitarioCusto': 4399.94, 'valorFrete': 0.0, 'loja': 'Porto Alegre - Partenon', 'produtoId_x': 10770, 'discount%': 0.34406779661016945, 'item_price': 2188.3, 'day': 25, 'month': 4, 'Previsao': 1.0, 'is_optimal': True}, {'dataCadastro': '2022-04-25', 'valorUnitario': 5633.89, 'total': 5633.89, 'valorUnitarioCusto': 4399.94, 'valorFrete': 0.0, 'loja': 'Porto Alegre - Partenon', 'produtoId_x': 10770, 'discount%': 0.35593220338983045, 'item_price': 2188.3, 'day': 25, 'month': 4, 'Previsao': 1.0, 'is_optimal': True}, {'dataCadastro': '2022-04-25', 'valorUnitario': 5633.89, 'total': 5633.89, 'valorUnitarioCusto': 4399.94, 'valorFrete': 0.0, 'loja': 'Porto Alegre - Partenon', 'produtoId_x': 10770, 'discount%': 0.3677966101694915, 'item_price': 2188.3, 'day': 25, 'month': 4, 'Previsao': 1.0, 'is_optimal': True}, {'dataCadastro': '2022-04-25', 'valorUnitario': 5633.89, 'total': 5633.89, 'valorUnitarioCusto': 4399.94, 'valorFrete': 0.0, 'loja': 'Porto Alegre - Partenon', 'produtoId_x': 10770, 'discount%': 0.3796610169491525, 'item_price': 2188.3, 'day': 25, 'month': 4, 'Previsao': 1.0, 'is_optimal': True}, {'dataCadastro': '2022-04-25', 'valorUnitario': 5633.89, 'total': 5633.89, 'valorUnitarioCusto': 4399.94, 'valorFrete': 0.0, 'loja': 'Porto Alegre - Partenon', 'produtoId_x': 10770, 'discount%': 0.3915254237288135, 'item_price': 2188.3, 'day': 25, 'month': 4, 'Previsao': 1.0, 'is_optimal': True}, {'dataCadastro': '2022-04-25', 'valorUnitario': 5633.89, 'total': 5633.89, 'valorUnitarioCusto': 4399.94, 'valorFrete': 0.0, 'loja': 'Porto Alegre - Partenon', 'produtoId_x': 10770, 'discount%': 0.40338983050847455, 'item_price': 2188.3, 'day': 25, 'month': 4, 'Previsao': 1.0, 'is_optimal': True}, {'dataCadastro': '2022-04-25', 'valorUnitario': 5633.89, 'total': 5633.89, 'valorUnitarioCusto': 4399.94, 'valorFrete': 0.0, 'loja': 'Porto Alegre - Partenon', 'produtoId_x': 10770, 'discount%': 0.41525423728813554, 'item_price': 2188.3, 'day': 25, 'month': 4, 'Previsao': 1.0, 'is_optimal': True}, {'dataCadastro': '2022-04-25', 'valorUnitario': 5633.89, 'total': 5633.89, 'valorUnitarioCusto': 4399.94, 'valorFrete': 0.0, 'loja': 'Porto Alegre - Partenon', 'produtoId_x': 10770, 'discount%': 0.42711864406779654, 'item_price': 2188.3, 'day': 25, 'month': 4, 'Previsao': 1.0, 'is_optimal': True}, {'dataCadastro': '2022-04-25', 'valorUnitario': 5633.89, 'total': 5633.89, 'valorUnitarioCusto': 4399.94, 'valorFrete': 0.0, 'loja': 'Porto Alegre - Partenon', 'produtoId_x': 10770, 'discount%': 0.4389830508474576, 'item_price': 2188.3, 'day': 25, 'month': 4, 'Previsao': 1.0, 'is_optimal': True}, {'dataCadastro': '2022-04-25', 'valorUnitario': 5633.89, 'total': 5633.89, 'valorUnitarioCusto': 4399.94, 'valorFrete': 0.0, 'loja': 'Porto Alegre - Partenon', 'produtoId_x': 10770, 'discount%': 0.4508474576271186, 'item_price': 2188.3, 'day': 25, 'month': 4, 'Previsao': 1.0, 'is_optimal': True}, {'dataCadastro': '2022-04-25', 'valorUnitario': 5633.89, 'total': 5633.89, 'valorUnitarioCusto': 4399.94, 'valorFrete': 0.0, 'loja': 'Porto Alegre - Partenon', 'produtoId_x': 10770, 'discount%': 0.4627118644067796, 'item_price': 2188.3, 'day': 25, 'month': 4, 'Previsao': 1.0, 'is_optimal': True}, {'dataCadastro': '2022-04-25', 'valorUnitario': 5633.89, 'total': 5633.89, 'valorUnitarioCusto': 4399.94, 'valorFrete': 0.0, 'loja': 'Porto Alegre - Partenon', 'produtoId_x': 10770, 'discount%': 0.47457627118644063, 'item_price': 2188.3, 'day': 25, 'month': 4, 'Previsao': 1.0, 'is_optimal': True}, {'dataCadastro': '2022-04-25', 'valorUnitario': 5633.89, 'total': 5633.89, 'valorUnitarioCusto': 4399.94, 'valorFrete': 0.0, 'loja': 'Porto Alegre - Partenon', 'produtoId_x': 10770, 'discount%': 0.48644067796610163, 'item_price': 2188.3, 'day': 25, 'month': 4, 'Previsao': 1.0, 'is_optimal': True}, {'dataCadastro': '2022-04-25', 'valorUnitario': 5633.89, 'total': 5633.89, 'valorUnitarioCusto': 4399.94, 'valorFrete': 0.0, 'loja': 'Porto Alegre - Partenon', 'produtoId_x': 10770, 'discount%': 0.4983050847457626, 'item_price': 2188.3, 'day': 25, 'month': 4, 'Previsao': 1.0, 'is_optimal': True}, {'dataCadastro': '2022-04-25', 'valorUnitario': 5633.89, 'total': 5633.89, 'valorUnitarioCusto': 4399.94, 'valorFrete': 0.0, 'loja': 'Porto Alegre - Partenon', 'produtoId_x': 10770, 'discount%': 0.5101694915254237, 'item_price': 2188.3, 'day': 25, 'month': 4, 'Previsao': 1.0, 'is_optimal': True}, {'dataCadastro': '2022-04-25', 'valorUnitario': 5633.89, 'total': 5633.89, 'valorUnitarioCusto': 4399.94, 'valorFrete': 0.0, 'loja': 'Porto Alegre - Partenon', 'produtoId_x': 10770, 'discount%': 0.5220338983050847, 'item_price': 2188.3, 'day': 25, 'month': 4, 'Previsao': 1.0, 'is_optimal': True}, {'dataCadastro': '2022-04-25', 'valorUnitario': 5633.89, 'total': 5633.89, 'valorUnitarioCusto': 4399.94, 'valorFrete': 0.0, 'loja': 'Porto Alegre - Partenon', 'produtoId_x': 10770, 'discount%': 0.5338983050847457, 'item_price': 2188.3, 'day': 25, 'month': 4, 'Previsao': 1.0, 'is_optimal': True}, {'dataCadastro': '2022-04-25', 'valorUnitario': 5633.89, 'total': 5633.89, 'valorUnitarioCusto': 4399.94, 'valorFrete': 0.0, 'loja': 'Porto Alegre - Partenon', 'produtoId_x': 10770, 'discount%': 0.5457627118644067, 'item_price': 2188.3, 'day': 25, 'month': 4, 'Previsao': 1.0, 'is_optimal': True}, {'dataCadastro': '2022-04-25', 'valorUnitario': 5633.89, 'total': 5633.89, 'valorUnitarioCusto': 4399.94, 'valorFrete': 0.0, 'loja': 'Porto Alegre - Partenon', 'produtoId_x': 10770, 'discount%': 0.5576271186440678, 'item_price': 2188.3, 'day': 25, 'month': 4, 'Previsao': 1.0, 'is_optimal': True}, {'dataCadastro': '2022-04-25', 'valorUnitario': 5633.89, 'total': 5633.89, 'valorUnitarioCusto': 4399.94, 'valorFrete': 0.0, 'loja': 'Porto Alegre - Partenon', 'produtoId_x': 10770, 'discount%': 0.5694915254237287, 'item_price': 2188.3, 'day': 25, 'month': 4, 'Previsao': 1.0, 'is_optimal': True}, {'dataCadastro': '2022-04-25', 'valorUnitario': 5633.89, 'total': 5633.89, 'valorUnitarioCusto': 4399.94, 'valorFrete': 0.0, 'loja': 'Porto Alegre - Partenon', 'produtoId_x': 10770, 'discount%': 0.5813559322033898, 'item_price': 2188.3, 'day': 25, 'month': 4, 'Previsao': 1.0, 'is_optimal': True}, {'dataCadastro': '2022-04-25', 'valorUnitario': 5633.89, 'total': 5633.89, 'valorUnitarioCusto': 4399.94, 'valorFrete': 0.0, 'loja': 'Porto Alegre - Partenon', 'produtoId_x': 10770, 'discount%': 0.5932203389830508, 'item_price': 2188.3, 'day': 25, 'month': 4, 'Previsao': 1.0, 'is_optimal': True}, {'dataCadastro': '2022-04-25', 'valorUnitario': 5633.89, 'total': 5633.89, 'valorUnitarioCusto': 4399.94, 'valorFrete': 0.0, 'loja': 'Porto Alegre - Partenon', 'produtoId_x': 10770, 'discount%': 0.6050847457627118, 'item_price': 2188.3, 'day': 25, 'month': 4, 'Previsao': 1.0, 'is_optimal': True}, {'dataCadastro': '2022-04-25', 'valorUnitario': 5633.89, 'total': 5633.89, 'valorUnitarioCusto': 4399.94, 'valorFrete': 0.0, 'loja': 'Porto Alegre - Partenon', 'produtoId_x': 10770, 'discount%': 0.6169491525423728, 'item_price': 2188.3, 'day': 25, 'month': 4, 'Previsao': 1.0, 'is_optimal': True}, {'dataCadastro': '2022-04-25', 'valorUnitario': 5633.89, 'total': 5633.89, 'valorUnitarioCusto': 4399.94, 'valorFrete': 0.0, 'loja': 'Porto Alegre - Partenon', 'produtoId_x': 10770, 'discount%': 0.6288135593220339, 'item_price': 2188.3, 'day': 25, 'month': 4, 'Previsao': 1.0, 'is_optimal': True}, {'dataCadastro': '2022-04-25', 'valorUnitario': 5633.89, 'total': 5633.89, 'valorUnitarioCusto': 4399.94, 'valorFrete': 0.0, 'loja': 'Porto Alegre - Partenon', 'produtoId_x': 10770, 'discount%': 0.6406779661016948, 'item_price': 2188.3, 'day': 25, 'month': 4, 'Previsao': 1.0, 'is_optimal': True}, {'dataCadastro': '2022-04-25', 'valorUnitario': 5633.89, 'total': 5633.89, 'valorUnitarioCusto': 4399.94, 'valorFrete': 0.0, 'loja': 'Porto Alegre - Partenon', 'produtoId_x': 10770, 'discount%': 0.6525423728813559, 'item_price': 2188.3, 'day': 25, 'month': 4, 'Previsao': 1.0, 'is_optimal': True}, {'dataCadastro': '2022-04-25', 'valorUnitario': 5633.89, 'total': 5633.89, 'valorUnitarioCusto': 4399.94, 'valorFrete': 0.0, 'loja': 'Porto Alegre - Partenon', 'produtoId_x': 10770, 'discount%': 0.6644067796610169, 'item_price': 2188.3, 'day': 25, 'month': 4, 'Previsao': 1.0, 'is_optimal': True}, {'dataCadastro': '2022-04-25', 'valorUnitario': 5633.89, 'total': 5633.89, 'valorUnitarioCusto': 4399.94, 'valorFrete': 0.0, 'loja': 'Porto Alegre - Partenon', 'produtoId_x': 10770, 'discount%': 0.6762711864406779, 'item_price': 2188.3, 'day': 25, 'month': 4, 'Previsao': 1.0, 'is_optimal': True}, {'dataCadastro': '2022-04-25', 'valorUnitario': 5633.89, 'total': 5633.89, 'valorUnitarioCusto': 4399.94, 'valorFrete': 0.0, 'loja': 'Porto Alegre - Partenon', 'produtoId_x': 10770, 'discount%': 0.6881355932203389, 'item_price': 2188.3, 'day': 25, 'month': 4, 'Previsao': 1.0, 'is_optimal': True}, {'dataCadastro': '2022-04-25', 'valorUnitario': 5633.89, 'total': 5633.89, 'valorUnitarioCusto': 4399.94, 'valorFrete': 0.0, 'loja': 'Porto Alegre - Partenon', 'produtoId_x': 10770, 'discount%': 0.7, 'item_price': 2188.3, 'day': 25, 'month': 4, 'Previsao': 1.0, 'is_optimal': True}, {'dataCadastro': '2022-05-02', 'valorUnitario': 495.54, 'total': 495.54, 'valorUnitarioCusto': 345.62, 'valorFrete': 27.48, 'loja': 'Diadema', 'produtoId_x': 1010, 'discount%': 0.0, 'item_price': 2422.84, 'day': 2, 'month': 5, 'Previsao': 1.0, 'is_optimal': False}, {'dataCadastro': '2022-05-02', 'valorUnitario': 495.54, 'total': 495.54, 'valorUnitarioCusto': 345.62, 'valorFrete': 27.48, 'loja': 'Diadema', 'produtoId_x': 1010, 'discount%': 0.011864406779661016, 'item_price': 2422.84, 'day': 2, 'month': 5, 'Previsao': 1.0, 'is_optimal': False}, {'dataCadastro': '2022-05-02', 'valorUnitario': 495.54, 'total': 495.54, 'valorUnitarioCusto': 345.62, 'valorFrete': 27.48, 'loja': 'Diadema', 'produtoId_x': 1010, 'discount%': 0.02372881355932203, 'item_price': 2422.84, 'day': 2, 'month': 5, 'Previsao': 1.0, 'is_optimal': False}, {'dataCadastro': '2022-05-02', 'valorUnitario': 495.54, 'total': 495.54, 'valorUnitarioCusto': 345.62, 'valorFrete': 27.48, 'loja': 'Diadema', 'produtoId_x': 1010, 'discount%': 0.035593220338983045, 'item_price': 2422.84, 'day': 2, 'month': 5, 'Previsao': 1.0, 'is_optimal': False}, {'dataCadastro': '2022-05-02', 'valorUnitario': 495.54, 'total': 495.54, 'valorUnitarioCusto': 345.62, 'valorFrete': 27.48, 'loja': 'Diadema', 'produtoId_x': 1010, 'discount%': 0.04745762711864406, 'item_price': 2422.84, 'day': 2, 'month': 5, 'Previsao': 1.0, 'is_optimal': False}, {'dataCadastro': '2022-05-02', 'valorUnitario': 495.54, 'total': 495.54, 'valorUnitarioCusto': 345.62, 'valorFrete': 27.48, 'loja': 'Diadema', 'produtoId_x': 1010, 'discount%': 0.05932203389830508, 'item_price': 2422.84, 'day': 2, 'month': 5, 'Previsao': 1.0, 'is_optimal': False}, {'dataCadastro': '2022-05-02', 'valorUnitario': 495.54, 'total': 495.54, 'valorUnitarioCusto': 345.62, 'valorFrete': 27.48, 'loja': 'Diadema', 'produtoId_x': 1010, 'discount%': 0.07118644067796609, 'item_price': 2422.84, 'day': 2, 'month': 5, 'Previsao': 1.0, 'is_optimal': False}, {'dataCadastro': '2022-05-02', 'valorUnitario': 495.54, 'total': 495.54, 'valorUnitarioCusto': 345.62, 'valorFrete': 27.48, 'loja': 'Diadema', 'produtoId_x': 1010, 'discount%': 0.08305084745762711, 'item_price': 2422.84, 'day': 2, 'month': 5, 'Previsao': 1.0, 'is_optimal': False}, {'dataCadastro': '2022-05-02', 'valorUnitario': 495.54, 'total': 495.54, 'valorUnitarioCusto': 345.62, 'valorFrete': 27.48, 'loja': 'Diadema', 'produtoId_x': 1010, 'discount%': 0.09491525423728812, 'item_price': 2422.84, 'day': 2, 'month': 5, 'Previsao': 1.14, 'is_optimal': True}, {'dataCadastro': '2022-05-02', 'valorUnitario': 495.54, 'total': 495.54, 'valorUnitarioCusto': 345.62, 'valorFrete': 27.48, 'loja': 'Diadema', 'produtoId_x': 1010, 'discount%': 0.10677966101694913, 'item_price': 2422.84, 'day': 2, 'month': 5, 'Previsao': 1.13, 'is_optimal': False}, {'dataCadastro': '2022-05-02', 'valorUnitario': 495.54, 'total': 495.54, 'valorUnitarioCusto': 345.62, 'valorFrete': 27.48, 'loja': 'Diadema', 'produtoId_x': 1010, 'discount%': 0.11864406779661016, 'item_price': 2422.84, 'day': 2, 'month': 5, 'Previsao': 1.13, 'is_optimal': False}, {'dataCadastro': '2022-05-02', 'valorUnitario': 495.54, 'total': 495.54, 'valorUnitarioCusto': 345.62, 'valorFrete': 27.48, 'loja': 'Diadema', 'produtoId_x': 1010, 'discount%': 0.13050847457627118, 'item_price': 2422.84, 'day': 2, 'month': 5, 'Previsao': 1.13, 'is_optimal': False}, {'dataCadastro': '2022-05-02', 'valorUnitario': 495.54, 'total': 495.54, 'valorUnitarioCusto': 345.62, 'valorFrete': 27.48, 'loja': 'Diadema', 'produtoId_x': 1010, 'discount%': 0.14237288135593218, 'item_price': 2422.84, 'day': 2, 'month': 5, 'Previsao': 1.13, 'is_optimal': False}, {'dataCadastro': '2022-05-02', 'valorUnitario': 495.54, 'total': 495.54, 'valorUnitarioCusto': 345.62, 'valorFrete': 27.48, 'loja': 'Diadema', 'produtoId_x': 1010, 'discount%': 0.1542372881355932, 'item_price': 2422.84, 'day': 2, 'month': 5, 'Previsao': 1.13, 'is_optimal': False}, {'dataCadastro': '2022-05-02', 'valorUnitario': 495.54, 'total': 495.54, 'valorUnitarioCusto': 345.62, 'valorFrete': 27.48, 'loja': 'Diadema', 'produtoId_x': 1010, 'discount%': 0.16610169491525423, 'item_price': 2422.84, 'day': 2, 'month': 5, 'Previsao': 1.13, 'is_optimal': False}, {'dataCadastro': '2022-05-02', 'valorUnitario': 495.54, 'total': 495.54, 'valorUnitarioCusto': 345.62, 'valorFrete': 27.48, 'loja': 'Diadema', 'produtoId_x': 1010, 'discount%': 0.17796610169491522, 'item_price': 2422.84, 'day': 2, 'month': 5, 'Previsao': 1.13, 'is_optimal': False}, {'dataCadastro': '2022-05-02', 'valorUnitario': 495.54, 'total': 495.54, 'valorUnitarioCusto': 345.62, 'valorFrete': 27.48, 'loja': 'Diadema', 'produtoId_x': 1010, 'discount%': 0.18983050847457625, 'item_price': 2422.84, 'day': 2, 'month': 5, 'Previsao': 1.13, 'is_optimal': False}, {'dataCadastro': '2022-05-02', 'valorUnitario': 495.54, 'total': 495.54, 'valorUnitarioCusto': 345.62, 'valorFrete': 27.48, 'loja': 'Diadema', 'produtoId_x': 1010, 'discount%': 0.20169491525423727, 'item_price': 2422.84, 'day': 2, 'month': 5, 'Previsao': 1.13, 'is_optimal': False}, {'dataCadastro': '2022-05-02', 'valorUnitario': 495.54, 'total': 495.54, 'valorUnitarioCusto': 345.62, 'valorFrete': 27.48, 'loja': 'Diadema', 'produtoId_x': 1010, 'discount%': 0.21355932203389827, 'item_price': 2422.84, 'day': 2, 'month': 5, 'Previsao': 1.13, 'is_optimal': False}, {'dataCadastro': '2022-05-02', 'valorUnitario': 495.54, 'total': 495.54, 'valorUnitarioCusto': 345.62, 'valorFrete': 27.48, 'loja': 'Diadema', 'produtoId_x': 1010, 'discount%': 0.2254237288135593, 'item_price': 2422.84, 'day': 2, 'month': 5, 'Previsao': 1.13, 'is_optimal': False}, {'dataCadastro': '2022-05-02', 'valorUnitario': 495.54, 'total': 495.54, 'valorUnitarioCusto': 345.62, 'valorFrete': 27.48, 'loja': 'Diadema', 'produtoId_x': 1010, 'discount%': 0.23728813559322032, 'item_price': 2422.84, 'day': 2, 'month': 5, 'Previsao': 1.13, 'is_optimal': False}, {'dataCadastro': '2022-05-02', 'valorUnitario': 495.54, 'total': 495.54, 'valorUnitarioCusto': 345.62, 'valorFrete': 27.48, 'loja': 'Diadema', 'produtoId_x': 1010, 'discount%': 0.2491525423728813, 'item_price': 2422.84, 'day': 2, 'month': 5, 'Previsao': 1.13, 'is_optimal': False}, {'dataCadastro': '2022-05-02', 'valorUnitario': 495.54, 'total': 495.54, 'valorUnitarioCusto': 345.62, 'valorFrete': 27.48, 'loja': 'Diadema', 'produtoId_x': 1010, 'discount%': 0.26101694915254237, 'item_price': 2422.84, 'day': 2, 'month': 5, 'Previsao': 1.13, 'is_optimal': False}, {'dataCadastro': '2022-05-02', 'valorUnitario': 495.54, 'total': 495.54, 'valorUnitarioCusto': 345.62, 'valorFrete': 27.48, 'loja': 'Diadema', 'produtoId_x': 1010, 'discount%': 0.27288135593220336, 'item_price': 2422.84, 'day': 2, 'month': 5, 'Previsao': 1.13, 'is_optimal': False}, {'dataCadastro': '2022-05-02', 'valorUnitario': 495.54, 'total': 495.54, 'valorUnitarioCusto': 345.62, 'valorFrete': 27.48, 'loja': 'Diadema', 'produtoId_x': 1010, 'discount%': 0.28474576271186436, 'item_price': 2422.84, 'day': 2, 'month': 5, 'Previsao': 1.13, 'is_optimal': False}, {'dataCadastro': '2022-05-02', 'valorUnitario': 495.54, 'total': 495.54, 'valorUnitarioCusto': 345.62, 'valorFrete': 27.48, 'loja': 'Diadema', 'produtoId_x': 1010, 'discount%': 0.2966101694915254, 'item_price': 2422.84, 'day': 2, 'month': 5, 'Previsao': 1.13, 'is_optimal': False}, {'dataCadastro': '2022-05-02', 'valorUnitario': 495.54, 'total': 495.54, 'valorUnitarioCusto': 345.62, 'valorFrete': 27.48, 'loja': 'Diadema', 'produtoId_x': 1010, 'discount%': 0.3084745762711864, 'item_price': 2422.84, 'day': 2, 'month': 5, 'Previsao': 1.13, 'is_optimal': False}, {'dataCadastro': '2022-05-02', 'valorUnitario': 495.54, 'total': 495.54, 'valorUnitarioCusto': 345.62, 'valorFrete': 27.48, 'loja': 'Diadema', 'produtoId_x': 1010, 'discount%': 0.3203389830508474, 'item_price': 2422.84, 'day': 2, 'month': 5, 'Previsao': 1.13, 'is_optimal': False}, {'dataCadastro': '2022-05-02', 'valorUnitario': 495.54, 'total': 495.54, 'valorUnitarioCusto': 345.62, 'valorFrete': 27.48, 'loja': 'Diadema', 'produtoId_x': 1010, 'discount%': 0.33220338983050846, 'item_price': 2422.84, 'day': 2, 'month': 5, 'Previsao': 1.13, 'is_optimal': False}, {'dataCadastro': '2022-05-02', 'valorUnitario': 495.54, 'total': 495.54, 'valorUnitarioCusto': 345.62, 'valorFrete': 27.48, 'loja': 'Diadema', 'produtoId_x': 1010, 'discount%': 0.34406779661016945, 'item_price': 2422.84, 'day': 2, 'month': 5, 'Previsao': 1.13, 'is_optimal': False}, {'dataCadastro': '2022-05-02', 'valorUnitario': 495.54, 'total': 495.54, 'valorUnitarioCusto': 345.62, 'valorFrete': 27.48, 'loja': 'Diadema', 'produtoId_x': 1010, 'discount%': 0.35593220338983045, 'item_price': 2422.84, 'day': 2, 'month': 5, 'Previsao': 1.13, 'is_optimal': False}, {'dataCadastro': '2022-05-02', 'valorUnitario': 495.54, 'total': 495.54, 'valorUnitarioCusto': 345.62, 'valorFrete': 27.48, 'loja': 'Diadema', 'produtoId_x': 1010, 'discount%': 0.3677966101694915, 'item_price': 2422.84, 'day': 2, 'month': 5, 'Previsao': 1.13, 'is_optimal': False}, {'dataCadastro': '2022-05-02', 'valorUnitario': 495.54, 'total': 495.54, 'valorUnitarioCusto': 345.62, 'valorFrete': 27.48, 'loja': 'Diadema', 'produtoId_x': 1010, 'discount%': 0.3796610169491525, 'item_price': 2422.84, 'day': 2, 'month': 5, 'Previsao': 1.13, 'is_optimal': False}, {'dataCadastro': '2022-05-02', 'valorUnitario': 495.54, 'total': 495.54, 'valorUnitarioCusto': 345.62, 'valorFrete': 27.48, 'loja': 'Diadema', 'produtoId_x': 1010, 'discount%': 0.3915254237288135, 'item_price': 2422.84, 'day': 2, 'month': 5, 'Previsao': 1.13, 'is_optimal': False}, {'dataCadastro': '2022-05-02', 'valorUnitario': 495.54, 'total': 495.54, 'valorUnitarioCusto': 345.62, 'valorFrete': 27.48, 'loja': 'Diadema', 'produtoId_x': 1010, 'discount%': 0.40338983050847455, 'item_price': 2422.84, 'day': 2, 'month': 5, 'Previsao': 1.13, 'is_optimal': False}, {'dataCadastro': '2022-05-02', 'valorUnitario': 495.54, 'total': 495.54, 'valorUnitarioCusto': 345.62, 'valorFrete': 27.48, 'loja': 'Diadema', 'produtoId_x': 1010, 'discount%': 0.41525423728813554, 'item_price': 2422.84, 'day': 2, 'month': 5, 'Previsao': 1.13, 'is_optimal': False}, {'dataCadastro': '2022-05-02', 'valorUnitario': 495.54, 'total': 495.54, 'valorUnitarioCusto': 345.62, 'valorFrete': 27.48, 'loja': 'Diadema', 'produtoId_x': 1010, 'discount%': 0.42711864406779654, 'item_price': 2422.84, 'day': 2, 'month': 5, 'Previsao': 1.13, 'is_optimal': False}, {'dataCadastro': '2022-05-02', 'valorUnitario': 495.54, 'total': 495.54, 'valorUnitarioCusto': 345.62, 'valorFrete': 27.48, 'loja': 'Diadema', 'produtoId_x': 1010, 'discount%': 0.4389830508474576, 'item_price': 2422.84, 'day': 2, 'month': 5, 'Previsao': 1.13, 'is_optimal': False}, {'dataCadastro': '2022-05-02', 'valorUnitario': 495.54, 'total': 495.54, 'valorUnitarioCusto': 345.62, 'valorFrete': 27.48, 'loja': 'Diadema', 'produtoId_x': 1010, 'discount%': 0.4508474576271186, 'item_price': 2422.84, 'day': 2, 'month': 5, 'Previsao': 1.13, 'is_optimal': False}, {'dataCadastro': '2022-05-02', 'valorUnitario': 495.54, 'total': 495.54, 'valorUnitarioCusto': 345.62, 'valorFrete': 27.48, 'loja': 'Diadema', 'produtoId_x': 1010, 'discount%': 0.4627118644067796, 'item_price': 2422.84, 'day': 2, 'month': 5, 'Previsao': 1.13, 'is_optimal': False}, {'dataCadastro': '2022-05-02', 'valorUnitario': 495.54, 'total': 495.54, 'valorUnitarioCusto': 345.62, 'valorFrete': 27.48, 'loja': 'Diadema', 'produtoId_x': 1010, 'discount%': 0.47457627118644063, 'item_price': 2422.84, 'day': 2, 'month': 5, 'Previsao': 1.13, 'is_optimal': False}, {'dataCadastro': '2022-05-02', 'valorUnitario': 495.54, 'total': 495.54, 'valorUnitarioCusto': 345.62, 'valorFrete': 27.48, 'loja': 'Diadema', 'produtoId_x': 1010, 'discount%': 0.48644067796610163, 'item_price': 2422.84, 'day': 2, 'month': 5, 'Previsao': 1.13, 'is_optimal': False}, {'dataCadastro': '2022-05-02', 'valorUnitario': 495.54, 'total': 495.54, 'valorUnitarioCusto': 345.62, 'valorFrete': 27.48, 'loja': 'Diadema', 'produtoId_x': 1010, 'discount%': 0.4983050847457626, 'item_price': 2422.84, 'day': 2, 'month': 5, 'Previsao': 1.13, 'is_optimal': False}, {'dataCadastro': '2022-05-02', 'valorUnitario': 495.54, 'total': 495.54, 'valorUnitarioCusto': 345.62, 'valorFrete': 27.48, 'loja': 'Diadema', 'produtoId_x': 1010, 'discount%': 0.5101694915254237, 'item_price': 2422.84, 'day': 2, 'month': 5, 'Previsao': 1.13, 'is_optimal': False}, {'dataCadastro': '2022-05-02', 'valorUnitario': 495.54, 'total': 495.54, 'valorUnitarioCusto': 345.62, 'valorFrete': 27.48, 'loja': 'Diadema', 'produtoId_x': 1010, 'discount%': 0.5220338983050847, 'item_price': 2422.84, 'day': 2, 'month': 5, 'Previsao': 1.13, 'is_optimal': False}, {'dataCadastro': '2022-05-02', 'valorUnitario': 495.54, 'total': 495.54, 'valorUnitarioCusto': 345.62, 'valorFrete': 27.48, 'loja': 'Diadema', 'produtoId_x': 1010, 'discount%': 0.5338983050847457, 'item_price': 2422.84, 'day': 2, 'month': 5, 'Previsao': 1.13, 'is_optimal': False}, {'dataCadastro': '2022-05-02', 'valorUnitario': 495.54, 'total': 495.54, 'valorUnitarioCusto': 345.62, 'valorFrete': 27.48, 'loja': 'Diadema', 'produtoId_x': 1010, 'discount%': 0.5457627118644067, 'item_price': 2422.84, 'day': 2, 'month': 5, 'Previsao': 1.13, 'is_optimal': False}, {'dataCadastro': '2022-05-02', 'valorUnitario': 495.54, 'total': 495.54, 'valorUnitarioCusto': 345.62, 'valorFrete': 27.48, 'loja': 'Diadema', 'produtoId_x': 1010, 'discount%': 0.5576271186440678, 'item_price': 2422.84, 'day': 2, 'month': 5, 'Previsao': 1.13, 'is_optimal': False}, {'dataCadastro': '2022-05-02', 'valorUnitario': 495.54, 'total': 495.54, 'valorUnitarioCusto': 345.62, 'valorFrete': 27.48, 'loja': 'Diadema', 'produtoId_x': 1010, 'discount%': 0.5694915254237287, 'item_price': 2422.84, 'day': 2, 'month': 5, 'Previsao': 1.13, 'is_optimal': False}, {'dataCadastro': '2022-05-02', 'valorUnitario': 495.54, 'total': 495.54, 'valorUnitarioCusto': 345.62, 'valorFrete': 27.48, 'loja': 'Diadema', 'produtoId_x': 1010, 'discount%': 0.5813559322033898, 'item_price': 2422.84, 'day': 2, 'month': 5, 'Previsao': 1.13, 'is_optimal': False}, {'dataCadastro': '2022-05-02', 'valorUnitario': 495.54, 'total': 495.54, 'valorUnitarioCusto': 345.62, 'valorFrete': 27.48, 'loja': 'Diadema', 'produtoId_x': 1010, 'discount%': 0.5932203389830508, 'item_price': 2422.84, 'day': 2, 'month': 5, 'Previsao': 1.13, 'is_optimal': False}, {'dataCadastro': '2022-05-02', 'valorUnitario': 495.54, 'total': 495.54, 'valorUnitarioCusto': 345.62, 'valorFrete': 27.48, 'loja': 'Diadema', 'produtoId_x': 1010, 'discount%': 0.6050847457627118, 'item_price': 2422.84, 'day': 2, 'month': 5, 'Previsao': 1.13, 'is_optimal': False}, {'dataCadastro': '2022-05-02', 'valorUnitario': 495.54, 'total': 495.54, 'valorUnitarioCusto': 345.62, 'valorFrete': 27.48, 'loja': 'Diadema', 'produtoId_x': 1010, 'discount%': 0.6169491525423728, 'item_price': 2422.84, 'day': 2, 'month': 5, 'Previsao': 1.13, 'is_optimal': False}, {'dataCadastro': '2022-05-02', 'valorUnitario': 495.54, 'total': 495.54, 'valorUnitarioCusto': 345.62, 'valorFrete': 27.48, 'loja': 'Diadema', 'produtoId_x': 1010, 'discount%': 0.6288135593220339, 'item_price': 2422.84, 'day': 2, 'month': 5, 'Previsao': 1.13, 'is_optimal': False}, {'dataCadastro': '2022-05-02', 'valorUnitario': 495.54, 'total': 495.54, 'valorUnitarioCusto': 345.62, 'valorFrete': 27.48, 'loja': 'Diadema', 'produtoId_x': 1010, 'discount%': 0.6406779661016948, 'item_price': 2422.84, 'day': 2, 'month': 5, 'Previsao': 1.13, 'is_optimal': False}, {'dataCadastro': '2022-05-02', 'valorUnitario': 495.54, 'total': 495.54, 'valorUnitarioCusto': 345.62, 'valorFrete': 27.48, 'loja': 'Diadema', 'produtoId_x': 1010, 'discount%': 0.6525423728813559, 'item_price': 2422.84, 'day': 2, 'month': 5, 'Previsao': 1.13, 'is_optimal': False}, {'dataCadastro': '2022-05-02', 'valorUnitario': 495.54, 'total': 495.54, 'valorUnitarioCusto': 345.62, 'valorFrete': 27.48, 'loja': 'Diadema', 'produtoId_x': 1010, 'discount%': 0.6644067796610169, 'item_price': 2422.84, 'day': 2, 'month': 5, 'Previsao': 1.13, 'is_optimal': False}, {'dataCadastro': '2022-05-02', 'valorUnitario': 495.54, 'total': 495.54, 'valorUnitarioCusto': 345.62, 'valorFrete': 27.48, 'loja': 'Diadema', 'produtoId_x': 1010, 'discount%': 0.6762711864406779, 'item_price': 2422.84, 'day': 2, 'month': 5, 'Previsao': 1.13, 'is_optimal': False}, {'dataCadastro': '2022-05-02', 'valorUnitario': 495.54, 'total': 495.54, 'valorUnitarioCusto': 345.62, 'valorFrete': 27.48, 'loja': 'Diadema', 'produtoId_x': 1010, 'discount%': 0.6881355932203389, 'item_price': 2422.84, 'day': 2, 'month': 5, 'Previsao': 1.13, 'is_optimal': False}, {'dataCadastro': '2022-05-02', 'valorUnitario': 495.54, 'total': 495.54, 'valorUnitarioCusto': 345.62, 'valorFrete': 27.48, 'loja': 'Diadema', 'produtoId_x': 1010, 'discount%': 0.7, 'item_price': 2422.84, 'day': 2, 'month': 5, 'Previsao': 1.13, 'is_optimal': False}]\n"
     ]
    }
   ],
   "source": [
    "import random\n",
    "def get_predicts(*args, **kwargs):\n",
    "    sku = random.choice(categories)\n",
    "    new_dict = merge_df.to_dict('records')\n",
    "    lsits = [{**arg} for arg in new_dict]\n",
    "    cont = len(lsits)\n",
    "    i = 1\n",
    "    \n",
    "    while i < cont:\n",
    "        predicts = {}\n",
    "        if lsits[i]['produtoId_x'] == sku:\n",
    "\n",
    "            try:\n",
    "                new_predicts = optimize_quantity_out(rf, merge_df, product_grain, lsits[i]['produtoId_x']\n",
    "                                                    , kwargs['day'], kwargs['month'] , grain=60)\n",
    "    \n",
    "\n",
    "                return new_predicts\n",
    "                     \n",
    "\n",
    "            except:\n",
    "                pass\n",
    "        \n",
    "        i+=1\n",
    "\n",
    "\n",
    "lista_dicts = []\n",
    "datas = merge_df[['day','month','dataCadastro','valorUnitario','total','valorUnitarioCusto','valorFrete','quantidade','nomeunidade']].head(10)\n",
    "\n",
    "\n",
    "datas_t = datas.to_dict('records')\n",
    "for d in datas_t:\n",
    "        \n",
    "    new_predicts_dict = get_predicts(day=d['day'],month=d['month'],loja=d['nomeunidade'])\n",
    "    dicts = [{**arg} for arg in new_predicts_dict]\n",
    "    for items in dicts:\n",
    "        new_dicts = {\n",
    "            \"dataCadastro\":d['dataCadastro'],\n",
    "            \"valorUnitario\":d['valorUnitario'],\n",
    "            \"total\":d['total'],\n",
    "            \"valorUnitarioCusto\":d['valorUnitarioCusto'],\n",
    "            \"valorFrete\":d['valorFrete'],\n",
    "            \"loja\":d['nomeunidade']\n",
    "        }\n",
    "\n",
    "        new_dicts.update(items)\n",
    "        \n",
    "        lista_dicts.append(new_dicts)\n",
    "   \n",
    "\n",
    "print(lista_dicts)\n",
    "      \n"
   ]
  },
  {
   "cell_type": "code",
   "execution_count": 346,
   "metadata": {},
   "outputs": [
    {
     "data": {
      "text/html": [
       "<div>\n",
       "<style scoped>\n",
       "    .dataframe tbody tr th:only-of-type {\n",
       "        vertical-align: middle;\n",
       "    }\n",
       "\n",
       "    .dataframe tbody tr th {\n",
       "        vertical-align: top;\n",
       "    }\n",
       "\n",
       "    .dataframe thead th {\n",
       "        text-align: right;\n",
       "    }\n",
       "</style>\n",
       "<table border=\"1\" class=\"dataframe\">\n",
       "  <thead>\n",
       "    <tr style=\"text-align: right;\">\n",
       "      <th></th>\n",
       "      <th>valorUnitario</th>\n",
       "      <th>total</th>\n",
       "      <th>valorUnitarioCusto</th>\n",
       "      <th>valorFrete</th>\n",
       "      <th>loja</th>\n",
       "      <th>produtoId_x</th>\n",
       "      <th>discount%</th>\n",
       "      <th>item_price</th>\n",
       "      <th>day</th>\n",
       "      <th>month</th>\n",
       "      <th>Previsao</th>\n",
       "      <th>is_optimal</th>\n",
       "    </tr>\n",
       "    <tr>\n",
       "      <th>dataCadastro</th>\n",
       "      <th></th>\n",
       "      <th></th>\n",
       "      <th></th>\n",
       "      <th></th>\n",
       "      <th></th>\n",
       "      <th></th>\n",
       "      <th></th>\n",
       "      <th></th>\n",
       "      <th></th>\n",
       "      <th></th>\n",
       "      <th></th>\n",
       "      <th></th>\n",
       "    </tr>\n",
       "  </thead>\n",
       "  <tbody>\n",
       "    <tr>\n",
       "      <th>2022-07-07</th>\n",
       "      <td>3862.58</td>\n",
       "      <td>3862.58</td>\n",
       "      <td>3016.58</td>\n",
       "      <td>0.00</td>\n",
       "      <td>Maceió - Jatiúca</td>\n",
       "      <td>3131</td>\n",
       "      <td>1.19</td>\n",
       "      <td>2200.00</td>\n",
       "      <td>7</td>\n",
       "      <td>7</td>\n",
       "      <td>1.0</td>\n",
       "      <td>False</td>\n",
       "    </tr>\n",
       "    <tr>\n",
       "      <th>2022-03-29</th>\n",
       "      <td>4856.49</td>\n",
       "      <td>4856.49</td>\n",
       "      <td>3792.81</td>\n",
       "      <td>0.00</td>\n",
       "      <td>Fortaleza</td>\n",
       "      <td>2983</td>\n",
       "      <td>1.19</td>\n",
       "      <td>3625.68</td>\n",
       "      <td>29</td>\n",
       "      <td>3</td>\n",
       "      <td>1.0</td>\n",
       "      <td>True</td>\n",
       "    </tr>\n",
       "    <tr>\n",
       "      <th>2022-07-29</th>\n",
       "      <td>878.30</td>\n",
       "      <td>2634.90</td>\n",
       "      <td>379.00</td>\n",
       "      <td>105.00</td>\n",
       "      <td>Irecê</td>\n",
       "      <td>7704</td>\n",
       "      <td>1.19</td>\n",
       "      <td>4470.72</td>\n",
       "      <td>29</td>\n",
       "      <td>7</td>\n",
       "      <td>1.0</td>\n",
       "      <td>False</td>\n",
       "    </tr>\n",
       "    <tr>\n",
       "      <th>2022-10-17</th>\n",
       "      <td>3271.57</td>\n",
       "      <td>3271.57</td>\n",
       "      <td>2468.41</td>\n",
       "      <td>0.00</td>\n",
       "      <td>Nova Lima - Vila da Serra</td>\n",
       "      <td>9503</td>\n",
       "      <td>1.19</td>\n",
       "      <td>2202.90</td>\n",
       "      <td>17</td>\n",
       "      <td>10</td>\n",
       "      <td>1.0</td>\n",
       "      <td>False</td>\n",
       "    </tr>\n",
       "    <tr>\n",
       "      <th>2022-07-26</th>\n",
       "      <td>873.81</td>\n",
       "      <td>873.81</td>\n",
       "      <td>609.46</td>\n",
       "      <td>50.11</td>\n",
       "      <td>Aparecida de Goiânia - Jardim Luz</td>\n",
       "      <td>8200</td>\n",
       "      <td>1.19</td>\n",
       "      <td>1276.89</td>\n",
       "      <td>26</td>\n",
       "      <td>7</td>\n",
       "      <td>1.0</td>\n",
       "      <td>False</td>\n",
       "    </tr>\n",
       "    <tr>\n",
       "      <th>2022-05-25</th>\n",
       "      <td>488.97</td>\n",
       "      <td>488.97</td>\n",
       "      <td>341.04</td>\n",
       "      <td>34.35</td>\n",
       "      <td>Salvador - Barra</td>\n",
       "      <td>1210</td>\n",
       "      <td>1.19</td>\n",
       "      <td>717.76</td>\n",
       "      <td>25</td>\n",
       "      <td>5</td>\n",
       "      <td>1.0</td>\n",
       "      <td>False</td>\n",
       "    </tr>\n",
       "    <tr>\n",
       "      <th>2022-03-09</th>\n",
       "      <td>4856.49</td>\n",
       "      <td>4856.49</td>\n",
       "      <td>3792.81</td>\n",
       "      <td>0.00</td>\n",
       "      <td>Vitória - Praia do Canto</td>\n",
       "      <td>744</td>\n",
       "      <td>1.19</td>\n",
       "      <td>530.04</td>\n",
       "      <td>9</td>\n",
       "      <td>3</td>\n",
       "      <td>1.0</td>\n",
       "      <td>False</td>\n",
       "    </tr>\n",
       "    <tr>\n",
       "      <th>2022-06-24</th>\n",
       "      <td>1378.61</td>\n",
       "      <td>1378.61</td>\n",
       "      <td>1076.66</td>\n",
       "      <td>0.00</td>\n",
       "      <td>Maceió - Jatiúca</td>\n",
       "      <td>10892</td>\n",
       "      <td>1.19</td>\n",
       "      <td>2538.50</td>\n",
       "      <td>24</td>\n",
       "      <td>6</td>\n",
       "      <td>1.0</td>\n",
       "      <td>False</td>\n",
       "    </tr>\n",
       "    <tr>\n",
       "      <th>2022-04-25</th>\n",
       "      <td>5633.89</td>\n",
       "      <td>5633.89</td>\n",
       "      <td>4399.94</td>\n",
       "      <td>0.00</td>\n",
       "      <td>Porto Alegre - Partenon</td>\n",
       "      <td>10770</td>\n",
       "      <td>1.19</td>\n",
       "      <td>2188.30</td>\n",
       "      <td>25</td>\n",
       "      <td>4</td>\n",
       "      <td>1.0</td>\n",
       "      <td>True</td>\n",
       "    </tr>\n",
       "    <tr>\n",
       "      <th>2022-05-02</th>\n",
       "      <td>495.54</td>\n",
       "      <td>495.54</td>\n",
       "      <td>345.62</td>\n",
       "      <td>27.48</td>\n",
       "      <td>Diadema</td>\n",
       "      <td>1010</td>\n",
       "      <td>1.19</td>\n",
       "      <td>2422.84</td>\n",
       "      <td>2</td>\n",
       "      <td>5</td>\n",
       "      <td>1.0</td>\n",
       "      <td>False</td>\n",
       "    </tr>\n",
       "  </tbody>\n",
       "</table>\n",
       "</div>"
      ],
      "text/plain": [
       "              valorUnitario    total  valorUnitarioCusto  valorFrete  \\\n",
       "dataCadastro                                                           \n",
       "2022-07-07          3862.58  3862.58             3016.58        0.00   \n",
       "2022-03-29          4856.49  4856.49             3792.81        0.00   \n",
       "2022-07-29           878.30  2634.90              379.00      105.00   \n",
       "2022-10-17          3271.57  3271.57             2468.41        0.00   \n",
       "2022-07-26           873.81   873.81              609.46       50.11   \n",
       "2022-05-25           488.97   488.97              341.04       34.35   \n",
       "2022-03-09          4856.49  4856.49             3792.81        0.00   \n",
       "2022-06-24          1378.61  1378.61             1076.66        0.00   \n",
       "2022-04-25          5633.89  5633.89             4399.94        0.00   \n",
       "2022-05-02           495.54   495.54              345.62       27.48   \n",
       "\n",
       "                                           loja  produtoId_x  discount%  \\\n",
       "dataCadastro                                                              \n",
       "2022-07-07                     Maceió - Jatiúca         3131       1.19   \n",
       "2022-03-29                            Fortaleza         2983       1.19   \n",
       "2022-07-29                                Irecê         7704       1.19   \n",
       "2022-10-17            Nova Lima - Vila da Serra         9503       1.19   \n",
       "2022-07-26    Aparecida de Goiânia - Jardim Luz         8200       1.19   \n",
       "2022-05-25                     Salvador - Barra         1210       1.19   \n",
       "2022-03-09             Vitória - Praia do Canto          744       1.19   \n",
       "2022-06-24                     Maceió - Jatiúca        10892       1.19   \n",
       "2022-04-25              Porto Alegre - Partenon        10770       1.19   \n",
       "2022-05-02                              Diadema         1010       1.19   \n",
       "\n",
       "              item_price  day  month  Previsao  is_optimal  \n",
       "dataCadastro                                                \n",
       "2022-07-07       2200.00    7      7       1.0       False  \n",
       "2022-03-29       3625.68   29      3       1.0        True  \n",
       "2022-07-29       4470.72   29      7       1.0       False  \n",
       "2022-10-17       2202.90   17     10       1.0       False  \n",
       "2022-07-26       1276.89   26      7       1.0       False  \n",
       "2022-05-25        717.76   25      5       1.0       False  \n",
       "2022-03-09        530.04    9      3       1.0       False  \n",
       "2022-06-24       2538.50   24      6       1.0       False  \n",
       "2022-04-25       2188.30   25      4       1.0        True  \n",
       "2022-05-02       2422.84    2      5       1.0       False  "
      ]
     },
     "execution_count": 346,
     "metadata": {},
     "output_type": "execute_result"
    }
   ],
   "source": [
    "df_predict = pd.DataFrame(lista_dicts)\n",
    "\n",
    "df_predict['discount%'] = (df_predict['discount%']*100).round(2)\n",
    "df_predict['item_price'] = df_predict['item_price'].round(2)\n",
    "df_predict['Previsao'] = df_predict['Previsao'].apply(lambda k: abs(round(k,0)))\n",
    "\n",
    "df_predict = df_predict[(df_predict['discount%'] > 0) & (df_predict['discount%'] <70)]\n",
    "df_predict = df_predict[df_predict['Previsao'] > 0]\n",
    "df_predict = df_predict.drop_duplicates(subset=['produtoId_x','item_price'])\n",
    "df_predict.set_index('dataCadastro')\n"
   ]
  },
  {
   "cell_type": "code",
   "execution_count": 347,
   "metadata": {},
   "outputs": [
    {
     "data": {
      "application/vnd.plotly.v1+json": {
       "config": {
        "plotlyServerURL": "https://plot.ly"
       },
       "data": [
        {
         "hovertemplate": "<b>%{hovertext}</b><br><br>dataCadastro=2022-07-07<br>valorUnitario=%{x}<br>discount%=%{y}<br>Previsao=%{z}<br>produtoId_x=%{text}<extra></extra>",
         "hovertext": [
          3131
         ],
         "legendgroup": "2022-07-07",
         "marker": {
          "color": "#636efa",
          "symbol": "circle"
         },
         "mode": "markers+lines",
         "name": "2022-07-07",
         "scene": "scene",
         "showlegend": true,
         "text": [
          3131
         ],
         "textposition": "top center",
         "type": "scatter3d",
         "x": [
          3862.58
         ],
         "y": [
          1.19
         ],
         "z": [
          1
         ]
        },
        {
         "hovertemplate": "<b>%{hovertext}</b><br><br>dataCadastro=2022-03-29<br>valorUnitario=%{x}<br>discount%=%{y}<br>Previsao=%{z}<br>produtoId_x=%{text}<extra></extra>",
         "hovertext": [
          2983
         ],
         "legendgroup": "2022-03-29",
         "marker": {
          "color": "#EF553B",
          "symbol": "circle"
         },
         "mode": "markers+lines",
         "name": "2022-03-29",
         "scene": "scene",
         "showlegend": true,
         "text": [
          2983
         ],
         "textposition": "top center",
         "type": "scatter3d",
         "x": [
          4856.49
         ],
         "y": [
          1.19
         ],
         "z": [
          1
         ]
        },
        {
         "hovertemplate": "<b>%{hovertext}</b><br><br>dataCadastro=2022-07-29<br>valorUnitario=%{x}<br>discount%=%{y}<br>Previsao=%{z}<br>produtoId_x=%{text}<extra></extra>",
         "hovertext": [
          7704
         ],
         "legendgroup": "2022-07-29",
         "marker": {
          "color": "#00cc96",
          "symbol": "circle"
         },
         "mode": "markers+lines",
         "name": "2022-07-29",
         "scene": "scene",
         "showlegend": true,
         "text": [
          7704
         ],
         "textposition": "top center",
         "type": "scatter3d",
         "x": [
          878.3
         ],
         "y": [
          1.19
         ],
         "z": [
          1
         ]
        },
        {
         "hovertemplate": "<b>%{hovertext}</b><br><br>dataCadastro=2022-10-17<br>valorUnitario=%{x}<br>discount%=%{y}<br>Previsao=%{z}<br>produtoId_x=%{text}<extra></extra>",
         "hovertext": [
          9503
         ],
         "legendgroup": "2022-10-17",
         "marker": {
          "color": "#ab63fa",
          "symbol": "circle"
         },
         "mode": "markers+lines",
         "name": "2022-10-17",
         "scene": "scene",
         "showlegend": true,
         "text": [
          9503
         ],
         "textposition": "top center",
         "type": "scatter3d",
         "x": [
          3271.57
         ],
         "y": [
          1.19
         ],
         "z": [
          1
         ]
        },
        {
         "hovertemplate": "<b>%{hovertext}</b><br><br>dataCadastro=2022-07-26<br>valorUnitario=%{x}<br>discount%=%{y}<br>Previsao=%{z}<br>produtoId_x=%{text}<extra></extra>",
         "hovertext": [
          8200
         ],
         "legendgroup": "2022-07-26",
         "marker": {
          "color": "#FFA15A",
          "symbol": "circle"
         },
         "mode": "markers+lines",
         "name": "2022-07-26",
         "scene": "scene",
         "showlegend": true,
         "text": [
          8200
         ],
         "textposition": "top center",
         "type": "scatter3d",
         "x": [
          873.81
         ],
         "y": [
          1.19
         ],
         "z": [
          1
         ]
        },
        {
         "hovertemplate": "<b>%{hovertext}</b><br><br>dataCadastro=2022-05-25<br>valorUnitario=%{x}<br>discount%=%{y}<br>Previsao=%{z}<br>produtoId_x=%{text}<extra></extra>",
         "hovertext": [
          1210
         ],
         "legendgroup": "2022-05-25",
         "marker": {
          "color": "#19d3f3",
          "symbol": "circle"
         },
         "mode": "markers+lines",
         "name": "2022-05-25",
         "scene": "scene",
         "showlegend": true,
         "text": [
          1210
         ],
         "textposition": "top center",
         "type": "scatter3d",
         "x": [
          488.97
         ],
         "y": [
          1.19
         ],
         "z": [
          1
         ]
        },
        {
         "hovertemplate": "<b>%{hovertext}</b><br><br>dataCadastro=2022-03-09<br>valorUnitario=%{x}<br>discount%=%{y}<br>Previsao=%{z}<br>produtoId_x=%{text}<extra></extra>",
         "hovertext": [
          744
         ],
         "legendgroup": "2022-03-09",
         "marker": {
          "color": "#FF6692",
          "symbol": "circle"
         },
         "mode": "markers+lines",
         "name": "2022-03-09",
         "scene": "scene",
         "showlegend": true,
         "text": [
          744
         ],
         "textposition": "top center",
         "type": "scatter3d",
         "x": [
          4856.49
         ],
         "y": [
          1.19
         ],
         "z": [
          1
         ]
        },
        {
         "hovertemplate": "<b>%{hovertext}</b><br><br>dataCadastro=2022-06-24<br>valorUnitario=%{x}<br>discount%=%{y}<br>Previsao=%{z}<br>produtoId_x=%{text}<extra></extra>",
         "hovertext": [
          10892
         ],
         "legendgroup": "2022-06-24",
         "marker": {
          "color": "#B6E880",
          "symbol": "circle"
         },
         "mode": "markers+lines",
         "name": "2022-06-24",
         "scene": "scene",
         "showlegend": true,
         "text": [
          10892
         ],
         "textposition": "top center",
         "type": "scatter3d",
         "x": [
          1378.61
         ],
         "y": [
          1.19
         ],
         "z": [
          1
         ]
        },
        {
         "hovertemplate": "<b>%{hovertext}</b><br><br>dataCadastro=2022-04-25<br>valorUnitario=%{x}<br>discount%=%{y}<br>Previsao=%{z}<br>produtoId_x=%{text}<extra></extra>",
         "hovertext": [
          10770
         ],
         "legendgroup": "2022-04-25",
         "marker": {
          "color": "#FF97FF",
          "symbol": "circle"
         },
         "mode": "markers+lines",
         "name": "2022-04-25",
         "scene": "scene",
         "showlegend": true,
         "text": [
          10770
         ],
         "textposition": "top center",
         "type": "scatter3d",
         "x": [
          5633.89
         ],
         "y": [
          1.19
         ],
         "z": [
          1
         ]
        },
        {
         "hovertemplate": "<b>%{hovertext}</b><br><br>dataCadastro=2022-05-02<br>valorUnitario=%{x}<br>discount%=%{y}<br>Previsao=%{z}<br>produtoId_x=%{text}<extra></extra>",
         "hovertext": [
          1010
         ],
         "legendgroup": "2022-05-02",
         "marker": {
          "color": "#FECB52",
          "symbol": "circle"
         },
         "mode": "markers+lines",
         "name": "2022-05-02",
         "scene": "scene",
         "showlegend": true,
         "text": [
          1010
         ],
         "textposition": "top center",
         "type": "scatter3d",
         "x": [
          495.54
         ],
         "y": [
          1.19
         ],
         "z": [
          1
         ]
        }
       ],
       "layout": {
        "height": 900,
        "hoverlabel": {
         "bgcolor": "white",
         "font": {
          "family": "Rockwell",
          "size": 16
         }
        },
        "legend": {
         "title": {
          "text": "dataCadastro"
         },
         "tracegroupgap": 0
        },
        "margin": {
         "t": 60
        },
        "scene": {
         "domain": {
          "x": [
           0,
           1
          ],
          "y": [
           0,
           1
          ]
         },
         "xaxis": {
          "title": {
           "text": "valorUnitario"
          },
          "type": "log"
         },
         "yaxis": {
          "title": {
           "text": "discount%"
          }
         },
         "zaxis": {
          "title": {
           "text": "Previsao"
          }
         }
        },
        "template": {
         "data": {
          "bar": [
           {
            "error_x": {
             "color": "#2a3f5f"
            },
            "error_y": {
             "color": "#2a3f5f"
            },
            "marker": {
             "line": {
              "color": "#E5ECF6",
              "width": 0.5
             },
             "pattern": {
              "fillmode": "overlay",
              "size": 10,
              "solidity": 0.2
             }
            },
            "type": "bar"
           }
          ],
          "barpolar": [
           {
            "marker": {
             "line": {
              "color": "#E5ECF6",
              "width": 0.5
             },
             "pattern": {
              "fillmode": "overlay",
              "size": 10,
              "solidity": 0.2
             }
            },
            "type": "barpolar"
           }
          ],
          "carpet": [
           {
            "aaxis": {
             "endlinecolor": "#2a3f5f",
             "gridcolor": "white",
             "linecolor": "white",
             "minorgridcolor": "white",
             "startlinecolor": "#2a3f5f"
            },
            "baxis": {
             "endlinecolor": "#2a3f5f",
             "gridcolor": "white",
             "linecolor": "white",
             "minorgridcolor": "white",
             "startlinecolor": "#2a3f5f"
            },
            "type": "carpet"
           }
          ],
          "choropleth": [
           {
            "colorbar": {
             "outlinewidth": 0,
             "ticks": ""
            },
            "type": "choropleth"
           }
          ],
          "contour": [
           {
            "colorbar": {
             "outlinewidth": 0,
             "ticks": ""
            },
            "colorscale": [
             [
              0,
              "#0d0887"
             ],
             [
              0.1111111111111111,
              "#46039f"
             ],
             [
              0.2222222222222222,
              "#7201a8"
             ],
             [
              0.3333333333333333,
              "#9c179e"
             ],
             [
              0.4444444444444444,
              "#bd3786"
             ],
             [
              0.5555555555555556,
              "#d8576b"
             ],
             [
              0.6666666666666666,
              "#ed7953"
             ],
             [
              0.7777777777777778,
              "#fb9f3a"
             ],
             [
              0.8888888888888888,
              "#fdca26"
             ],
             [
              1,
              "#f0f921"
             ]
            ],
            "type": "contour"
           }
          ],
          "contourcarpet": [
           {
            "colorbar": {
             "outlinewidth": 0,
             "ticks": ""
            },
            "type": "contourcarpet"
           }
          ],
          "heatmap": [
           {
            "colorbar": {
             "outlinewidth": 0,
             "ticks": ""
            },
            "colorscale": [
             [
              0,
              "#0d0887"
             ],
             [
              0.1111111111111111,
              "#46039f"
             ],
             [
              0.2222222222222222,
              "#7201a8"
             ],
             [
              0.3333333333333333,
              "#9c179e"
             ],
             [
              0.4444444444444444,
              "#bd3786"
             ],
             [
              0.5555555555555556,
              "#d8576b"
             ],
             [
              0.6666666666666666,
              "#ed7953"
             ],
             [
              0.7777777777777778,
              "#fb9f3a"
             ],
             [
              0.8888888888888888,
              "#fdca26"
             ],
             [
              1,
              "#f0f921"
             ]
            ],
            "type": "heatmap"
           }
          ],
          "heatmapgl": [
           {
            "colorbar": {
             "outlinewidth": 0,
             "ticks": ""
            },
            "colorscale": [
             [
              0,
              "#0d0887"
             ],
             [
              0.1111111111111111,
              "#46039f"
             ],
             [
              0.2222222222222222,
              "#7201a8"
             ],
             [
              0.3333333333333333,
              "#9c179e"
             ],
             [
              0.4444444444444444,
              "#bd3786"
             ],
             [
              0.5555555555555556,
              "#d8576b"
             ],
             [
              0.6666666666666666,
              "#ed7953"
             ],
             [
              0.7777777777777778,
              "#fb9f3a"
             ],
             [
              0.8888888888888888,
              "#fdca26"
             ],
             [
              1,
              "#f0f921"
             ]
            ],
            "type": "heatmapgl"
           }
          ],
          "histogram": [
           {
            "marker": {
             "pattern": {
              "fillmode": "overlay",
              "size": 10,
              "solidity": 0.2
             }
            },
            "type": "histogram"
           }
          ],
          "histogram2d": [
           {
            "colorbar": {
             "outlinewidth": 0,
             "ticks": ""
            },
            "colorscale": [
             [
              0,
              "#0d0887"
             ],
             [
              0.1111111111111111,
              "#46039f"
             ],
             [
              0.2222222222222222,
              "#7201a8"
             ],
             [
              0.3333333333333333,
              "#9c179e"
             ],
             [
              0.4444444444444444,
              "#bd3786"
             ],
             [
              0.5555555555555556,
              "#d8576b"
             ],
             [
              0.6666666666666666,
              "#ed7953"
             ],
             [
              0.7777777777777778,
              "#fb9f3a"
             ],
             [
              0.8888888888888888,
              "#fdca26"
             ],
             [
              1,
              "#f0f921"
             ]
            ],
            "type": "histogram2d"
           }
          ],
          "histogram2dcontour": [
           {
            "colorbar": {
             "outlinewidth": 0,
             "ticks": ""
            },
            "colorscale": [
             [
              0,
              "#0d0887"
             ],
             [
              0.1111111111111111,
              "#46039f"
             ],
             [
              0.2222222222222222,
              "#7201a8"
             ],
             [
              0.3333333333333333,
              "#9c179e"
             ],
             [
              0.4444444444444444,
              "#bd3786"
             ],
             [
              0.5555555555555556,
              "#d8576b"
             ],
             [
              0.6666666666666666,
              "#ed7953"
             ],
             [
              0.7777777777777778,
              "#fb9f3a"
             ],
             [
              0.8888888888888888,
              "#fdca26"
             ],
             [
              1,
              "#f0f921"
             ]
            ],
            "type": "histogram2dcontour"
           }
          ],
          "mesh3d": [
           {
            "colorbar": {
             "outlinewidth": 0,
             "ticks": ""
            },
            "type": "mesh3d"
           }
          ],
          "parcoords": [
           {
            "line": {
             "colorbar": {
              "outlinewidth": 0,
              "ticks": ""
             }
            },
            "type": "parcoords"
           }
          ],
          "pie": [
           {
            "automargin": true,
            "type": "pie"
           }
          ],
          "scatter": [
           {
            "fillpattern": {
             "fillmode": "overlay",
             "size": 10,
             "solidity": 0.2
            },
            "type": "scatter"
           }
          ],
          "scatter3d": [
           {
            "line": {
             "colorbar": {
              "outlinewidth": 0,
              "ticks": ""
             }
            },
            "marker": {
             "colorbar": {
              "outlinewidth": 0,
              "ticks": ""
             }
            },
            "type": "scatter3d"
           }
          ],
          "scattercarpet": [
           {
            "marker": {
             "colorbar": {
              "outlinewidth": 0,
              "ticks": ""
             }
            },
            "type": "scattercarpet"
           }
          ],
          "scattergeo": [
           {
            "marker": {
             "colorbar": {
              "outlinewidth": 0,
              "ticks": ""
             }
            },
            "type": "scattergeo"
           }
          ],
          "scattergl": [
           {
            "marker": {
             "colorbar": {
              "outlinewidth": 0,
              "ticks": ""
             }
            },
            "type": "scattergl"
           }
          ],
          "scattermapbox": [
           {
            "marker": {
             "colorbar": {
              "outlinewidth": 0,
              "ticks": ""
             }
            },
            "type": "scattermapbox"
           }
          ],
          "scatterpolar": [
           {
            "marker": {
             "colorbar": {
              "outlinewidth": 0,
              "ticks": ""
             }
            },
            "type": "scatterpolar"
           }
          ],
          "scatterpolargl": [
           {
            "marker": {
             "colorbar": {
              "outlinewidth": 0,
              "ticks": ""
             }
            },
            "type": "scatterpolargl"
           }
          ],
          "scatterternary": [
           {
            "marker": {
             "colorbar": {
              "outlinewidth": 0,
              "ticks": ""
             }
            },
            "type": "scatterternary"
           }
          ],
          "surface": [
           {
            "colorbar": {
             "outlinewidth": 0,
             "ticks": ""
            },
            "colorscale": [
             [
              0,
              "#0d0887"
             ],
             [
              0.1111111111111111,
              "#46039f"
             ],
             [
              0.2222222222222222,
              "#7201a8"
             ],
             [
              0.3333333333333333,
              "#9c179e"
             ],
             [
              0.4444444444444444,
              "#bd3786"
             ],
             [
              0.5555555555555556,
              "#d8576b"
             ],
             [
              0.6666666666666666,
              "#ed7953"
             ],
             [
              0.7777777777777778,
              "#fb9f3a"
             ],
             [
              0.8888888888888888,
              "#fdca26"
             ],
             [
              1,
              "#f0f921"
             ]
            ],
            "type": "surface"
           }
          ],
          "table": [
           {
            "cells": {
             "fill": {
              "color": "#EBF0F8"
             },
             "line": {
              "color": "white"
             }
            },
            "header": {
             "fill": {
              "color": "#C8D4E3"
             },
             "line": {
              "color": "white"
             }
            },
            "type": "table"
           }
          ]
         },
         "layout": {
          "annotationdefaults": {
           "arrowcolor": "#2a3f5f",
           "arrowhead": 0,
           "arrowwidth": 1
          },
          "autotypenumbers": "strict",
          "coloraxis": {
           "colorbar": {
            "outlinewidth": 0,
            "ticks": ""
           }
          },
          "colorscale": {
           "diverging": [
            [
             0,
             "#8e0152"
            ],
            [
             0.1,
             "#c51b7d"
            ],
            [
             0.2,
             "#de77ae"
            ],
            [
             0.3,
             "#f1b6da"
            ],
            [
             0.4,
             "#fde0ef"
            ],
            [
             0.5,
             "#f7f7f7"
            ],
            [
             0.6,
             "#e6f5d0"
            ],
            [
             0.7,
             "#b8e186"
            ],
            [
             0.8,
             "#7fbc41"
            ],
            [
             0.9,
             "#4d9221"
            ],
            [
             1,
             "#276419"
            ]
           ],
           "sequential": [
            [
             0,
             "#0d0887"
            ],
            [
             0.1111111111111111,
             "#46039f"
            ],
            [
             0.2222222222222222,
             "#7201a8"
            ],
            [
             0.3333333333333333,
             "#9c179e"
            ],
            [
             0.4444444444444444,
             "#bd3786"
            ],
            [
             0.5555555555555556,
             "#d8576b"
            ],
            [
             0.6666666666666666,
             "#ed7953"
            ],
            [
             0.7777777777777778,
             "#fb9f3a"
            ],
            [
             0.8888888888888888,
             "#fdca26"
            ],
            [
             1,
             "#f0f921"
            ]
           ],
           "sequentialminus": [
            [
             0,
             "#0d0887"
            ],
            [
             0.1111111111111111,
             "#46039f"
            ],
            [
             0.2222222222222222,
             "#7201a8"
            ],
            [
             0.3333333333333333,
             "#9c179e"
            ],
            [
             0.4444444444444444,
             "#bd3786"
            ],
            [
             0.5555555555555556,
             "#d8576b"
            ],
            [
             0.6666666666666666,
             "#ed7953"
            ],
            [
             0.7777777777777778,
             "#fb9f3a"
            ],
            [
             0.8888888888888888,
             "#fdca26"
            ],
            [
             1,
             "#f0f921"
            ]
           ]
          },
          "colorway": [
           "#636efa",
           "#EF553B",
           "#00cc96",
           "#ab63fa",
           "#FFA15A",
           "#19d3f3",
           "#FF6692",
           "#B6E880",
           "#FF97FF",
           "#FECB52"
          ],
          "font": {
           "color": "#2a3f5f"
          },
          "geo": {
           "bgcolor": "white",
           "lakecolor": "white",
           "landcolor": "#E5ECF6",
           "showlakes": true,
           "showland": true,
           "subunitcolor": "white"
          },
          "hoverlabel": {
           "align": "left"
          },
          "hovermode": "closest",
          "mapbox": {
           "style": "light"
          },
          "paper_bgcolor": "white",
          "plot_bgcolor": "#E5ECF6",
          "polar": {
           "angularaxis": {
            "gridcolor": "white",
            "linecolor": "white",
            "ticks": ""
           },
           "bgcolor": "#E5ECF6",
           "radialaxis": {
            "gridcolor": "white",
            "linecolor": "white",
            "ticks": ""
           }
          },
          "scene": {
           "xaxis": {
            "backgroundcolor": "#E5ECF6",
            "gridcolor": "white",
            "gridwidth": 2,
            "linecolor": "white",
            "showbackground": true,
            "ticks": "",
            "zerolinecolor": "white"
           },
           "yaxis": {
            "backgroundcolor": "#E5ECF6",
            "gridcolor": "white",
            "gridwidth": 2,
            "linecolor": "white",
            "showbackground": true,
            "ticks": "",
            "zerolinecolor": "white"
           },
           "zaxis": {
            "backgroundcolor": "#E5ECF6",
            "gridcolor": "white",
            "gridwidth": 2,
            "linecolor": "white",
            "showbackground": true,
            "ticks": "",
            "zerolinecolor": "white"
           }
          },
          "shapedefaults": {
           "line": {
            "color": "#2a3f5f"
           }
          },
          "ternary": {
           "aaxis": {
            "gridcolor": "white",
            "linecolor": "white",
            "ticks": ""
           },
           "baxis": {
            "gridcolor": "white",
            "linecolor": "white",
            "ticks": ""
           },
           "bgcolor": "#E5ECF6",
           "caxis": {
            "gridcolor": "white",
            "linecolor": "white",
            "ticks": ""
           }
          },
          "title": {
           "x": 0.05
          },
          "xaxis": {
           "automargin": true,
           "gridcolor": "white",
           "linecolor": "white",
           "ticks": "",
           "title": {
            "standoff": 15
           },
           "zerolinecolor": "white",
           "zerolinewidth": 2
          },
          "yaxis": {
           "automargin": true,
           "gridcolor": "white",
           "linecolor": "white",
           "ticks": "",
           "title": {
            "standoff": 15
           },
           "zerolinecolor": "white",
           "zerolinewidth": 2
          }
         }
        },
        "width": 900
       }
      }
     },
     "metadata": {},
     "output_type": "display_data"
    }
   ],
   "source": [
    "fig = px.scatter_3d(df_predict, x='valorUnitario', y='discount%'\n",
    "                    , z='Previsao',text=\"produtoId_x\",\n",
    "                      color='dataCadastro',hover_name=\"produtoId_x\",log_x=True\n",
    "                    , width=900, height=900)\n",
    "\n",
    "fig.update_traces(textposition='top center')\n",
    "\n",
    "fig.update_traces(mode=\"markers+lines\")\n",
    "\n",
    "fig.update_layout(\n",
    "    hoverlabel=dict(\n",
    "        bgcolor=\"white\",\n",
    "        font_size=16,\n",
    "        font_family=\"Rockwell\"\n",
    "      \n",
    "    )\n",
    ")\n",
    "\n",
    "\n",
    "fig.show()"
   ]
  },
  {
   "cell_type": "code",
   "execution_count": 348,
   "metadata": {},
   "outputs": [
    {
     "data": {
      "application/vnd.plotly.v1+json": {
       "config": {
        "plotlyServerURL": "https://plot.ly"
       },
       "data": [
        {
         "hovertemplate": "<b>%{hovertext}</b><br><br>loja=Maceió - Jatiúca<br>month=%{x}<br>valorUnitario=%{y}<br>discount%=%{text}<extra></extra>",
         "hovertext": [
          3131,
          10892
         ],
         "legendgroup": "Maceió - Jatiúca",
         "line": {
          "color": "#636efa",
          "dash": "solid"
         },
         "marker": {
          "symbol": "circle"
         },
         "mode": "markers+lines",
         "name": "Maceió - Jatiúca",
         "orientation": "v",
         "showlegend": true,
         "text": [
          1.19,
          1.19
         ],
         "type": "scatter",
         "x": [
          7,
          6
         ],
         "xaxis": "x",
         "y": [
          3862.58,
          1378.61
         ],
         "yaxis": "y"
        },
        {
         "hovertemplate": "<b>%{hovertext}</b><br><br>loja=Fortaleza<br>month=%{x}<br>valorUnitario=%{y}<br>discount%=%{text}<extra></extra>",
         "hovertext": [
          2983
         ],
         "legendgroup": "Fortaleza",
         "line": {
          "color": "#EF553B",
          "dash": "solid"
         },
         "marker": {
          "symbol": "circle"
         },
         "mode": "markers+lines",
         "name": "Fortaleza",
         "orientation": "v",
         "showlegend": true,
         "text": [
          1.19
         ],
         "type": "scatter",
         "x": [
          3
         ],
         "xaxis": "x",
         "y": [
          4856.49
         ],
         "yaxis": "y"
        },
        {
         "hovertemplate": "<b>%{hovertext}</b><br><br>loja=Irecê<br>month=%{x}<br>valorUnitario=%{y}<br>discount%=%{text}<extra></extra>",
         "hovertext": [
          7704
         ],
         "legendgroup": "Irecê",
         "line": {
          "color": "#00cc96",
          "dash": "solid"
         },
         "marker": {
          "symbol": "circle"
         },
         "mode": "markers+lines",
         "name": "Irecê",
         "orientation": "v",
         "showlegend": true,
         "text": [
          1.19
         ],
         "type": "scatter",
         "x": [
          7
         ],
         "xaxis": "x",
         "y": [
          878.3
         ],
         "yaxis": "y"
        },
        {
         "hovertemplate": "<b>%{hovertext}</b><br><br>loja=Nova Lima - Vila da Serra<br>month=%{x}<br>valorUnitario=%{y}<br>discount%=%{text}<extra></extra>",
         "hovertext": [
          9503
         ],
         "legendgroup": "Nova Lima - Vila da Serra",
         "line": {
          "color": "#ab63fa",
          "dash": "solid"
         },
         "marker": {
          "symbol": "circle"
         },
         "mode": "markers+lines",
         "name": "Nova Lima - Vila da Serra",
         "orientation": "v",
         "showlegend": true,
         "text": [
          1.19
         ],
         "type": "scatter",
         "x": [
          10
         ],
         "xaxis": "x",
         "y": [
          3271.57
         ],
         "yaxis": "y"
        },
        {
         "hovertemplate": "<b>%{hovertext}</b><br><br>loja=Aparecida de Goiânia - Jardim Luz<br>month=%{x}<br>valorUnitario=%{y}<br>discount%=%{text}<extra></extra>",
         "hovertext": [
          8200
         ],
         "legendgroup": "Aparecida de Goiânia - Jardim Luz",
         "line": {
          "color": "#FFA15A",
          "dash": "solid"
         },
         "marker": {
          "symbol": "circle"
         },
         "mode": "markers+lines",
         "name": "Aparecida de Goiânia - Jardim Luz",
         "orientation": "v",
         "showlegend": true,
         "text": [
          1.19
         ],
         "type": "scatter",
         "x": [
          7
         ],
         "xaxis": "x",
         "y": [
          873.81
         ],
         "yaxis": "y"
        },
        {
         "hovertemplate": "<b>%{hovertext}</b><br><br>loja=Salvador - Barra<br>month=%{x}<br>valorUnitario=%{y}<br>discount%=%{text}<extra></extra>",
         "hovertext": [
          1210
         ],
         "legendgroup": "Salvador - Barra",
         "line": {
          "color": "#19d3f3",
          "dash": "solid"
         },
         "marker": {
          "symbol": "circle"
         },
         "mode": "markers+lines",
         "name": "Salvador - Barra",
         "orientation": "v",
         "showlegend": true,
         "text": [
          1.19
         ],
         "type": "scatter",
         "x": [
          5
         ],
         "xaxis": "x",
         "y": [
          488.97
         ],
         "yaxis": "y"
        },
        {
         "hovertemplate": "<b>%{hovertext}</b><br><br>loja=Vitória - Praia do Canto<br>month=%{x}<br>valorUnitario=%{y}<br>discount%=%{text}<extra></extra>",
         "hovertext": [
          744
         ],
         "legendgroup": "Vitória - Praia do Canto",
         "line": {
          "color": "#FF6692",
          "dash": "solid"
         },
         "marker": {
          "symbol": "circle"
         },
         "mode": "markers+lines",
         "name": "Vitória - Praia do Canto",
         "orientation": "v",
         "showlegend": true,
         "text": [
          1.19
         ],
         "type": "scatter",
         "x": [
          3
         ],
         "xaxis": "x",
         "y": [
          4856.49
         ],
         "yaxis": "y"
        },
        {
         "hovertemplate": "<b>%{hovertext}</b><br><br>loja=Porto Alegre - Partenon<br>month=%{x}<br>valorUnitario=%{y}<br>discount%=%{text}<extra></extra>",
         "hovertext": [
          10770
         ],
         "legendgroup": "Porto Alegre - Partenon",
         "line": {
          "color": "#B6E880",
          "dash": "solid"
         },
         "marker": {
          "symbol": "circle"
         },
         "mode": "markers+lines",
         "name": "Porto Alegre - Partenon",
         "orientation": "v",
         "showlegend": true,
         "text": [
          1.19
         ],
         "type": "scatter",
         "x": [
          4
         ],
         "xaxis": "x",
         "y": [
          5633.89
         ],
         "yaxis": "y"
        },
        {
         "hovertemplate": "<b>%{hovertext}</b><br><br>loja=Diadema<br>month=%{x}<br>valorUnitario=%{y}<br>discount%=%{text}<extra></extra>",
         "hovertext": [
          1010
         ],
         "legendgroup": "Diadema",
         "line": {
          "color": "#FF97FF",
          "dash": "solid"
         },
         "marker": {
          "symbol": "circle"
         },
         "mode": "markers+lines",
         "name": "Diadema",
         "orientation": "v",
         "showlegend": true,
         "text": [
          1.19
         ],
         "type": "scatter",
         "x": [
          5
         ],
         "xaxis": "x",
         "y": [
          495.54
         ],
         "yaxis": "y"
        }
       ],
       "layout": {
        "hoverdistance": 100,
        "legend": {
         "title": {
          "text": "loja"
         },
         "tracegroupgap": 0
        },
        "spikedistance": 1000,
        "template": {
         "data": {
          "bar": [
           {
            "error_x": {
             "color": "#2a3f5f"
            },
            "error_y": {
             "color": "#2a3f5f"
            },
            "marker": {
             "line": {
              "color": "#E5ECF6",
              "width": 0.5
             },
             "pattern": {
              "fillmode": "overlay",
              "size": 10,
              "solidity": 0.2
             }
            },
            "type": "bar"
           }
          ],
          "barpolar": [
           {
            "marker": {
             "line": {
              "color": "#E5ECF6",
              "width": 0.5
             },
             "pattern": {
              "fillmode": "overlay",
              "size": 10,
              "solidity": 0.2
             }
            },
            "type": "barpolar"
           }
          ],
          "carpet": [
           {
            "aaxis": {
             "endlinecolor": "#2a3f5f",
             "gridcolor": "white",
             "linecolor": "white",
             "minorgridcolor": "white",
             "startlinecolor": "#2a3f5f"
            },
            "baxis": {
             "endlinecolor": "#2a3f5f",
             "gridcolor": "white",
             "linecolor": "white",
             "minorgridcolor": "white",
             "startlinecolor": "#2a3f5f"
            },
            "type": "carpet"
           }
          ],
          "choropleth": [
           {
            "colorbar": {
             "outlinewidth": 0,
             "ticks": ""
            },
            "type": "choropleth"
           }
          ],
          "contour": [
           {
            "colorbar": {
             "outlinewidth": 0,
             "ticks": ""
            },
            "colorscale": [
             [
              0,
              "#0d0887"
             ],
             [
              0.1111111111111111,
              "#46039f"
             ],
             [
              0.2222222222222222,
              "#7201a8"
             ],
             [
              0.3333333333333333,
              "#9c179e"
             ],
             [
              0.4444444444444444,
              "#bd3786"
             ],
             [
              0.5555555555555556,
              "#d8576b"
             ],
             [
              0.6666666666666666,
              "#ed7953"
             ],
             [
              0.7777777777777778,
              "#fb9f3a"
             ],
             [
              0.8888888888888888,
              "#fdca26"
             ],
             [
              1,
              "#f0f921"
             ]
            ],
            "type": "contour"
           }
          ],
          "contourcarpet": [
           {
            "colorbar": {
             "outlinewidth": 0,
             "ticks": ""
            },
            "type": "contourcarpet"
           }
          ],
          "heatmap": [
           {
            "colorbar": {
             "outlinewidth": 0,
             "ticks": ""
            },
            "colorscale": [
             [
              0,
              "#0d0887"
             ],
             [
              0.1111111111111111,
              "#46039f"
             ],
             [
              0.2222222222222222,
              "#7201a8"
             ],
             [
              0.3333333333333333,
              "#9c179e"
             ],
             [
              0.4444444444444444,
              "#bd3786"
             ],
             [
              0.5555555555555556,
              "#d8576b"
             ],
             [
              0.6666666666666666,
              "#ed7953"
             ],
             [
              0.7777777777777778,
              "#fb9f3a"
             ],
             [
              0.8888888888888888,
              "#fdca26"
             ],
             [
              1,
              "#f0f921"
             ]
            ],
            "type": "heatmap"
           }
          ],
          "heatmapgl": [
           {
            "colorbar": {
             "outlinewidth": 0,
             "ticks": ""
            },
            "colorscale": [
             [
              0,
              "#0d0887"
             ],
             [
              0.1111111111111111,
              "#46039f"
             ],
             [
              0.2222222222222222,
              "#7201a8"
             ],
             [
              0.3333333333333333,
              "#9c179e"
             ],
             [
              0.4444444444444444,
              "#bd3786"
             ],
             [
              0.5555555555555556,
              "#d8576b"
             ],
             [
              0.6666666666666666,
              "#ed7953"
             ],
             [
              0.7777777777777778,
              "#fb9f3a"
             ],
             [
              0.8888888888888888,
              "#fdca26"
             ],
             [
              1,
              "#f0f921"
             ]
            ],
            "type": "heatmapgl"
           }
          ],
          "histogram": [
           {
            "marker": {
             "pattern": {
              "fillmode": "overlay",
              "size": 10,
              "solidity": 0.2
             }
            },
            "type": "histogram"
           }
          ],
          "histogram2d": [
           {
            "colorbar": {
             "outlinewidth": 0,
             "ticks": ""
            },
            "colorscale": [
             [
              0,
              "#0d0887"
             ],
             [
              0.1111111111111111,
              "#46039f"
             ],
             [
              0.2222222222222222,
              "#7201a8"
             ],
             [
              0.3333333333333333,
              "#9c179e"
             ],
             [
              0.4444444444444444,
              "#bd3786"
             ],
             [
              0.5555555555555556,
              "#d8576b"
             ],
             [
              0.6666666666666666,
              "#ed7953"
             ],
             [
              0.7777777777777778,
              "#fb9f3a"
             ],
             [
              0.8888888888888888,
              "#fdca26"
             ],
             [
              1,
              "#f0f921"
             ]
            ],
            "type": "histogram2d"
           }
          ],
          "histogram2dcontour": [
           {
            "colorbar": {
             "outlinewidth": 0,
             "ticks": ""
            },
            "colorscale": [
             [
              0,
              "#0d0887"
             ],
             [
              0.1111111111111111,
              "#46039f"
             ],
             [
              0.2222222222222222,
              "#7201a8"
             ],
             [
              0.3333333333333333,
              "#9c179e"
             ],
             [
              0.4444444444444444,
              "#bd3786"
             ],
             [
              0.5555555555555556,
              "#d8576b"
             ],
             [
              0.6666666666666666,
              "#ed7953"
             ],
             [
              0.7777777777777778,
              "#fb9f3a"
             ],
             [
              0.8888888888888888,
              "#fdca26"
             ],
             [
              1,
              "#f0f921"
             ]
            ],
            "type": "histogram2dcontour"
           }
          ],
          "mesh3d": [
           {
            "colorbar": {
             "outlinewidth": 0,
             "ticks": ""
            },
            "type": "mesh3d"
           }
          ],
          "parcoords": [
           {
            "line": {
             "colorbar": {
              "outlinewidth": 0,
              "ticks": ""
             }
            },
            "type": "parcoords"
           }
          ],
          "pie": [
           {
            "automargin": true,
            "type": "pie"
           }
          ],
          "scatter": [
           {
            "fillpattern": {
             "fillmode": "overlay",
             "size": 10,
             "solidity": 0.2
            },
            "type": "scatter"
           }
          ],
          "scatter3d": [
           {
            "line": {
             "colorbar": {
              "outlinewidth": 0,
              "ticks": ""
             }
            },
            "marker": {
             "colorbar": {
              "outlinewidth": 0,
              "ticks": ""
             }
            },
            "type": "scatter3d"
           }
          ],
          "scattercarpet": [
           {
            "marker": {
             "colorbar": {
              "outlinewidth": 0,
              "ticks": ""
             }
            },
            "type": "scattercarpet"
           }
          ],
          "scattergeo": [
           {
            "marker": {
             "colorbar": {
              "outlinewidth": 0,
              "ticks": ""
             }
            },
            "type": "scattergeo"
           }
          ],
          "scattergl": [
           {
            "marker": {
             "colorbar": {
              "outlinewidth": 0,
              "ticks": ""
             }
            },
            "type": "scattergl"
           }
          ],
          "scattermapbox": [
           {
            "marker": {
             "colorbar": {
              "outlinewidth": 0,
              "ticks": ""
             }
            },
            "type": "scattermapbox"
           }
          ],
          "scatterpolar": [
           {
            "marker": {
             "colorbar": {
              "outlinewidth": 0,
              "ticks": ""
             }
            },
            "type": "scatterpolar"
           }
          ],
          "scatterpolargl": [
           {
            "marker": {
             "colorbar": {
              "outlinewidth": 0,
              "ticks": ""
             }
            },
            "type": "scatterpolargl"
           }
          ],
          "scatterternary": [
           {
            "marker": {
             "colorbar": {
              "outlinewidth": 0,
              "ticks": ""
             }
            },
            "type": "scatterternary"
           }
          ],
          "surface": [
           {
            "colorbar": {
             "outlinewidth": 0,
             "ticks": ""
            },
            "colorscale": [
             [
              0,
              "#0d0887"
             ],
             [
              0.1111111111111111,
              "#46039f"
             ],
             [
              0.2222222222222222,
              "#7201a8"
             ],
             [
              0.3333333333333333,
              "#9c179e"
             ],
             [
              0.4444444444444444,
              "#bd3786"
             ],
             [
              0.5555555555555556,
              "#d8576b"
             ],
             [
              0.6666666666666666,
              "#ed7953"
             ],
             [
              0.7777777777777778,
              "#fb9f3a"
             ],
             [
              0.8888888888888888,
              "#fdca26"
             ],
             [
              1,
              "#f0f921"
             ]
            ],
            "type": "surface"
           }
          ],
          "table": [
           {
            "cells": {
             "fill": {
              "color": "#EBF0F8"
             },
             "line": {
              "color": "white"
             }
            },
            "header": {
             "fill": {
              "color": "#C8D4E3"
             },
             "line": {
              "color": "white"
             }
            },
            "type": "table"
           }
          ]
         },
         "layout": {
          "annotationdefaults": {
           "arrowcolor": "#2a3f5f",
           "arrowhead": 0,
           "arrowwidth": 1
          },
          "autotypenumbers": "strict",
          "coloraxis": {
           "colorbar": {
            "outlinewidth": 0,
            "ticks": ""
           }
          },
          "colorscale": {
           "diverging": [
            [
             0,
             "#8e0152"
            ],
            [
             0.1,
             "#c51b7d"
            ],
            [
             0.2,
             "#de77ae"
            ],
            [
             0.3,
             "#f1b6da"
            ],
            [
             0.4,
             "#fde0ef"
            ],
            [
             0.5,
             "#f7f7f7"
            ],
            [
             0.6,
             "#e6f5d0"
            ],
            [
             0.7,
             "#b8e186"
            ],
            [
             0.8,
             "#7fbc41"
            ],
            [
             0.9,
             "#4d9221"
            ],
            [
             1,
             "#276419"
            ]
           ],
           "sequential": [
            [
             0,
             "#0d0887"
            ],
            [
             0.1111111111111111,
             "#46039f"
            ],
            [
             0.2222222222222222,
             "#7201a8"
            ],
            [
             0.3333333333333333,
             "#9c179e"
            ],
            [
             0.4444444444444444,
             "#bd3786"
            ],
            [
             0.5555555555555556,
             "#d8576b"
            ],
            [
             0.6666666666666666,
             "#ed7953"
            ],
            [
             0.7777777777777778,
             "#fb9f3a"
            ],
            [
             0.8888888888888888,
             "#fdca26"
            ],
            [
             1,
             "#f0f921"
            ]
           ],
           "sequentialminus": [
            [
             0,
             "#0d0887"
            ],
            [
             0.1111111111111111,
             "#46039f"
            ],
            [
             0.2222222222222222,
             "#7201a8"
            ],
            [
             0.3333333333333333,
             "#9c179e"
            ],
            [
             0.4444444444444444,
             "#bd3786"
            ],
            [
             0.5555555555555556,
             "#d8576b"
            ],
            [
             0.6666666666666666,
             "#ed7953"
            ],
            [
             0.7777777777777778,
             "#fb9f3a"
            ],
            [
             0.8888888888888888,
             "#fdca26"
            ],
            [
             1,
             "#f0f921"
            ]
           ]
          },
          "colorway": [
           "#636efa",
           "#EF553B",
           "#00cc96",
           "#ab63fa",
           "#FFA15A",
           "#19d3f3",
           "#FF6692",
           "#B6E880",
           "#FF97FF",
           "#FECB52"
          ],
          "font": {
           "color": "#2a3f5f"
          },
          "geo": {
           "bgcolor": "white",
           "lakecolor": "white",
           "landcolor": "#E5ECF6",
           "showlakes": true,
           "showland": true,
           "subunitcolor": "white"
          },
          "hoverlabel": {
           "align": "left"
          },
          "hovermode": "closest",
          "mapbox": {
           "style": "light"
          },
          "paper_bgcolor": "white",
          "plot_bgcolor": "#E5ECF6",
          "polar": {
           "angularaxis": {
            "gridcolor": "white",
            "linecolor": "white",
            "ticks": ""
           },
           "bgcolor": "#E5ECF6",
           "radialaxis": {
            "gridcolor": "white",
            "linecolor": "white",
            "ticks": ""
           }
          },
          "scene": {
           "xaxis": {
            "backgroundcolor": "#E5ECF6",
            "gridcolor": "white",
            "gridwidth": 2,
            "linecolor": "white",
            "showbackground": true,
            "ticks": "",
            "zerolinecolor": "white"
           },
           "yaxis": {
            "backgroundcolor": "#E5ECF6",
            "gridcolor": "white",
            "gridwidth": 2,
            "linecolor": "white",
            "showbackground": true,
            "ticks": "",
            "zerolinecolor": "white"
           },
           "zaxis": {
            "backgroundcolor": "#E5ECF6",
            "gridcolor": "white",
            "gridwidth": 2,
            "linecolor": "white",
            "showbackground": true,
            "ticks": "",
            "zerolinecolor": "white"
           }
          },
          "shapedefaults": {
           "line": {
            "color": "#2a3f5f"
           }
          },
          "ternary": {
           "aaxis": {
            "gridcolor": "white",
            "linecolor": "white",
            "ticks": ""
           },
           "baxis": {
            "gridcolor": "white",
            "linecolor": "white",
            "ticks": ""
           },
           "bgcolor": "#E5ECF6",
           "caxis": {
            "gridcolor": "white",
            "linecolor": "white",
            "ticks": ""
           }
          },
          "title": {
           "x": 0.05
          },
          "xaxis": {
           "automargin": true,
           "gridcolor": "white",
           "linecolor": "white",
           "ticks": "",
           "title": {
            "standoff": 15
           },
           "zerolinecolor": "white",
           "zerolinewidth": 2
          },
          "yaxis": {
           "automargin": true,
           "gridcolor": "white",
           "linecolor": "white",
           "ticks": "",
           "title": {
            "standoff": 15
           },
           "zerolinecolor": "white",
           "zerolinewidth": 2
          }
         }
        },
        "title": {
         "text": "DescontoPrevisto"
        },
        "xaxis": {
         "anchor": "y",
         "domain": [
          0,
          1
         ],
         "showspikes": true,
         "spikecolor": "green",
         "spikemode": "across",
         "spikesnap": "cursor",
         "title": {
          "text": "month"
         }
        },
        "yaxis": {
         "anchor": "x",
         "domain": [
          0,
          1
         ],
         "showspikes": true,
         "spikecolor": "orange",
         "spikethickness": 2,
         "title": {
          "text": "valorUnitario"
         }
        }
       }
      }
     },
     "metadata": {},
     "output_type": "display_data"
    }
   ],
   "source": [
    "\n",
    "fig = px.line(df_predict, x=\"month\", y=\"valorUnitario\", color=\"loja\",text=\"discount%\",hover_name=\"produtoId_x\"\n",
    "              , title=\"DescontoPrevisto\")\n",
    "fig.update_traces(mode=\"markers+lines\")\n",
    "\n",
    "fig.update_xaxes(showspikes=True, spikecolor=\"green\", spikesnap=\"cursor\", spikemode=\"across\")\n",
    "fig.update_yaxes(showspikes=True, spikecolor=\"orange\", spikethickness=2)\n",
    "fig.update_layout(spikedistance=1000, hoverdistance=100)\n",
    "\n",
    "fig.show()"
   ]
  }
 ],
 "metadata": {
  "kernelspec": {
   "display_name": "venv",
   "language": "python",
   "name": "python3"
  },
  "language_info": {
   "codemirror_mode": {
    "name": "ipython",
    "version": 3
   },
   "file_extension": ".py",
   "mimetype": "text/x-python",
   "name": "python",
   "nbconvert_exporter": "python",
   "pygments_lexer": "ipython3",
   "version": "3.11.2"
  },
  "orig_nbformat": 4
 },
 "nbformat": 4,
 "nbformat_minor": 2
}
