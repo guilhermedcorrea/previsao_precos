{
 "cells": [
  {
   "cell_type": "code",
   "execution_count": 225,
   "metadata": {},
   "outputs": [],
   "source": [
    "%matplotlib inline\n",
    "\n",
    "import matplotlib.pyplot as plt\n",
    "import statsmodels.api as sm\n",
    "from statsmodels.multivariate.pca import PCA\n",
    "import pandas as pd\n",
    "import warnings\n",
    "warnings.simplefilter(action='ignore')"
   ]
  },
  {
   "cell_type": "code",
   "execution_count": 226,
   "metadata": {},
   "outputs": [],
   "source": [
    "#Tutorial Base\n",
    "#https://www.statsmodels.org/dev/examples/notebooks/generated/regression_plots.html\n",
    "#https://www.statsmodels.org/dev/examples/notebooks/generated/statespace_forecasting.html\n",
    "#https://www.statsmodels.org/dev/examples/notebooks/generated/statespace_arma_0.html\n",
    "#https://medium.com/@gisely.alves/s%C3%A9ries-temporais-parte-1-20fca5a6c7cd"
   ]
  },
  {
   "cell_type": "code",
   "execution_count": 227,
   "metadata": {},
   "outputs": [],
   "source": [
    "plt.rc(\"figure\", figsize=(16, 8))\n",
    "plt.rc(\"font\", size=14)"
   ]
  },
  {
   "cell_type": "code",
   "execution_count": 228,
   "metadata": {},
   "outputs": [],
   "source": [
    "dados = pd.read_csv(r\"C:\\previsao_precos\\Superstore.csv\",sep=\";\")\n",
    "\n",
    "\n",
    "\n"
   ]
  },
  {
   "cell_type": "code",
   "execution_count": 229,
   "metadata": {},
   "outputs": [
    {
     "data": {
      "text/plain": [
       "Index(['Row ID', 'Order ID', 'Order Date', 'Ship Date', 'Ship Mode',\n",
       "       'Customer ID', 'Customer Name', 'Segment', 'Country', 'City', 'State',\n",
       "       'Postal Code', 'Region', 'Product ID', 'Category', 'Sub-Category',\n",
       "       'Product Name', 'Sales', 'Quantity', 'Discount', 'Profit'],\n",
       "      dtype='object')"
      ]
     },
     "execution_count": 229,
     "metadata": {},
     "output_type": "execute_result"
    }
   ],
   "source": [
    "dados.columns"
   ]
  },
  {
   "cell_type": "code",
   "execution_count": 230,
   "metadata": {},
   "outputs": [],
   "source": [
    "dados = dados[['Order ID','Order Date','Country','City'\n",
    "       ,'Category','Sales','Quantity','Discount']]"
   ]
  },
  {
   "cell_type": "code",
   "execution_count": 231,
   "metadata": {},
   "outputs": [],
   "source": [
    "dados['Order Date'] = pd.to_datetime(dados['Order Date'],errors='coerce')"
   ]
  },
  {
   "cell_type": "code",
   "execution_count": 232,
   "metadata": {},
   "outputs": [],
   "source": [
    "dados.dropna(subset=['Order Date'],inplace=True)"
   ]
  },
  {
   "cell_type": "code",
   "execution_count": 233,
   "metadata": {},
   "outputs": [],
   "source": [
    "dados[['Sales','Discount']] = dados[['Sales','Discount']].applymap(lambda k: k.replace(\".\",\"\").replace(\",\",\".\"))"
   ]
  },
  {
   "cell_type": "code",
   "execution_count": 234,
   "metadata": {},
   "outputs": [],
   "source": [
    "dados['Quantity'] = dados['Quantity'].astype(int)"
   ]
  },
  {
   "cell_type": "code",
   "execution_count": 235,
   "metadata": {},
   "outputs": [],
   "source": [
    "dados[['Sales','Discount']] = dados[['Sales','Discount']].astype(float).round(2)"
   ]
  },
  {
   "cell_type": "code",
   "execution_count": 236,
   "metadata": {},
   "outputs": [],
   "source": [
    "dados['unitario']= dados['Sales']/dados['Quantity']"
   ]
  },
  {
   "cell_type": "code",
   "execution_count": 237,
   "metadata": {},
   "outputs": [],
   "source": [
    "dados['unitario'] = dados['unitario'].astype(float).round(2)"
   ]
  },
  {
   "cell_type": "code",
   "execution_count": 238,
   "metadata": {},
   "outputs": [],
   "source": [
    "data = dados[['Sales','Discount','Category','Country','City','Quantity','Order Date','unitario']]"
   ]
  },
  {
   "cell_type": "code",
   "execution_count": 239,
   "metadata": {},
   "outputs": [
    {
     "data": {
      "text/html": [
       "<div>\n",
       "<style scoped>\n",
       "    .dataframe tbody tr th:only-of-type {\n",
       "        vertical-align: middle;\n",
       "    }\n",
       "\n",
       "    .dataframe tbody tr th {\n",
       "        vertical-align: top;\n",
       "    }\n",
       "\n",
       "    .dataframe thead th {\n",
       "        text-align: right;\n",
       "    }\n",
       "</style>\n",
       "<table border=\"1\" class=\"dataframe\">\n",
       "  <thead>\n",
       "    <tr style=\"text-align: right;\">\n",
       "      <th></th>\n",
       "      <th>Sales</th>\n",
       "      <th>Discount</th>\n",
       "      <th>Category</th>\n",
       "      <th>Country</th>\n",
       "      <th>City</th>\n",
       "      <th>Quantity</th>\n",
       "      <th>unitario</th>\n",
       "    </tr>\n",
       "    <tr>\n",
       "      <th>Order Date</th>\n",
       "      <th></th>\n",
       "      <th></th>\n",
       "      <th></th>\n",
       "      <th></th>\n",
       "      <th></th>\n",
       "      <th></th>\n",
       "      <th></th>\n",
       "    </tr>\n",
       "  </thead>\n",
       "  <tbody>\n",
       "    <tr>\n",
       "      <th>2016-08-11</th>\n",
       "      <td>261.96</td>\n",
       "      <td>0.0</td>\n",
       "      <td>Furniture</td>\n",
       "      <td>United States</td>\n",
       "      <td>Henderson</td>\n",
       "      <td>2</td>\n",
       "      <td>130.98</td>\n",
       "    </tr>\n",
       "    <tr>\n",
       "      <th>2016-08-11</th>\n",
       "      <td>731.94</td>\n",
       "      <td>0.0</td>\n",
       "      <td>Furniture</td>\n",
       "      <td>United States</td>\n",
       "      <td>Henderson</td>\n",
       "      <td>3</td>\n",
       "      <td>243.98</td>\n",
       "    </tr>\n",
       "  </tbody>\n",
       "</table>\n",
       "</div>"
      ],
      "text/plain": [
       "             Sales  Discount   Category        Country       City  Quantity   \n",
       "Order Date                                                                    \n",
       "2016-08-11  261.96       0.0  Furniture  United States  Henderson         2  \\\n",
       "2016-08-11  731.94       0.0  Furniture  United States  Henderson         3   \n",
       "\n",
       "            unitario  \n",
       "Order Date            \n",
       "2016-08-11    130.98  \n",
       "2016-08-11    243.98  "
      ]
     },
     "execution_count": 239,
     "metadata": {},
     "output_type": "execute_result"
    }
   ],
   "source": [
    "\n",
    "data.set_index(\"Order Date\", inplace=True)\n",
    "#dta = dados[columns]\n",
    "data.head(2)\n"
   ]
  },
  {
   "cell_type": "code",
   "execution_count": 240,
   "metadata": {},
   "outputs": [
    {
     "data": {
      "text/plain": [
       "Index(['Sales', 'Discount', 'Category', 'Country', 'City', 'Quantity',\n",
       "       'unitario'],\n",
       "      dtype='object')"
      ]
     },
     "execution_count": 240,
     "metadata": {},
     "output_type": "execute_result"
    }
   ],
   "source": [
    "data.columns"
   ]
  },
  {
   "cell_type": "code",
   "execution_count": 241,
   "metadata": {},
   "outputs": [
    {
     "data": {
      "text/html": [
       "<div>\n",
       "<style scoped>\n",
       "    .dataframe tbody tr th:only-of-type {\n",
       "        vertical-align: middle;\n",
       "    }\n",
       "\n",
       "    .dataframe tbody tr th {\n",
       "        vertical-align: top;\n",
       "    }\n",
       "\n",
       "    .dataframe thead th {\n",
       "        text-align: right;\n",
       "    }\n",
       "</style>\n",
       "<table border=\"1\" class=\"dataframe\">\n",
       "  <thead>\n",
       "    <tr style=\"text-align: right;\">\n",
       "      <th></th>\n",
       "      <th>Sales</th>\n",
       "      <th>Discount</th>\n",
       "      <th>Category</th>\n",
       "      <th>Country</th>\n",
       "      <th>City</th>\n",
       "      <th>Quantity</th>\n",
       "      <th>unitario</th>\n",
       "    </tr>\n",
       "    <tr>\n",
       "      <th>Order Date</th>\n",
       "      <th></th>\n",
       "      <th></th>\n",
       "      <th></th>\n",
       "      <th></th>\n",
       "      <th></th>\n",
       "      <th></th>\n",
       "      <th></th>\n",
       "    </tr>\n",
       "  </thead>\n",
       "  <tbody>\n",
       "    <tr>\n",
       "      <th>2016-08-11</th>\n",
       "      <td>261.96</td>\n",
       "      <td>0.00</td>\n",
       "      <td>Furniture</td>\n",
       "      <td>United States</td>\n",
       "      <td>Henderson</td>\n",
       "      <td>2</td>\n",
       "      <td>130.98</td>\n",
       "    </tr>\n",
       "    <tr>\n",
       "      <th>2016-08-11</th>\n",
       "      <td>731.94</td>\n",
       "      <td>0.00</td>\n",
       "      <td>Furniture</td>\n",
       "      <td>United States</td>\n",
       "      <td>Henderson</td>\n",
       "      <td>3</td>\n",
       "      <td>243.98</td>\n",
       "    </tr>\n",
       "    <tr>\n",
       "      <th>2016-12-06</th>\n",
       "      <td>14.62</td>\n",
       "      <td>0.00</td>\n",
       "      <td>Office Supplies</td>\n",
       "      <td>United States</td>\n",
       "      <td>Los Angeles</td>\n",
       "      <td>2</td>\n",
       "      <td>7.31</td>\n",
       "    </tr>\n",
       "    <tr>\n",
       "      <th>2015-11-10</th>\n",
       "      <td>957.58</td>\n",
       "      <td>0.45</td>\n",
       "      <td>Furniture</td>\n",
       "      <td>United States</td>\n",
       "      <td>Fort Lauderdale</td>\n",
       "      <td>5</td>\n",
       "      <td>191.52</td>\n",
       "    </tr>\n",
       "    <tr>\n",
       "      <th>2015-11-10</th>\n",
       "      <td>22.37</td>\n",
       "      <td>0.20</td>\n",
       "      <td>Office Supplies</td>\n",
       "      <td>United States</td>\n",
       "      <td>Fort Lauderdale</td>\n",
       "      <td>2</td>\n",
       "      <td>11.18</td>\n",
       "    </tr>\n",
       "    <tr>\n",
       "      <th>...</th>\n",
       "      <td>...</td>\n",
       "      <td>...</td>\n",
       "      <td>...</td>\n",
       "      <td>...</td>\n",
       "      <td>...</td>\n",
       "      <td>...</td>\n",
       "      <td>...</td>\n",
       "    </tr>\n",
       "    <tr>\n",
       "      <th>2016-06-12</th>\n",
       "      <td>13.38</td>\n",
       "      <td>0.20</td>\n",
       "      <td>Office Supplies</td>\n",
       "      <td>United States</td>\n",
       "      <td>Los Angeles</td>\n",
       "      <td>4</td>\n",
       "      <td>3.34</td>\n",
       "    </tr>\n",
       "    <tr>\n",
       "      <th>2016-06-12</th>\n",
       "      <td>437.47</td>\n",
       "      <td>0.20</td>\n",
       "      <td>Office Supplies</td>\n",
       "      <td>United States</td>\n",
       "      <td>Los Angeles</td>\n",
       "      <td>14</td>\n",
       "      <td>31.25</td>\n",
       "    </tr>\n",
       "    <tr>\n",
       "      <th>2015-06-09</th>\n",
       "      <td>85.98</td>\n",
       "      <td>0.00</td>\n",
       "      <td>Furniture</td>\n",
       "      <td>United States</td>\n",
       "      <td>Lafayette</td>\n",
       "      <td>1</td>\n",
       "      <td>85.98</td>\n",
       "    </tr>\n",
       "    <tr>\n",
       "      <th>2017-03-08</th>\n",
       "      <td>16.52</td>\n",
       "      <td>0.20</td>\n",
       "      <td>Office Supplies</td>\n",
       "      <td>United States</td>\n",
       "      <td>Fairfield</td>\n",
       "      <td>5</td>\n",
       "      <td>3.30</td>\n",
       "    </tr>\n",
       "    <tr>\n",
       "      <th>2017-04-05</th>\n",
       "      <td>243.16</td>\n",
       "      <td>0.00</td>\n",
       "      <td>Office Supplies</td>\n",
       "      <td>United States</td>\n",
       "      <td>Westminster</td>\n",
       "      <td>2</td>\n",
       "      <td>121.58</td>\n",
       "    </tr>\n",
       "  </tbody>\n",
       "</table>\n",
       "<p>4042 rows × 7 columns</p>\n",
       "</div>"
      ],
      "text/plain": [
       "             Sales  Discount         Category        Country             City   \n",
       "Order Date                                                                      \n",
       "2016-08-11  261.96      0.00        Furniture  United States        Henderson  \\\n",
       "2016-08-11  731.94      0.00        Furniture  United States        Henderson   \n",
       "2016-12-06   14.62      0.00  Office Supplies  United States      Los Angeles   \n",
       "2015-11-10  957.58      0.45        Furniture  United States  Fort Lauderdale   \n",
       "2015-11-10   22.37      0.20  Office Supplies  United States  Fort Lauderdale   \n",
       "...            ...       ...              ...            ...              ...   \n",
       "2016-06-12   13.38      0.20  Office Supplies  United States      Los Angeles   \n",
       "2016-06-12  437.47      0.20  Office Supplies  United States      Los Angeles   \n",
       "2015-06-09   85.98      0.00        Furniture  United States        Lafayette   \n",
       "2017-03-08   16.52      0.20  Office Supplies  United States        Fairfield   \n",
       "2017-04-05  243.16      0.00  Office Supplies  United States      Westminster   \n",
       "\n",
       "            Quantity  unitario  \n",
       "Order Date                      \n",
       "2016-08-11         2    130.98  \n",
       "2016-08-11         3    243.98  \n",
       "2016-12-06         2      7.31  \n",
       "2015-11-10         5    191.52  \n",
       "2015-11-10         2     11.18  \n",
       "...              ...       ...  \n",
       "2016-06-12         4      3.34  \n",
       "2016-06-12        14     31.25  \n",
       "2015-06-09         1     85.98  \n",
       "2017-03-08         5      3.30  \n",
       "2017-04-05         2    121.58  \n",
       "\n",
       "[4042 rows x 7 columns]"
      ]
     },
     "execution_count": 241,
     "metadata": {},
     "output_type": "execute_result"
    }
   ],
   "source": [
    "data"
   ]
  },
  {
   "cell_type": "code",
   "execution_count": 242,
   "metadata": {},
   "outputs": [],
   "source": [
    "precos = data[['unitario','Quantity']]"
   ]
  },
  {
   "cell_type": "code",
   "execution_count": 243,
   "metadata": {},
   "outputs": [
    {
     "data": {
      "text/html": [
       "<div>\n",
       "<style scoped>\n",
       "    .dataframe tbody tr th:only-of-type {\n",
       "        vertical-align: middle;\n",
       "    }\n",
       "\n",
       "    .dataframe tbody tr th {\n",
       "        vertical-align: top;\n",
       "    }\n",
       "\n",
       "    .dataframe thead th {\n",
       "        text-align: right;\n",
       "    }\n",
       "</style>\n",
       "<table border=\"1\" class=\"dataframe\">\n",
       "  <thead>\n",
       "    <tr style=\"text-align: right;\">\n",
       "      <th></th>\n",
       "      <th>unitario</th>\n",
       "      <th>Quantity</th>\n",
       "    </tr>\n",
       "    <tr>\n",
       "      <th>Order Date</th>\n",
       "      <th></th>\n",
       "      <th></th>\n",
       "    </tr>\n",
       "  </thead>\n",
       "  <tbody>\n",
       "    <tr>\n",
       "      <th>2016-08-11</th>\n",
       "      <td>130.98</td>\n",
       "      <td>2</td>\n",
       "    </tr>\n",
       "    <tr>\n",
       "      <th>2016-08-11</th>\n",
       "      <td>243.98</td>\n",
       "      <td>3</td>\n",
       "    </tr>\n",
       "    <tr>\n",
       "      <th>2016-12-06</th>\n",
       "      <td>7.31</td>\n",
       "      <td>2</td>\n",
       "    </tr>\n",
       "    <tr>\n",
       "      <th>2015-11-10</th>\n",
       "      <td>191.52</td>\n",
       "      <td>5</td>\n",
       "    </tr>\n",
       "    <tr>\n",
       "      <th>2015-11-10</th>\n",
       "      <td>11.18</td>\n",
       "      <td>2</td>\n",
       "    </tr>\n",
       "    <tr>\n",
       "      <th>...</th>\n",
       "      <td>...</td>\n",
       "      <td>...</td>\n",
       "    </tr>\n",
       "    <tr>\n",
       "      <th>2016-06-12</th>\n",
       "      <td>3.34</td>\n",
       "      <td>4</td>\n",
       "    </tr>\n",
       "    <tr>\n",
       "      <th>2016-06-12</th>\n",
       "      <td>31.25</td>\n",
       "      <td>14</td>\n",
       "    </tr>\n",
       "    <tr>\n",
       "      <th>2015-06-09</th>\n",
       "      <td>85.98</td>\n",
       "      <td>1</td>\n",
       "    </tr>\n",
       "    <tr>\n",
       "      <th>2017-03-08</th>\n",
       "      <td>3.30</td>\n",
       "      <td>5</td>\n",
       "    </tr>\n",
       "    <tr>\n",
       "      <th>2017-04-05</th>\n",
       "      <td>121.58</td>\n",
       "      <td>2</td>\n",
       "    </tr>\n",
       "  </tbody>\n",
       "</table>\n",
       "<p>4042 rows × 2 columns</p>\n",
       "</div>"
      ],
      "text/plain": [
       "            unitario  Quantity\n",
       "Order Date                    \n",
       "2016-08-11    130.98         2\n",
       "2016-08-11    243.98         3\n",
       "2016-12-06      7.31         2\n",
       "2015-11-10    191.52         5\n",
       "2015-11-10     11.18         2\n",
       "...              ...       ...\n",
       "2016-06-12      3.34         4\n",
       "2016-06-12     31.25        14\n",
       "2015-06-09     85.98         1\n",
       "2017-03-08      3.30         5\n",
       "2017-04-05    121.58         2\n",
       "\n",
       "[4042 rows x 2 columns]"
      ]
     },
     "execution_count": 243,
     "metadata": {},
     "output_type": "execute_result"
    }
   ],
   "source": [
    "precos"
   ]
  },
  {
   "cell_type": "code",
   "execution_count": 244,
   "metadata": {},
   "outputs": [
    {
     "data": {
      "text/plain": [
       "<Axes: xlabel='Order Date'>"
      ]
     },
     "execution_count": 244,
     "metadata": {},
     "output_type": "execute_result"
    },
    {
     "data": {
      "image/png": "[encoded data removed]",
      "text/plain": [
       "<Figure size 1500x500 with 1 Axes>"
      ]
     },
     "metadata": {},
     "output_type": "display_data"
    }
   ],
   "source": [
    "\n",
    "endog = precos['unitario']\n",
    "endog.plot(figsize=(15, 5))"
   ]
  },
  {
   "cell_type": "code",
   "execution_count": 245,
   "metadata": {},
   "outputs": [],
   "source": [
    "y = precos['unitario']\n",
    "x = precos['Quantity']\n",
    "x = sm.add_constant(x)"
   ]
  },
  {
   "cell_type": "code",
   "execution_count": 246,
   "metadata": {},
   "outputs": [
    {
     "name": "stdout",
     "output_type": "stream",
     "text": [
      "                            OLS Regression Results                            \n",
      "==============================================================================\n",
      "Dep. Variable:               unitario   R-squared:                       0.000\n",
      "Model:                            OLS   Adj. R-squared:                 -0.000\n",
      "Method:                 Least Squares   F-statistic:                    0.8120\n",
      "Date:                Wed, 26 Apr 2023   Prob (F-statistic):              0.368\n",
      "Time:                        13:51:56   Log-Likelihood:                -25556.\n",
      "No. Observations:                4042   AIC:                         5.112e+04\n",
      "Df Residuals:                    4040   BIC:                         5.113e+04\n",
      "Df Model:                           1                                         \n",
      "Covariance Type:            nonrobust                                         \n",
      "==============================================================================\n",
      "                 coef    std err          t      P>|t|      [0.025      0.975]\n",
      "------------------------------------------------------------------------------\n",
      "const         62.6699      4.212     14.878      0.000      54.412      70.928\n",
      "Quantity      -0.8701      0.966     -0.901      0.368      -2.763       1.023\n",
      "==============================================================================\n",
      "Omnibus:                     6351.414   Durbin-Watson:                   1.999\n",
      "Prob(Omnibus):                  0.000   Jarque-Bera (JB):          4856510.784\n",
      "Skew:                           9.841   Prob(JB):                         0.00\n",
      "Kurtosis:                     171.668   Cond. No.                         9.01\n",
      "==============================================================================\n",
      "\n",
      "Notes:\n",
      "[1] Standard Errors assume that the covariance matrix of the errors is correctly specified.\n"
     ]
    }
   ],
   "source": [
    "olsmod = sm.OLS(y, x)\n",
    "olsres = olsmod.fit()\n",
    "print(olsres.summary())"
   ]
  },
  {
   "cell_type": "code",
   "execution_count": 247,
   "metadata": {},
   "outputs": [],
   "source": [
    "ypred = olsres.predict(x)\n",
    "precos['previsao'] = ypred"
   ]
  },
  {
   "cell_type": "code",
   "execution_count": 248,
   "metadata": {},
   "outputs": [
    {
     "data": {
      "text/html": [
       "<div>\n",
       "<style scoped>\n",
       "    .dataframe tbody tr th:only-of-type {\n",
       "        vertical-align: middle;\n",
       "    }\n",
       "\n",
       "    .dataframe tbody tr th {\n",
       "        vertical-align: top;\n",
       "    }\n",
       "\n",
       "    .dataframe thead th {\n",
       "        text-align: right;\n",
       "    }\n",
       "</style>\n",
       "<table border=\"1\" class=\"dataframe\">\n",
       "  <thead>\n",
       "    <tr style=\"text-align: right;\">\n",
       "      <th></th>\n",
       "      <th>unitario</th>\n",
       "      <th>Quantity</th>\n",
       "      <th>previsao</th>\n",
       "    </tr>\n",
       "    <tr>\n",
       "      <th>Order Date</th>\n",
       "      <th></th>\n",
       "      <th></th>\n",
       "      <th></th>\n",
       "    </tr>\n",
       "  </thead>\n",
       "  <tbody>\n",
       "    <tr>\n",
       "      <th>2016-08-11</th>\n",
       "      <td>130.98</td>\n",
       "      <td>2</td>\n",
       "      <td>60.929833</td>\n",
       "    </tr>\n",
       "    <tr>\n",
       "      <th>2016-08-11</th>\n",
       "      <td>243.98</td>\n",
       "      <td>3</td>\n",
       "      <td>60.059779</td>\n",
       "    </tr>\n",
       "    <tr>\n",
       "      <th>2016-12-06</th>\n",
       "      <td>7.31</td>\n",
       "      <td>2</td>\n",
       "      <td>60.929833</td>\n",
       "    </tr>\n",
       "    <tr>\n",
       "      <th>2015-11-10</th>\n",
       "      <td>191.52</td>\n",
       "      <td>5</td>\n",
       "      <td>58.319671</td>\n",
       "    </tr>\n",
       "    <tr>\n",
       "      <th>2015-11-10</th>\n",
       "      <td>11.18</td>\n",
       "      <td>2</td>\n",
       "      <td>60.929833</td>\n",
       "    </tr>\n",
       "    <tr>\n",
       "      <th>...</th>\n",
       "      <td>...</td>\n",
       "      <td>...</td>\n",
       "      <td>...</td>\n",
       "    </tr>\n",
       "    <tr>\n",
       "      <th>2016-06-12</th>\n",
       "      <td>3.34</td>\n",
       "      <td>4</td>\n",
       "      <td>59.189725</td>\n",
       "    </tr>\n",
       "    <tr>\n",
       "      <th>2016-06-12</th>\n",
       "      <td>31.25</td>\n",
       "      <td>14</td>\n",
       "      <td>50.489184</td>\n",
       "    </tr>\n",
       "    <tr>\n",
       "      <th>2015-06-09</th>\n",
       "      <td>85.98</td>\n",
       "      <td>1</td>\n",
       "      <td>61.799888</td>\n",
       "    </tr>\n",
       "    <tr>\n",
       "      <th>2017-03-08</th>\n",
       "      <td>3.30</td>\n",
       "      <td>5</td>\n",
       "      <td>58.319671</td>\n",
       "    </tr>\n",
       "    <tr>\n",
       "      <th>2017-04-05</th>\n",
       "      <td>121.58</td>\n",
       "      <td>2</td>\n",
       "      <td>60.929833</td>\n",
       "    </tr>\n",
       "  </tbody>\n",
       "</table>\n",
       "<p>4042 rows × 3 columns</p>\n",
       "</div>"
      ],
      "text/plain": [
       "            unitario  Quantity   previsao\n",
       "Order Date                               \n",
       "2016-08-11    130.98         2  60.929833\n",
       "2016-08-11    243.98         3  60.059779\n",
       "2016-12-06      7.31         2  60.929833\n",
       "2015-11-10    191.52         5  58.319671\n",
       "2015-11-10     11.18         2  60.929833\n",
       "...              ...       ...        ...\n",
       "2016-06-12      3.34         4  59.189725\n",
       "2016-06-12     31.25        14  50.489184\n",
       "2015-06-09     85.98         1  61.799888\n",
       "2017-03-08      3.30         5  58.319671\n",
       "2017-04-05    121.58         2  60.929833\n",
       "\n",
       "[4042 rows x 3 columns]"
      ]
     },
     "execution_count": 248,
     "metadata": {},
     "output_type": "execute_result"
    }
   ],
   "source": [
    "precos"
   ]
  },
  {
   "cell_type": "code",
   "execution_count": 249,
   "metadata": {},
   "outputs": [
    {
     "data": {
      "text/plain": [
       "<Axes: xlabel='Order Date'>"
      ]
     },
     "execution_count": 249,
     "metadata": {},
     "output_type": "execute_result"
    },
    {
     "data": {
      "image/png": "[encoded data removed]",
      "text/plain": [
       "<Figure size 1600x800 with 1 Axes>"
      ]
     },
     "metadata": {},
     "output_type": "display_data"
    }
   ],
   "source": [
    "precos.plot()"
   ]
  },
  {
   "cell_type": "code",
   "execution_count": 250,
   "metadata": {},
   "outputs": [
    {
     "name": "stdout",
     "output_type": "stream",
     "text": [
      "                               SARIMAX Results                                \n",
      "==============================================================================\n",
      "Dep. Variable:               unitario   No. Observations:                 4042\n",
      "Model:               SARIMAX(1, 0, 0)   Log Likelihood              -25860.640\n",
      "Date:                Wed, 26 Apr 2023   AIC                          51725.280\n",
      "Time:                        13:51:56   BIC                          51737.889\n",
      "Sample:                             0   HQIC                         51729.747\n",
      "                               - 4042                                         \n",
      "Covariance Type:                  opg                                         \n",
      "==============================================================================\n",
      "                 coef    std err          z      P>|z|      [0.025      0.975]\n",
      "------------------------------------------------------------------------------\n",
      "ar.L1          0.1629      0.012     13.351      0.000       0.139       0.187\n",
      "sigma2      2.112e+04     57.076    370.088      0.000     2.1e+04    2.12e+04\n",
      "===================================================================================\n",
      "Ljung-Box (L1) (Q):                 100.47   Jarque-Bera (JB):           4420702.75\n",
      "Prob(Q):                              0.00   Prob(JB):                         0.00\n",
      "Heteroskedasticity (H):               1.16   Skew:                             9.47\n",
      "Prob(H) (two-sided):                  0.01   Kurtosis:                       163.90\n",
      "===================================================================================\n",
      "\n",
      "Warnings:\n",
      "[1] Covariance matrix calculated using the outer product of gradients (complex-step).\n"
     ]
    }
   ],
   "source": [
    "mod = sm.tsa.SARIMAX(endog)\n",
    "res = mod.fit()\n",
    "\n",
    "print(res.summary())\n"
   ]
  },
  {
   "cell_type": "code",
   "execution_count": null,
   "metadata": {},
   "outputs": [],
   "source": []
  }
 ],
 "metadata": {
  "kernelspec": {
   "display_name": "venv",
   "language": "python",
   "name": "python3"
  },
  "language_info": {
   "codemirror_mode": {
    "name": "ipython",
    "version": 3
   },
   "file_extension": ".py",
   "mimetype": "text/x-python",
   "name": "python",
   "nbconvert_exporter": "python",
   "pygments_lexer": "ipython3",
   "version": "3.11.2"
  },
  "orig_nbformat": 4
 },
 "nbformat": 4,
 "nbformat_minor": 2
}
