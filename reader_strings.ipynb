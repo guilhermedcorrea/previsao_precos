{
 "cells": [
  {
   "cell_type": "code",
   "execution_count": null,
   "metadata": {},
   "outputs": [],
   "source": [
    "\n",
    "import pandas as pd\n",
    "\n",
    "perguntas = pd.read_csv(\"stackoverflow_perguntas.csv\")\n",
    "perguntas.sample(10)"
   ]
  },
  {
   "cell_type": "code",
   "execution_count": null,
   "metadata": {},
   "outputs": [],
   "source": [
    "print(len(perguntas))"
   ]
  },
  {
   "cell_type": "code",
   "execution_count": null,
   "metadata": {},
   "outputs": [],
   "source": [
    "perguntas.Tags.unique()"
   ]
  },
  {
   "cell_type": "code",
   "execution_count": null,
   "metadata": {},
   "outputs": [],
   "source": [
    "lista_de_tags = list()\n",
    "for tags in perguntas.Tags.unique():\n",
    "    for tag in tags.split():\n",
    "        if tag not in lista_de_tags:\n",
    "            lista_de_tags.append(tag)\n",
    "        \n",
    "print(lista_de_tags)"
   ]
  },
  {
   "cell_type": "code",
   "execution_count": null,
   "metadata": {},
   "outputs": [],
   "source": [
    "\n",
    "node_js = list()\n",
    "for linha_tag in perguntas.Tags:\n",
    "    if \"node.js\" in linha_tag:\n",
    "        node_js.append(1)\n",
    "    else:\n",
    "        node_js.append(0)\n",
    "perguntas[\"node.js\"] = node_js\n",
    "perguntas"
   ]
  },
  {
   "cell_type": "code",
   "execution_count": null,
   "metadata": {},
   "outputs": [],
   "source": [
    "\n",
    "def nova_coluna(lista_tags, dataframe, nome_tags):\n",
    "    for tag in lista_tags:\n",
    "        coluna = list()\n",
    "        for linha_tag in dataframe[nome_tags]:\n",
    "            if tag in linha_tag:\n",
    "                coluna.append(1)\n",
    "            else:\n",
    "                coluna.append(0)\n",
    "        dataframe[tag] = coluna\n",
    "nova_coluna(lista_de_tags, perguntas, \"Tags\")\n",
    "perguntas.sample(10)"
   ]
  },
  {
   "cell_type": "code",
   "execution_count": null,
   "metadata": {},
   "outputs": [],
   "source": [
    "from sklearn.model_selection import train_test_split\n",
    "\n",
    "perguntas_treino, perguntas_test, tags_treino, tags_teste = train_test_split(\n",
    "    perguntas.Peguntas,\n",
    "    perguntas.Tags\n",
    ")"
   ]
  },
  {
   "cell_type": "code",
   "execution_count": null,
   "metadata": {},
   "outputs": [],
   "source": [
    "\n",
    "lista_1 = [1,2]\n",
    "lista_2 = [5,4]\n",
    "lista_zip = zip(lista_1, lista_2)\n",
    "print(list(lista_zip))"
   ]
  },
  {
   "cell_type": "code",
   "execution_count": null,
   "metadata": {},
   "outputs": [],
   "source": [
    "\n",
    "lista_zip_tags = list(zip(perguntas[lista_de_tags[0]],\n",
    "                     perguntas[lista_de_tags[1]],\n",
    "                     perguntas[lista_de_tags[2]],\n",
    "                     perguntas[lista_de_tags[3]]))\n",
    "\n",
    "perguntas[\"todas_tags\"] = lista_zip_tags\n",
    "perguntas.sample(10)"
   ]
  },
  {
   "cell_type": "code",
   "execution_count": null,
   "metadata": {},
   "outputs": [],
   "source": [
    "lista_de_tags"
   ]
  },
  {
   "cell_type": "code",
   "execution_count": null,
   "metadata": {},
   "outputs": [],
   "source": [
    "\n",
    "from sklearn.model_selection import train_test_split\n",
    "\n",
    "perguntas_treino, perguntas_test, tags_treino, tags_teste = train_test_split(\n",
    "    perguntas.Perguntas,\n",
    "    perguntas.todas_tags,\n",
    "    test_size = 0.2,\n",
    "    random_state = 123\n",
    ")"
   ]
  },
  {
   "cell_type": "code",
   "execution_count": null,
   "metadata": {},
   "outputs": [],
   "source": [
    "\n",
    "from sklearn.feature_extraction.text import TfidfVectorizer\n",
    "\n",
    "vetorizar = TfidfVectorizer(max_features=5000, max_df=0.85)\n",
    "vetorizar"
   ]
  },
  {
   "cell_type": "code",
   "execution_count": null,
   "metadata": {},
   "outputs": [],
   "source": [
    "vetorizar.fit(perguntas.Perguntas)\n",
    "perguntas_treino_tfidf = vetorizar.transform(perguntas_treino)\n",
    "perguntas_test_tfidf = vetorizar.transform(perguntas_test)\n",
    "print(perguntas_treino_tfidf.shape)\n",
    "print(perguntas_test_tfidf.shape)"
   ]
  },
  {
   "cell_type": "code",
   "execution_count": null,
   "metadata": {},
   "outputs": [],
   "source": [
    "\n",
    "from sklearn.multiclass import OneVsRestClassifier\n",
    "from sklearn.linear_model import LogisticRegression\n",
    "\n",
    "regressao_logistica = LogisticRegression()\n",
    "classificador_onevsrest = OneVsRestClassifier(regressao_logistica)\n",
    "classificador_onevsrest.fit(perguntas_treino_tfidf, tags_treino)"
   ]
  },
  {
   "cell_type": "code",
   "execution_count": null,
   "metadata": {},
   "outputs": [],
   "source": [
    "type(tags_treino)\n"
   ]
  },
  {
   "cell_type": "code",
   "execution_count": null,
   "metadata": {},
   "outputs": [],
   "source": [
    "\n",
    "import numpy as np\n",
    "\n",
    "tags_treino_array = np.asarray(list(tags_treino))\n",
    "tags_teste_array = np.asarray(list(tags_teste))\n",
    "print(tags_treino_array)\n",
    "print(type(tags_treino_array))"
   ]
  },
  {
   "cell_type": "code",
   "execution_count": null,
   "metadata": {},
   "outputs": [],
   "source": [
    "\n",
    "from sklearn.multiclass import OneVsRestClassifier\n",
    "from sklearn.linear_model import LogisticRegression\n",
    "\n",
    "regressao_logistica = LogisticRegression(solver = 'lbfgs')\n",
    "classificador_onevsrest = OneVsRestClassifier(regressao_logistica)\n",
    "classificador_onevsrest.fit(perguntas_treino_tfidf, tags_treino_array)\n",
    "resultado_onevsrest = classificador_onevsrest.score(perguntas_test_tfidf, tags_teste_array)\n",
    "print(\"Resultado {0: .2f}%\".format(resultado_onevsrest*100))"
   ]
  },
  {
   "cell_type": "code",
   "execution_count": null,
   "metadata": {},
   "outputs": [],
   "source": [
    "len(perguntas.todas_tags.unique())\n"
   ]
  },
  {
   "cell_type": "code",
   "execution_count": null,
   "metadata": {},
   "outputs": [],
   "source": [
    "\n",
    "from sklearn.metrics import hamming_loss\n",
    "\n",
    "previsao_onevsrest = classificador_onevsrest.predict(perguntas_test_tfidf)\n",
    "hamming_loss_onevsrest = hamming_loss(tags_teste_array, previsao_onevsrest)\n",
    "print(\"Hamming Loss {0: .2f}\".format(hamming_loss_onevsrest))"
   ]
  },
  {
   "cell_type": "code",
   "execution_count": null,
   "metadata": {},
   "outputs": [],
   "source": [
    "\n",
    "perguntas.corr()"
   ]
  },
  {
   "cell_type": "code",
   "execution_count": null,
   "metadata": {},
   "outputs": [],
   "source": [
    "\n",
    "from skmultilearn.problem_transform import ClassifierChain\n",
    "\n",
    "classificador_cadeia = ClassifierChain(regressao_logistica)\n",
    "classificador_cadeia.fit(perguntas_treino_tfidf, tags_treino_array)\n",
    "resultado_cadeia = classificador_cadeia.score(perguntas_test_tfidf, tags_teste_array)\n",
    "previsao_cadeia = classificador_cadeia.predict(perguntas_test_tfidf)\n",
    "hamming_loss_cadeia = hamming_loss(tags_teste_array, previsao_cadeia)\n",
    "print(\"Hamming Loss {0: .2f}\".format(hamming_loss_cadeia))\n",
    "print(\"Resultado {0: .2f}%\".format(resultado_cadeia*100))"
   ]
  },
  {
   "cell_type": "code",
   "execution_count": null,
   "metadata": {},
   "outputs": [],
   "source": [
    "\n",
    "from skmultilearn.problem_transform import BinaryRelevance\n",
    "\n",
    "classificador_br = BinaryRelevance(regressao_logistica)\n",
    "classificador_br.fit(perguntas_treino_tfidf, tags_treino_array)\n",
    "resultado_br = classificador_br.score(perguntas_test_tfidf, tags_teste_array)\n",
    "previsao_br = classificador_br.predict(perguntas_test_tfidf)\n",
    "hamming_loss_br = hamming_loss(tags_teste_array, previsao_br)\n",
    "print(\"Hamming Loss {0: .2f}\".format(hamming_loss_br))\n",
    "print(\"Resultado {0: .2f}%\".format(resultado_br*100))"
   ]
  },
  {
   "cell_type": "code",
   "execution_count": null,
   "metadata": {},
   "outputs": [],
   "source": [
    "\n",
    "from skmultilearn.adapt import MLkNN\n",
    "\n",
    "classificador_mlknn = MLkNN()\n",
    "classificador_mlknn.fit(perguntas_treino_tfidf, tags_treino_array)\n",
    "resultado_mlknn = classificador_mlknn.score(perguntas_test_tfidf, tags_teste_array)\n",
    "previsao_mlknn = classificador_mlknn.predict(perguntas_test_tfidf)\n",
    "hamming_loss_mlknn = hamming_loss(tags_teste_array, previsao_cadeia)\n",
    "print(\"Hamming Loss {0: .2f}\".format(hamming_loss_mlknn))\n",
    "print(\"Resultado {0: .2f}%\".format(resultado_mlknn*100))"
   ]
  },
  {
   "cell_type": "code",
   "execution_count": null,
   "metadata": {},
   "outputs": [],
   "source": [
    "\n",
    "print(\"Hamming Loss cadeia {0: .2f}\".format(hamming_loss_cadeia))\n",
    "print(\"Resultado cadeia {0: .2f}%\".format(resultado_cadeia*100))"
   ]
  },
  {
   "cell_type": "code",
   "execution_count": null,
   "metadata": {},
   "outputs": [],
   "source": [
    "\n",
    "print(\"Hamming Loss br {0: .2f}\".format(hamming_loss_br))\n",
    "print(\"Resultado br {0: .2f}%\".format(resultado_br*100))"
   ]
  },
  {
   "cell_type": "code",
   "execution_count": null,
   "metadata": {},
   "outputs": [],
   "source": [
    "\n",
    "resultados_classificacao = pd.DataFrame()\n",
    "resultados_classificacao[\"perguntas\"] = perguntas_test.values\n",
    "resultados_classificacao[\"tags real\"] = list(tags_teste)\n",
    "resultados_classificacao[\"BR\"] = list(previsao_br.toarray())\n",
    "resultados_classificacao[\"cadeia\"] = list(previsao_cadeia.toarray())\n",
    "resultados_classificacao[\"mlknn\"] = list(previsao_mlknn.toarray())\n",
    "resultados_classificacao"
   ]
  },
  {
   "cell_type": "code",
   "execution_count": null,
   "metadata": {},
   "outputs": [],
   "source": [
    "\n",
    "previsao_br"
   ]
  },
  {
   "cell_type": "code",
   "execution_count": null,
   "metadata": {},
   "outputs": [],
   "source": [
    "resultados_classificacao.iloc[1]\n"
   ]
  },
  {
   "cell_type": "code",
   "execution_count": null,
   "metadata": {},
   "outputs": [],
   "source": [
    "resultados_classificacao.perguntas[1]\n"
   ]
  },
  {
   "cell_type": "code",
   "execution_count": null,
   "metadata": {},
   "outputs": [],
   "source": []
  }
 ],
 "metadata": {
  "language_info": {
   "name": "python"
  },
  "orig_nbformat": 4
 },
 "nbformat": 4,
 "nbformat_minor": 2
}
